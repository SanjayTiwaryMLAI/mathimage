{
 "cells": [
  {
   "cell_type": "code",
   "execution_count": 66,
   "id": "8be53876-7e52-4d85-920e-58e12aa4e5ca",
   "metadata": {
    "tags": []
   },
   "outputs": [],
   "source": [
    "import boto3\n",
    "import os\n",
    "import json\n",
    "import docx\n",
    "from IPython.display import Markdown, display\n",
    "import re\n",
    "import matplotlib.pyplot as plt\n",
    "import matplotlib.image as mpimg\n",
    "\n",
    "region = os.environ.get(\"AWS_REGION\")\n",
    "boto3_bedrock = boto3.client(service_name='bedrock-runtime')\n",
    "from claude3 import Analyticsfunction, extract_python_code\n",
    "\n",
    "obj = Analyticsfunction()   \n",
    "claude3 = obj.call_claude_sonet_text"
   ]
  },
  {
   "cell_type": "code",
   "execution_count": 67,
   "id": "19faa1ee",
   "metadata": {},
   "outputs": [],
   "source": [
    "# !python3 -m pip install boto3\n",
    "# !python3 -m pip install python-docx\n"
   ]
  },
  {
   "cell_type": "code",
   "execution_count": 68,
   "id": "99c32074-9114-41dd-8c24-ca14aaddec14",
   "metadata": {
    "tags": []
   },
   "outputs": [],
   "source": [
    "def getText(filename):\n",
    "    doc = docx.Document(filename)\n",
    "    fullText = []\n",
    "    for para in doc.paragraphs:\n",
    "        fullText.append(para.text)\n",
    "        \n",
    "    return '\\n'.join(fullText)"
   ]
  },
  {
   "cell_type": "code",
   "execution_count": 69,
   "id": "d403cb5d-bc66-4e76-9839-26341ab24911",
   "metadata": {
    "tags": []
   },
   "outputs": [],
   "source": [
    "note = getText(\"Vector-notes.docx\")"
   ]
  },
  {
   "cell_type": "code",
   "execution_count": null,
   "id": "89398aab",
   "metadata": {},
   "outputs": [],
   "source": []
  },
  {
   "cell_type": "code",
   "execution_count": 70,
   "id": "15fa86b9-d10a-4454-a582-2d4192aa807e",
   "metadata": {
    "tags": []
   },
   "outputs": [
    {
     "data": {
      "text/markdown": [
       "Here are two multiple choice questions based on the given text:\n",
       "\n",
       "1. What is the scalar triple product of three vectors a, b, and c?\n",
       "(a) a · (b × c)\n",
       "(b) (a × b) · c\n",
       "(c) a · b × c\n",
       "(d) Both (a) and (b)\n",
       "\n",
       "2. If three vectors a, b, and c are coplanar, then:\n",
       "(a) a · (b × c) = 0\n",
       "(b) (a × b) · c = 0  \n",
       "(c) a · b × c = 0\n",
       "(d) All of the above\n",
       "\n",
       "Answers:\n",
       "1. (d) Both (a) and (b)\n",
       "2. (a) a · (b × c) = 0"
      ],
      "text/plain": [
       "<IPython.core.display.Markdown object>"
      ]
     },
     "metadata": {},
     "output_type": "display_data"
    }
   ],
   "source": [
    "prompt =f'''Human: create question 2 multiple choice question and answer\n",
    "\n",
    "<book>\n",
    "{note}\n",
    "</book>\n",
    "\n",
    "Assistant:'''\n",
    "\n",
    "body = json.dumps({\"prompt\": prompt, \"max_tokens_to_sample\": 1000, \"temperature\": 0.8})\n",
    "text = claude3(body)\n",
    "display(Markdown(text))"
   ]
  },
  {
   "cell_type": "code",
   "execution_count": 71,
   "id": "b1837e0a-aeee-4c4d-b8ce-f296f7733a5a",
   "metadata": {
    "tags": []
   },
   "outputs": [],
   "source": [
    "context = \"ABCDEF is a hexagon (six-sided polygon). Find the value of AB+BC+CD+DE+AF+FE+AE \""
   ]
  },
  {
   "cell_type": "code",
   "execution_count": 72,
   "id": "b6b5d747-baee-41ea-aa8d-3e3500a0958c",
   "metadata": {
    "tags": []
   },
   "outputs": [],
   "source": [
    "prompt = f'''Human: Write Python code to draw a image using Seaborn.\n",
    "1. Save the plot as a JPG image.\n",
    "2. Provide context within the image at the top.\n",
    "3. Ensure the drawn shape is correct.\n",
    "4. Complete all edges in the drawing.\n",
    "5. Maintain proper alignment for mathematical clarity.\n",
    "6. Optionally, label each edge (e.g., A, B, etc.).\n",
    "7. Ensure that lines representing shapes do not intersect.\n",
    "8. the context should be written on the top of the image.\n",
    "9. Never overlap the image and context\n",
    "\n",
    "<context>\n",
    "{context}\n",
    "</context>\n",
    "\n",
    "Assistant:'''"
   ]
  },
  {
   "cell_type": "code",
   "execution_count": 73,
   "id": "9a7291dc-6487-4cfa-b1e1-1f23f9273360",
   "metadata": {
    "tags": []
   },
   "outputs": [],
   "source": [
    "text = claude3(body)"
   ]
  },
  {
   "cell_type": "code",
   "execution_count": 74,
   "id": "4c82b4e4-5b6e-454e-aaf7-32560d9999e7",
   "metadata": {
    "tags": []
   },
   "outputs": [],
   "source": [
    "output_file = \"output_python_code.py\"  # Change this to your output file\n",
    "extract_python_code(text, output_file)"
   ]
  },
  {
   "cell_type": "code",
   "execution_count": 75,
   "id": "d8a31dc5-8b27-41c5-b757-7866bb67c323",
   "metadata": {
    "tags": []
   },
   "outputs": [
    {
     "data": {
      "text/markdown": [
       "Here are two multiple choice questions based on the given text:\n",
       "\n",
       "1. What is the scalar triple product of three vectors a, b and c?\n",
       "(a) a.(b x c)\n",
       "(b) (a x b).c\n",
       "(c) a x (b x c)\n",
       "(d) Both (a) and (b)\n",
       "\n",
       "2. If three vectors a, b and c are coplanar, then:\n",
       "(1) a.(b x c) = 0\n",
       "(2) (a x b).c = 0  \n",
       "(3) a x (b x c) = 0\n",
       "(4) Both (1) and (2)\n",
       "\n",
       "Answers:\n",
       "1. (d) Both (a) and (b)\n",
       "2. (4) Both (1) and (2)"
      ],
      "text/plain": [
       "<IPython.core.display.Markdown object>"
      ]
     },
     "metadata": {},
     "output_type": "display_data"
    }
   ],
   "source": [
    "display(Markdown(text))"
   ]
  },
  {
   "cell_type": "code",
   "execution_count": 76,
   "id": "0314dfe4-1d21-4dff-bbaf-d690170da1fa",
   "metadata": {
    "tags": []
   },
   "outputs": [],
   "source": [
    "!python3 output_python_code.py"
   ]
  },
  {
   "cell_type": "code",
   "execution_count": 77,
   "id": "8212793b",
   "metadata": {},
   "outputs": [],
   "source": [
    "# !python3 -m pip install seaborn"
   ]
  },
  {
   "cell_type": "code",
   "execution_count": 78,
   "id": "df7c6908-1744-4f88-ab48-a9db82f0fe6d",
   "metadata": {
    "tags": []
   },
   "outputs": [
    {
     "data": {
      "image/png": "[encoded data removed]",
      "text/plain": [
       "<Figure size 640x480 with 1 Axes>"
      ]
     },
     "metadata": {},
     "output_type": "display_data"
    }
   ],
   "source": [
    "# Load the image\n",
    "img = mpimg.imread('hexagon.jpg')\n",
    "\n",
    "# Display the image\n",
    "plt.imshow(img)\n",
    "plt.axis('off')  # Hide axis ticks and labels\n",
    "plt.show()"
   ]
  },
  {
   "cell_type": "code",
   "execution_count": 79,
   "id": "826dcec2-4de3-4059-bf42-51c6706daf10",
   "metadata": {
    "tags": []
   },
   "outputs": [],
   "source": [
    "context = \"If the position vectors of the vertices A, B, and C of a triangle △ABC are αi+βj+γk, βi+γj+αk, and γi+αj+βk respectively, then △ABC is \""
   ]
  },
  {
   "cell_type": "code",
   "execution_count": 80,
   "id": "b002bf28-701c-47cf-bff0-c3f4bc9b2d37",
   "metadata": {
    "tags": []
   },
   "outputs": [],
   "source": [
    "prompt = f'''Human: Write Python code to draw a image using Seaborn.\n",
    "1. Save the plot as a JPG image.\n",
    "2. Provide context within the image at the top.\n",
    "3. Ensure the drawn shape is correct.\n",
    "4. Complete all edges in the drawing.\n",
    "5. Maintain proper alignment for mathematical clarity.\n",
    "6. Optionally, label each edge (e.g., A, B, etc.).\n",
    "7. Ensure that lines representing shapes do not intersect.\n",
    "8. the context should be written on the top of the image.\n",
    "9. Never overlap the image and context\n",
    "\n",
    "<context>\n",
    "{context}\n",
    "</context>\n",
    "\n",
    "Assistant:'''"
   ]
  },
  {
   "cell_type": "code",
   "execution_count": 81,
   "id": "cc3db784-c309-4973-b1f9-25be141ef489",
   "metadata": {
    "tags": []
   },
   "outputs": [],
   "source": [
    "text = claude3(prompt)\n",
    "output_file = \"output_python_code_2.py\"\n",
    "extract_python_code(text, output_file)"
   ]
  },
  {
   "cell_type": "code",
   "execution_count": 82,
   "id": "1553bdb8-9e9c-4a19-a3af-f5bccf2d10a1",
   "metadata": {
    "tags": []
   },
   "outputs": [],
   "source": [
    "!python3 output_python_code_2.py"
   ]
  },
  {
   "cell_type": "code",
   "execution_count": 83,
   "id": "7ad6050c-48e5-4425-96ef-2aeaa6a04be4",
   "metadata": {
    "tags": []
   },
   "outputs": [
    {
     "data": {
      "text/markdown": [
       "Here's the Python code to draw the image using Seaborn, following the given instructions:\n",
       "\n",
       "```python\n",
       "import matplotlib.pyplot as plt\n",
       "import seaborn as sns\n",
       "import numpy as np\n",
       "\n",
       "# Set the context\n",
       "context = \"If the position vectors of the vertices A, B, and C of a triangle △ABC are αi+βj+γk, βi+γj+αk, and γi+αj+βk respectively, then △ABC is\"\n",
       "\n",
       "# Set up the figure\n",
       "fig, ax = plt.subplots(figsize=(8, 6))\n",
       "\n",
       "# Draw the triangle\n",
       "x = np.array([0, 2, 1])\n",
       "y = np.array([0, 0, 2])\n",
       "ax.plot(x, y, linewidth=2, color='black')\n",
       "ax.fill(x, y, alpha=0.2, color='gray')\n",
       "\n",
       "# Label the vertices\n",
       "ax.text(0, 0, 'A', fontsize=12, ha='right', va='bottom')\n",
       "ax.text(2, 0, 'B', fontsize=12, ha='left', va='bottom')\n",
       "ax.text(1, 2, 'C', fontsize=12, ha='center', va='top')\n",
       "\n",
       "# Add the context\n",
       "ax.text(0.5, 0.95, context, ha='center', va='top', transform=ax.transAxes, fontsize=12, wrap=True)\n",
       "\n",
       "# Remove axis ticks and spines\n",
       "ax.set_xticks([])\n",
       "ax.set_yticks([])\n",
       "ax.spines['top'].set_visible(False)\n",
       "ax.spines['right'].set_visible(False)\n",
       "ax.spines['bottom'].set_visible(False)\n",
       "ax.spines['left'].set_visible(False)\n",
       "\n",
       "# Set aspect ratio and adjust limits\n",
       "ax.set_aspect('equal', adjustable='box')\n",
       "ax.set_xlim([-0.5, 2.5])\n",
       "ax.set_ylim([-0.5, 2.5])\n",
       "\n",
       "# Save the plot as a JPG image\n",
       "plt.savefig('triangle.jpg', dpi=300, bbox_inches='tight')\n",
       "```\n",
       "\n",
       "This code will generate a JPG image named `triangle.jpg` with the following features:\n",
       "\n",
       "1. The context \"If the position vectors of the vertices A, B, and C of a triangle △ABC are αi+βj+γk, βi+γj+αk, and γi+αj+βk respectively, then △ABC is\" is written at the top of the image.\n",
       "2. The triangle is drawn with the correct shape, and all edges are complete.\n",
       "3. The vertices are labeled as A, B, and C.\n",
       "4. The lines representing the triangle do not intersect.\n",
       "5. The context and the image do not overlap.\n",
       "6. The alignment of the triangle is maintained for mathematical clarity.\n",
       "\n",
       "Note: The code assumes that you have Seaborn and Matplotlib installed. If not, you can install them using `pip install sea"
      ],
      "text/plain": [
       "<IPython.core.display.Markdown object>"
      ]
     },
     "metadata": {},
     "output_type": "display_data"
    }
   ],
   "source": [
    "display(Markdown(text))"
   ]
  },
  {
   "cell_type": "code",
   "execution_count": 84,
   "id": "1e779e69-763b-40aa-be12-54f78d385672",
   "metadata": {
    "tags": []
   },
   "outputs": [
    {
     "data": {
      "image/png": "[encoded data removed]",
      "text/plain": [
       "<Figure size 640x480 with 1 Axes>"
      ]
     },
     "metadata": {},
     "output_type": "display_data"
    }
   ],
   "source": [
    "import matplotlib.pyplot as plt\n",
    "import matplotlib.image as mpimg\n",
    "\n",
    "# Load the image\n",
    "img = mpimg.imread('triangle.jpg')\n",
    "\n",
    "# Display the image\n",
    "plt.imshow(img)\n",
    "plt.axis('off')  # Hide axis ticks and labels\n",
    "plt.show()"
   ]
  },
  {
   "cell_type": "code",
   "execution_count": 85,
   "id": "229cd599-ba3e-4daf-bed9-f4862dfa9924",
   "metadata": {
    "tags": []
   },
   "outputs": [],
   "source": [
    "context = \"If the adjacent sides of a parallelogram are 3i+2j and -i+4j+2k, find the area of the parallelogram.\""
   ]
  },
  {
   "cell_type": "code",
   "execution_count": null,
   "id": "c4962411",
   "metadata": {},
   "outputs": [],
   "source": []
  },
  {
   "cell_type": "code",
   "execution_count": 86,
   "id": "e1c214b8-99e0-4d5f-b48a-1702acb73dfa",
   "metadata": {
    "tags": []
   },
   "outputs": [],
   "source": [
    "prompt = f'''Human: Write Python code to draw a image using Seaborn.\n",
    "1. Save the plot as a JPG image.\n",
    "2. Provide context within the image at the top.\n",
    "3. Ensure the drawn shape is correct.\n",
    "4. Complete all edges in the drawing.\n",
    "5. Maintain proper alignment for mathematical clarity.\n",
    "6. Optionally, label each edge (e.g., A, B, etc.).\n",
    "7. Ensure that lines representing shapes do not intersect.\n",
    "8. the context should be written on the top of the image.\n",
    "9. Never overlap the image and context\n",
    "\n",
    "<context>\n",
    "{context}\n",
    "</context>\n",
    "\n",
    "Assistant:'''"
   ]
  },
  {
   "cell_type": "code",
   "execution_count": 87,
   "id": "24986ff4-feb7-4c19-ac0c-1829f297c9b0",
   "metadata": {
    "tags": []
   },
   "outputs": [],
   "source": [
    "text = claude3(prompt)"
   ]
  },
  {
   "cell_type": "code",
   "execution_count": 88,
   "id": "d18797b0-58e0-41fd-b4be-32057d868111",
   "metadata": {},
   "outputs": [],
   "source": [
    "output_file = \"output_python_code_3.py\"\n",
    "extract_python_code(text, output_file)"
   ]
  },
  {
   "cell_type": "code",
   "execution_count": 89,
   "id": "2d694a42-c6e4-4b0e-87e3-05a546f5463f",
   "metadata": {
    "tags": []
   },
   "outputs": [
    {
     "name": "stdout",
     "output_type": "stream",
     "text": [
      "Figure(800x600)\n"
     ]
    }
   ],
   "source": [
    "!python3 output_python_code_3.py"
   ]
  },
  {
   "cell_type": "code",
   "execution_count": 90,
   "id": "0b712b09-de7b-46d8-a968-f3b3a1218992",
   "metadata": {
    "tags": []
   },
   "outputs": [
    {
     "data": {
      "text/markdown": [
       "Here's the Python code to draw an image using Seaborn, following the given instructions:\n",
       "\n",
       "```python\n",
       "import numpy as np\n",
       "import matplotlib.pyplot as plt\n",
       "import seaborn as sns\n",
       "\n",
       "# Set the context\n",
       "context = \"If the adjacent sides of a parallelogram are 3i+2j and -i+4j+2k, find the area of the parallelogram.\"\n",
       "\n",
       "# Create a figure and axis\n",
       "fig, ax = plt.subplots(figsize=(8, 6))\n",
       "\n",
       "# Draw the parallelogram\n",
       "x = [0, 3, 2, -1]\n",
       "y = [0, 2, 6, 4]\n",
       "ax.plot(x, y, marker='o', markersize=10, color='black')\n",
       "ax.plot([x[0], x[-1]], [y[0], y[-1]], color='black')  # Complete the last edge\n",
       "\n",
       "# Label the edges (optional)\n",
       "ax.text(1.5, 1, 'A', fontsize=12, ha='center', va='center')\n",
       "ax.text(2.5, 4, 'B', fontsize=12, ha='center', va='center')\n",
       "ax.text(0.5, 5, 'C', fontsize=12, ha='center', va='center')\n",
       "ax.text(-0.5, 2, 'D', fontsize=12, ha='center', va='center')\n",
       "\n",
       "# Add context at the top\n",
       "ax.text(0, 1.05, context, transform=ax.transAxes, fontsize=12, ha='left', va='top')\n",
       "\n",
       "# Set axis limits and remove ticks\n",
       "ax.set_xlim([-2, 4])\n",
       "ax.set_ylim([-1, 7])\n",
       "ax.set_xticks([])\n",
       "ax.set_yticks([])\n",
       "\n",
       "# Save the plot as a JPG image\n",
       "plt.savefig('parallelogram.jpg', dpi=300, bbox_inches='tight')\n",
       "\n",
       "# Show the plot\n",
       "plt.show()\n",
       "```\n",
       "\n",
       "This code will generate an image of a parallelogram with the given context written at the top. The edges of the parallelogram are labeled with letters (A, B, C, D) for clarity. The image will be saved as `parallelogram.jpg` in the current directory.\n",
       "\n",
       "Note that the code assumes that the adjacent sides of the parallelogram are 3i+2j and -i+4j+2k, as specified in the context. If the sides are different, you'll need to adjust the coordinates (x and y lists) accordingly."
      ],
      "text/plain": [
       "<IPython.core.display.Markdown object>"
      ]
     },
     "metadata": {},
     "output_type": "display_data"
    }
   ],
   "source": [
    "display(Markdown(text))"
   ]
  },
  {
   "cell_type": "code",
   "execution_count": 91,
   "id": "032e452c-7031-45f6-b6fb-d6c35b41ffc8",
   "metadata": {
    "tags": []
   },
   "outputs": [
    {
     "data": {
      "image/png": "[encoded data removed]",
      "text/plain": [
       "<Figure size 640x480 with 1 Axes>"
      ]
     },
     "metadata": {},
     "output_type": "display_data"
    }
   ],
   "source": [
    "img = mpimg.imread('parallelogram.jpg')\n",
    "\n",
    "# Display the image\n",
    "plt.imshow(img)\n",
    "plt.axis('off')  # Hide axis ticks and labels\n",
    "plt.show()"
   ]
  },
  {
   "cell_type": "code",
   "execution_count": null,
   "id": "816779de",
   "metadata": {},
   "outputs": [],
   "source": []
  }
 ],
 "metadata": {
  "availableInstances": [
   {
    "_defaultOrder": 0,
    "_isFastLaunch": true,
    "category": "General purpose",
    "gpuNum": 0,
    "hideHardwareSpecs": false,
    "memoryGiB": 4,
    "name": "ml.t3.medium",
    "vcpuNum": 2
   },
   {
    "_defaultOrder": 1,
    "_isFastLaunch": false,
    "category": "General purpose",
    "gpuNum": 0,
    "hideHardwareSpecs": false,
    "memoryGiB": 8,
    "name": "ml.t3.large",
    "vcpuNum": 2
   },
   {
    "_defaultOrder": 2,
    "_isFastLaunch": false,
    "category": "General purpose",
    "gpuNum": 0,
    "hideHardwareSpecs": false,
    "memoryGiB": 16,
    "name": "ml.t3.xlarge",
    "vcpuNum": 4
   },
   {
    "_defaultOrder": 3,
    "_isFastLaunch": false,
    "category": "General purpose",
    "gpuNum": 0,
    "hideHardwareSpecs": false,
    "memoryGiB": 32,
    "name": "ml.t3.2xlarge",
    "vcpuNum": 8
   },
   {
    "_defaultOrder": 4,
    "_isFastLaunch": true,
    "category": "General purpose",
    "gpuNum": 0,
    "hideHardwareSpecs": false,
    "memoryGiB": 8,
    "name": "ml.m5.large",
    "vcpuNum": 2
   },
   {
    "_defaultOrder": 5,
    "_isFastLaunch": false,
    "category": "General purpose",
    "gpuNum": 0,
    "hideHardwareSpecs": false,
    "memoryGiB": 16,
    "name": "ml.m5.xlarge",
    "vcpuNum": 4
   },
   {
    "_defaultOrder": 6,
    "_isFastLaunch": false,
    "category": "General purpose",
    "gpuNum": 0,
    "hideHardwareSpecs": false,
    "memoryGiB": 32,
    "name": "ml.m5.2xlarge",
    "vcpuNum": 8
   },
   {
    "_defaultOrder": 7,
    "_isFastLaunch": false,
    "category": "General purpose",
    "gpuNum": 0,
    "hideHardwareSpecs": false,
    "memoryGiB": 64,
    "name": "ml.m5.4xlarge",
    "vcpuNum": 16
   },
   {
    "_defaultOrder": 8,
    "_isFastLaunch": false,
    "category": "General purpose",
    "gpuNum": 0,
    "hideHardwareSpecs": false,
    "memoryGiB": 128,
    "name": "ml.m5.8xlarge",
    "vcpuNum": 32
   },
   {
    "_defaultOrder": 9,
    "_isFastLaunch": false,
    "category": "General purpose",
    "gpuNum": 0,
    "hideHardwareSpecs": false,
    "memoryGiB": 192,
    "name": "ml.m5.12xlarge",
    "vcpuNum": 48
   },
   {
    "_defaultOrder": 10,
    "_isFastLaunch": false,
    "category": "General purpose",
    "gpuNum": 0,
    "hideHardwareSpecs": false,
    "memoryGiB": 256,
    "name": "ml.m5.16xlarge",
    "vcpuNum": 64
   },
   {
    "_defaultOrder": 11,
    "_isFastLaunch": false,
    "category": "General purpose",
    "gpuNum": 0,
    "hideHardwareSpecs": false,
    "memoryGiB": 384,
    "name": "ml.m5.24xlarge",
    "vcpuNum": 96
   },
   {
    "_defaultOrder": 12,
    "_isFastLaunch": false,
    "category": "General purpose",
    "gpuNum": 0,
    "hideHardwareSpecs": false,
    "memoryGiB": 8,
    "name": "ml.m5d.large",
    "vcpuNum": 2
   },
   {
    "_defaultOrder": 13,
    "_isFastLaunch": false,
    "category": "General purpose",
    "gpuNum": 0,
    "hideHardwareSpecs": false,
    "memoryGiB": 16,
    "name": "ml.m5d.xlarge",
    "vcpuNum": 4
   },
   {
    "_defaultOrder": 14,
    "_isFastLaunch": false,
    "category": "General purpose",
    "gpuNum": 0,
    "hideHardwareSpecs": false,
    "memoryGiB": 32,
    "name": "ml.m5d.2xlarge",
    "vcpuNum": 8
   },
   {
    "_defaultOrder": 15,
    "_isFastLaunch": false,
    "category": "General purpose",
    "gpuNum": 0,
    "hideHardwareSpecs": false,
    "memoryGiB": 64,
    "name": "ml.m5d.4xlarge",
    "vcpuNum": 16
   },
   {
    "_defaultOrder": 16,
    "_isFastLaunch": false,
    "category": "General purpose",
    "gpuNum": 0,
    "hideHardwareSpecs": false,
    "memoryGiB": 128,
    "name": "ml.m5d.8xlarge",
    "vcpuNum": 32
   },
   {
    "_defaultOrder": 17,
    "_isFastLaunch": false,
    "category": "General purpose",
    "gpuNum": 0,
    "hideHardwareSpecs": false,
    "memoryGiB": 192,
    "name": "ml.m5d.12xlarge",
    "vcpuNum": 48
   },
   {
    "_defaultOrder": 18,
    "_isFastLaunch": false,
    "category": "General purpose",
    "gpuNum": 0,
    "hideHardwareSpecs": false,
    "memoryGiB": 256,
    "name": "ml.m5d.16xlarge",
    "vcpuNum": 64
   },
   {
    "_defaultOrder": 19,
    "_isFastLaunch": false,
    "category": "General purpose",
    "gpuNum": 0,
    "hideHardwareSpecs": false,
    "memoryGiB": 384,
    "name": "ml.m5d.24xlarge",
    "vcpuNum": 96
   },
   {
    "_defaultOrder": 20,
    "_isFastLaunch": false,
    "category": "General purpose",
    "gpuNum": 0,
    "hideHardwareSpecs": true,
    "memoryGiB": 0,
    "name": "ml.geospatial.interactive",
    "supportedImageNames": [
     "sagemaker-geospatial-v1-0"
    ],
    "vcpuNum": 0
   },
   {
    "_defaultOrder": 21,
    "_isFastLaunch": true,
    "category": "Compute optimized",
    "gpuNum": 0,
    "hideHardwareSpecs": false,
    "memoryGiB": 4,
    "name": "ml.c5.large",
    "vcpuNum": 2
   },
   {
    "_defaultOrder": 22,
    "_isFastLaunch": false,
    "category": "Compute optimized",
    "gpuNum": 0,
    "hideHardwareSpecs": false,
    "memoryGiB": 8,
    "name": "ml.c5.xlarge",
    "vcpuNum": 4
   },
   {
    "_defaultOrder": 23,
    "_isFastLaunch": false,
    "category": "Compute optimized",
    "gpuNum": 0,
    "hideHardwareSpecs": false,
    "memoryGiB": 16,
    "name": "ml.c5.2xlarge",
    "vcpuNum": 8
   },
   {
    "_defaultOrder": 24,
    "_isFastLaunch": false,
    "category": "Compute optimized",
    "gpuNum": 0,
    "hideHardwareSpecs": false,
    "memoryGiB": 32,
    "name": "ml.c5.4xlarge",
    "vcpuNum": 16
   },
   {
    "_defaultOrder": 25,
    "_isFastLaunch": false,
    "category": "Compute optimized",
    "gpuNum": 0,
    "hideHardwareSpecs": false,
    "memoryGiB": 72,
    "name": "ml.c5.9xlarge",
    "vcpuNum": 36
   },
   {
    "_defaultOrder": 26,
    "_isFastLaunch": false,
    "category": "Compute optimized",
    "gpuNum": 0,
    "hideHardwareSpecs": false,
    "memoryGiB": 96,
    "name": "ml.c5.12xlarge",
    "vcpuNum": 48
   },
   {
    "_defaultOrder": 27,
    "_isFastLaunch": false,
    "category": "Compute optimized",
    "gpuNum": 0,
    "hideHardwareSpecs": false,
    "memoryGiB": 144,
    "name": "ml.c5.18xlarge",
    "vcpuNum": 72
   },
   {
    "_defaultOrder": 28,
    "_isFastLaunch": false,
    "category": "Compute optimized",
    "gpuNum": 0,
    "hideHardwareSpecs": false,
    "memoryGiB": 192,
    "name": "ml.c5.24xlarge",
    "vcpuNum": 96
   },
   {
    "_defaultOrder": 29,
    "_isFastLaunch": true,
    "category": "Accelerated computing",
    "gpuNum": 1,
    "hideHardwareSpecs": false,
    "memoryGiB": 16,
    "name": "ml.g4dn.xlarge",
    "vcpuNum": 4
   },
   {
    "_defaultOrder": 30,
    "_isFastLaunch": false,
    "category": "Accelerated computing",
    "gpuNum": 1,
    "hideHardwareSpecs": false,
    "memoryGiB": 32,
    "name": "ml.g4dn.2xlarge",
    "vcpuNum": 8
   },
   {
    "_defaultOrder": 31,
    "_isFastLaunch": false,
    "category": "Accelerated computing",
    "gpuNum": 1,
    "hideHardwareSpecs": false,
    "memoryGiB": 64,
    "name": "ml.g4dn.4xlarge",
    "vcpuNum": 16
   },
   {
    "_defaultOrder": 32,
    "_isFastLaunch": false,
    "category": "Accelerated computing",
    "gpuNum": 1,
    "hideHardwareSpecs": false,
    "memoryGiB": 128,
    "name": "ml.g4dn.8xlarge",
    "vcpuNum": 32
   },
   {
    "_defaultOrder": 33,
    "_isFastLaunch": false,
    "category": "Accelerated computing",
    "gpuNum": 4,
    "hideHardwareSpecs": false,
    "memoryGiB": 192,
    "name": "ml.g4dn.12xlarge",
    "vcpuNum": 48
   },
   {
    "_defaultOrder": 34,
    "_isFastLaunch": false,
    "category": "Accelerated computing",
    "gpuNum": 1,
    "hideHardwareSpecs": false,
    "memoryGiB": 256,
    "name": "ml.g4dn.16xlarge",
    "vcpuNum": 64
   },
   {
    "_defaultOrder": 35,
    "_isFastLaunch": false,
    "category": "Accelerated computing",
    "gpuNum": 1,
    "hideHardwareSpecs": false,
    "memoryGiB": 61,
    "name": "ml.p3.2xlarge",
    "vcpuNum": 8
   },
   {
    "_defaultOrder": 36,
    "_isFastLaunch": false,
    "category": "Accelerated computing",
    "gpuNum": 4,
    "hideHardwareSpecs": false,
    "memoryGiB": 244,
    "name": "ml.p3.8xlarge",
    "vcpuNum": 32
   },
   {
    "_defaultOrder": 37,
    "_isFastLaunch": false,
    "category": "Accelerated computing",
    "gpuNum": 8,
    "hideHardwareSpecs": false,
    "memoryGiB": 488,
    "name": "ml.p3.16xlarge",
    "vcpuNum": 64
   },
   {
    "_defaultOrder": 38,
    "_isFastLaunch": false,
    "category": "Accelerated computing",
    "gpuNum": 8,
    "hideHardwareSpecs": false,
    "memoryGiB": 768,
    "name": "ml.p3dn.24xlarge",
    "vcpuNum": 96
   },
   {
    "_defaultOrder": 39,
    "_isFastLaunch": false,
    "category": "Memory Optimized",
    "gpuNum": 0,
    "hideHardwareSpecs": false,
    "memoryGiB": 16,
    "name": "ml.r5.large",
    "vcpuNum": 2
   },
   {
    "_defaultOrder": 40,
    "_isFastLaunch": false,
    "category": "Memory Optimized",
    "gpuNum": 0,
    "hideHardwareSpecs": false,
    "memoryGiB": 32,
    "name": "ml.r5.xlarge",
    "vcpuNum": 4
   },
   {
    "_defaultOrder": 41,
    "_isFastLaunch": false,
    "category": "Memory Optimized",
    "gpuNum": 0,
    "hideHardwareSpecs": false,
    "memoryGiB": 64,
    "name": "ml.r5.2xlarge",
    "vcpuNum": 8
   },
   {
    "_defaultOrder": 42,
    "_isFastLaunch": false,
    "category": "Memory Optimized",
    "gpuNum": 0,
    "hideHardwareSpecs": false,
    "memoryGiB": 128,
    "name": "ml.r5.4xlarge",
    "vcpuNum": 16
   },
   {
    "_defaultOrder": 43,
    "_isFastLaunch": false,
    "category": "Memory Optimized",
    "gpuNum": 0,
    "hideHardwareSpecs": false,
    "memoryGiB": 256,
    "name": "ml.r5.8xlarge",
    "vcpuNum": 32
   },
   {
    "_defaultOrder": 44,
    "_isFastLaunch": false,
    "category": "Memory Optimized",
    "gpuNum": 0,
    "hideHardwareSpecs": false,
    "memoryGiB": 384,
    "name": "ml.r5.12xlarge",
    "vcpuNum": 48
   },
   {
    "_defaultOrder": 45,
    "_isFastLaunch": false,
    "category": "Memory Optimized",
    "gpuNum": 0,
    "hideHardwareSpecs": false,
    "memoryGiB": 512,
    "name": "ml.r5.16xlarge",
    "vcpuNum": 64
   },
   {
    "_defaultOrder": 46,
    "_isFastLaunch": false,
    "category": "Memory Optimized",
    "gpuNum": 0,
    "hideHardwareSpecs": false,
    "memoryGiB": 768,
    "name": "ml.r5.24xlarge",
    "vcpuNum": 96
   },
   {
    "_defaultOrder": 47,
    "_isFastLaunch": false,
    "category": "Accelerated computing",
    "gpuNum": 1,
    "hideHardwareSpecs": false,
    "memoryGiB": 16,
    "name": "ml.g5.xlarge",
    "vcpuNum": 4
   },
   {
    "_defaultOrder": 48,
    "_isFastLaunch": false,
    "category": "Accelerated computing",
    "gpuNum": 1,
    "hideHardwareSpecs": false,
    "memoryGiB": 32,
    "name": "ml.g5.2xlarge",
    "vcpuNum": 8
   },
   {
    "_defaultOrder": 49,
    "_isFastLaunch": false,
    "category": "Accelerated computing",
    "gpuNum": 1,
    "hideHardwareSpecs": false,
    "memoryGiB": 64,
    "name": "ml.g5.4xlarge",
    "vcpuNum": 16
   },
   {
    "_defaultOrder": 50,
    "_isFastLaunch": false,
    "category": "Accelerated computing",
    "gpuNum": 1,
    "hideHardwareSpecs": false,
    "memoryGiB": 128,
    "name": "ml.g5.8xlarge",
    "vcpuNum": 32
   },
   {
    "_defaultOrder": 51,
    "_isFastLaunch": false,
    "category": "Accelerated computing",
    "gpuNum": 1,
    "hideHardwareSpecs": false,
    "memoryGiB": 256,
    "name": "ml.g5.16xlarge",
    "vcpuNum": 64
   },
   {
    "_defaultOrder": 52,
    "_isFastLaunch": false,
    "category": "Accelerated computing",
    "gpuNum": 4,
    "hideHardwareSpecs": false,
    "memoryGiB": 192,
    "name": "ml.g5.12xlarge",
    "vcpuNum": 48
   },
   {
    "_defaultOrder": 53,
    "_isFastLaunch": false,
    "category": "Accelerated computing",
    "gpuNum": 4,
    "hideHardwareSpecs": false,
    "memoryGiB": 384,
    "name": "ml.g5.24xlarge",
    "vcpuNum": 96
   },
   {
    "_defaultOrder": 54,
    "_isFastLaunch": false,
    "category": "Accelerated computing",
    "gpuNum": 8,
    "hideHardwareSpecs": false,
    "memoryGiB": 768,
    "name": "ml.g5.48xlarge",
    "vcpuNum": 192
   },
   {
    "_defaultOrder": 55,
    "_isFastLaunch": false,
    "category": "Accelerated computing",
    "gpuNum": 8,
    "hideHardwareSpecs": false,
    "memoryGiB": 1152,
    "name": "ml.p4d.24xlarge",
    "vcpuNum": 96
   },
   {
    "_defaultOrder": 56,
    "_isFastLaunch": false,
    "category": "Accelerated computing",
    "gpuNum": 8,
    "hideHardwareSpecs": false,
    "memoryGiB": 1152,
    "name": "ml.p4de.24xlarge",
    "vcpuNum": 96
   },
   {
    "_defaultOrder": 57,
    "_isFastLaunch": false,
    "category": "Accelerated computing",
    "gpuNum": 0,
    "hideHardwareSpecs": false,
    "memoryGiB": 32,
    "name": "ml.trn1.2xlarge",
    "vcpuNum": 8
   },
   {
    "_defaultOrder": 58,
    "_isFastLaunch": false,
    "category": "Accelerated computing",
    "gpuNum": 0,
    "hideHardwareSpecs": false,
    "memoryGiB": 512,
    "name": "ml.trn1.32xlarge",
    "vcpuNum": 128
   },
   {
    "_defaultOrder": 59,
    "_isFastLaunch": false,
    "category": "Accelerated computing",
    "gpuNum": 0,
    "hideHardwareSpecs": false,
    "memoryGiB": 512,
    "name": "ml.trn1n.32xlarge",
    "vcpuNum": 128
   }
  ],
  "instance_type": "ml.t3.medium",
  "kernelspec": {
   "display_name": "Python 3",
   "language": "python",
   "name": "python3"
  },
  "language_info": {
   "codemirror_mode": {
    "name": "ipython",
    "version": 3
   },
   "file_extension": ".py",
   "mimetype": "text/x-python",
   "name": "python",
   "nbconvert_exporter": "python",
   "pygments_lexer": "ipython3",
   "version": "3.12.2"
  }
 },
 "nbformat": 4,
 "nbformat_minor": 5
}
