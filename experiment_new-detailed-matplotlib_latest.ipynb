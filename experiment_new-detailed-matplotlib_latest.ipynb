{
 "cells": [
  {
   "cell_type": "code",
   "execution_count": 8,
   "id": "8be53876-7e52-4d85-920e-58e12aa4e5ca",
   "metadata": {
    "tags": []
   },
   "outputs": [],
   "source": [
    "import boto3\n",
    "import os\n",
    "import json\n",
    "import docx\n",
    "from IPython.display import Markdown, display\n",
    "import re\n",
    "import matplotlib.pyplot as plt\n",
    "import matplotlib.image as mpimg\n",
    "\n",
    "\n",
    "region = os.environ.get(\"AWS_REGION\")\n",
    "boto3_bedrock = boto3.client(service_name='bedrock-runtime')\n",
    "from claude3 import Analyticsfunction, extract_python_code, detect_shape\n",
    "\n",
    "\n",
    "obj = Analyticsfunction()\n",
    "    \n",
    "claude3 = obj.call_claude_sonet_text"
   ]
  },
  {
   "cell_type": "code",
   "execution_count": 2,
   "id": "99c32074-9114-41dd-8c24-ca14aaddec14",
   "metadata": {
    "tags": []
   },
   "outputs": [],
   "source": [
    "def getText(filename):\n",
    "    doc = docx.Document(filename)\n",
    "    fullText = []\n",
    "    for para in doc.paragraphs:\n",
    "        fullText.append(para.text)\n",
    "    return '\\n'.join(fullText)"
   ]
  },
  {
   "cell_type": "code",
   "execution_count": 3,
   "id": "d403cb5d-bc66-4e76-9839-26341ab24911",
   "metadata": {
    "tags": []
   },
   "outputs": [],
   "source": [
    "note = getText(\"Vector-notes.docx\")"
   ]
  },
  {
   "cell_type": "code",
   "execution_count": 4,
   "id": "15fa86b9-d10a-4454-a582-2d4192aa807e",
   "metadata": {
    "tags": []
   },
   "outputs": [
    {
     "data": {
      "text/markdown": [
       "Based on the given information, here are two multiple choice questions with answers:\n",
       "\n",
       "Question 1: What is the scalar triple product of three vectors a, b, and c?\n",
       "Options:\n",
       "(1) a . (b x c)\n",
       "(2) (a x b) . c\n",
       "(3) a . b . c\n",
       "(4) Both (1) and (2)\n",
       "\n",
       "Answer: (4) Both (1) and (2)\n",
       "\n",
       "Question 2: If three vectors a, b, and c are coplanar, then their vector triple product is:\n",
       "Options: \n",
       "(1) Non-zero\n",
       "(2) Zero\n",
       "(3) Undefined\n",
       "(4) Depends on the magnitude of the vectors\n",
       "\n",
       "Answer: (2) Zero"
      ],
      "text/plain": [
       "<IPython.core.display.Markdown object>"
      ]
     },
     "metadata": {},
     "output_type": "display_data"
    }
   ],
   "source": [
    "prompt =f'''Human: create question 2 multiple choice question and answer\n",
    "\n",
    "<book>\n",
    "{note}\n",
    "</book>\n",
    "\n",
    "Assistant:'''\n",
    "\n",
    "body = json.dumps({\"prompt\": prompt, \"max_tokens_to_sample\": 1000, \"temperature\": 0.8})\n",
    "text = claude3(body)\n",
    "display(Markdown(text))"
   ]
  },
  {
   "cell_type": "code",
   "execution_count": 5,
   "id": "b1837e0a-aeee-4c4d-b8ce-f296f7733a5a",
   "metadata": {
    "tags": []
   },
   "outputs": [],
   "source": [
    "context = \"ABCDEF is a hexagon (six-sided polygon). Find the value of AB+BC+CD+DE+AF+FE+AE \""
   ]
  },
  {
   "cell_type": "code",
   "execution_count": 6,
   "id": "b6b5d747-baee-41ea-aa8d-3e3500a0958c",
   "metadata": {
    "tags": []
   },
   "outputs": [],
   "source": [
    "prompt =f'''Human: write python code to draw hexagon using matplotlib\n",
    "1. save as jpg\n",
    "2. context into the image at top. \n",
    "3. draw correct shape\n",
    "4. complete all edges\n",
    "<context>\n",
    "{context}\n",
    "</context>\n",
    "\n",
    "Assistant:'''\n",
    "\n",
    "body = json.dumps({\"prompt\": prompt, \"max_tokens_to_sample\": 1000, \"temperature\": 0.8})"
   ]
  },
  {
   "cell_type": "code",
   "execution_count": 7,
   "id": "9a7291dc-6487-4cfa-b1e1-1f23f9273360",
   "metadata": {
    "tags": []
   },
   "outputs": [],
   "source": [
    "text = claude3(body)"
   ]
  },
  {
   "cell_type": "code",
   "execution_count": 8,
   "id": "4c82b4e4-5b6e-454e-aaf7-32560d9999e7",
   "metadata": {
    "tags": []
   },
   "outputs": [],
   "source": [
    "output_file = \"output_python_code.py\"  # Change this to your output file\n",
    "extract_python_code(text, output_file)"
   ]
  },
  {
   "cell_type": "code",
   "execution_count": 9,
   "id": "d8a31dc5-8b27-41c5-b757-7866bb67c323",
   "metadata": {
    "tags": []
   },
   "outputs": [
    {
     "data": {
      "text/markdown": [
       "Here's a Python code that uses the Matplotlib library to draw a hexagon, save it as a JPG file, and include the given context at the top of the image:\n",
       "\n",
       "```python\n",
       "import matplotlib.pyplot as plt\n",
       "import numpy as np\n",
       "\n",
       "# Define the vertices of the hexagon\n",
       "vertices = np.array([[0, 0], [2, 0], [3, 1.73], [2, 3.46], [0, 3.46], [-1, 1.73]])\n",
       "\n",
       "# Define the context\n",
       "context = \"ABCDEF is a hexagon (six-sided polygon). Find the value of AB+BC+CD+DE+AF+FE+AE\"\n",
       "\n",
       "# Create a figure and axis\n",
       "fig, ax = plt.subplots(figsize=(8, 6))\n",
       "\n",
       "# Plot the hexagon\n",
       "ax.plot(vertices[:, 0], vertices[:, 1], 'k-', linewidth=2)\n",
       "ax.plot([vertices[-1, 0], vertices[0, 0]], [vertices[-1, 1], vertices[0, 1]], 'k-', linewidth=2)  # Complete the last edge\n",
       "\n",
       "# Add the context at the top\n",
       "ax.text(0, 4.5, context, fontsize=12, ha='center', va='top')\n",
       "\n",
       "# Set axis limits and remove ticks\n",
       "ax.set_xlim([-2, 4])\n",
       "ax.set_ylim([-1, 5])\n",
       "ax.set_xticks([])\n",
       "ax.set_yticks([])\n",
       "\n",
       "# Save the figure as a JPG file\n",
       "plt.savefig('hexagon.jpg', dpi=300, bbox_inches='tight')\n",
       "\n",
       "# Display the figure (optional)\n",
       "plt.show()\n",
       "```\n",
       "\n",
       "Explanation:\n",
       "\n",
       "1. We import the necessary libraries: `matplotlib.pyplot` for plotting and `numpy` for array operations.\n",
       "2. We define the vertices of the hexagon using a NumPy array.\n",
       "3. We define the context string.\n",
       "4. We create a figure and axis using `plt.subplots()`.\n",
       "5. We plot the hexagon using `ax.plot()`, connecting the vertices with lines. We also add the last edge separately to complete the hexagon.\n",
       "6. We add the context at the top of the plot using `ax.text()`.\n",
       "7. We set the axis limits and remove the ticks using `ax.set_xlim()`, `ax.set_ylim()`, `ax.set_xticks()`, and `ax.set_yticks()`.\n",
       "8. We save the figure as a JPG file using `plt.savefig()`.\n",
       "9. We display the figure using `plt.show()` (optional).\n",
       "\n",
       "This code will generate a JPG file named `hexagon.jpg` in the same directory as the Python script, containing the hexagon shape with the context text at the top.\n",
       "\n",
       "Note: The aspect ratio of the hexagon may not be perfect due to the coordinate system used in Matplotlib. You can adjust the vertex coordinates or the figure size to achieve the desired aspect ratio."
      ],
      "text/plain": [
       "<IPython.core.display.Markdown object>"
      ]
     },
     "metadata": {},
     "output_type": "display_data"
    }
   ],
   "source": [
    "display(Markdown(text))"
   ]
  },
  {
   "cell_type": "code",
   "execution_count": 10,
   "id": "0314dfe4-1d21-4dff-bbaf-d690170da1fa",
   "metadata": {
    "tags": []
   },
   "outputs": [
    {
     "name": "stdout",
     "output_type": "stream",
     "text": [
      "Figure(800x600)\n"
     ]
    }
   ],
   "source": [
    "!python3 output_python_code.py"
   ]
  },
  {
   "cell_type": "code",
   "execution_count": 11,
   "id": "df7c6908-1744-4f88-ab48-a9db82f0fe6d",
   "metadata": {
    "tags": []
   },
   "outputs": [
    {
     "data": {
      "image/png": "[encoded data removed]",
      "text/plain": [
       "<Figure size 640x480 with 1 Axes>"
      ]
     },
     "metadata": {},
     "output_type": "display_data"
    }
   ],
   "source": [
    "# Load the image\n",
    "img = mpimg.imread('hexagon.jpg')\n",
    "\n",
    "# Display the image\n",
    "plt.imshow(img)\n",
    "plt.axis('off')  # Hide axis ticks and labels\n",
    "plt.show()"
   ]
  },
  {
   "cell_type": "code",
   "execution_count": 1,
   "id": "24961113-f666-4558-9390-18adb8d4d427",
   "metadata": {
    "tags": []
   },
   "outputs": [],
   "source": [
    "import time"
   ]
  },
  {
   "cell_type": "code",
   "execution_count": 9,
   "id": "ea214d4c-8a18-4568-a3d8-72580bc89295",
   "metadata": {
    "tags": []
   },
   "outputs": [],
   "source": [
    "def create_image(question):\n",
    "    shape  = detect_shape(question)\n",
    "    print(shape)\n",
    "    prompt = f'''Human: write advanced python code to draw {shape} using Seaborn visualisation\n",
    "        1. Save plot as {shape}.jpg, plot context/question at top.create small image\n",
    "        2. context into the image at top. \n",
    "        3. draw correct shape\n",
    "        4. complete all edges and align properly\n",
    "        5. Label each edge or component with alphabets (e.g., A, B, etc.) for better understanding.\n",
    "        6. must import all necessary library in the output\n",
    "        \n",
    "        <question>\n",
    "        {question}\n",
    "        </question>\n",
    "\n",
    "        Assistant:'''\n",
    "    body = json.dumps({\"prompt\": prompt, \"max_tokens_to_sample\": 1000, \"temperature\": 0.8})\n",
    "    text = claude3(body)\n",
    "    #text = claude2(prompt)\n",
    "    image = f'{shape}'\n",
    "    output_file = \"main.py\"\n",
    "    extract_python_code(text, output_file)\n",
    "    time.sleep(2)\n",
    "    #display(Markdown(text))\n",
    "    !python3 main.py\n",
    "      # Wait for 5 seconds to allow the image to be generated\n",
    "    time.sleep(2)\n",
    "    print(image)\n",
    "    img = mpimg.imread(image+\".jpg\")\n",
    "    # Display the image\n",
    "    plt.imshow(img)\n",
    "    plt.axis('off')  # Hide axis ticks and labels\n",
    "    plt.show()"
   ]
  },
  {
   "cell_type": "code",
   "execution_count": 10,
   "id": "96b975af-2755-4f15-9122-879ae239d559",
   "metadata": {
    "tags": []
   },
   "outputs": [],
   "source": [
    "context = \"ABCDEF is a hexagon (six-sided polygon). Find the value of AB+BC+CD+DE+AF+FE+AE \""
   ]
  },
  {
   "cell_type": "code",
   "execution_count": 11,
   "id": "5981d86b-7e57-4a0d-9049-ee8f387227bf",
   "metadata": {
    "tags": []
   },
   "outputs": [
    {
     "ename": "NameError",
     "evalue": "name 'claude3' is not defined",
     "output_type": "error",
     "traceback": [
      "\u001b[0;31m---------------------------------------------------------------------------\u001b[0m",
      "\u001b[0;31mNameError\u001b[0m                                 Traceback (most recent call last)",
      "Cell \u001b[0;32mIn[11], line 1\u001b[0m\n\u001b[0;32m----> 1\u001b[0m \u001b[43mcreate_image\u001b[49m\u001b[43m(\u001b[49m\u001b[43mcontext\u001b[49m\u001b[43m)\u001b[49m\n",
      "Cell \u001b[0;32mIn[9], line 2\u001b[0m, in \u001b[0;36mcreate_image\u001b[0;34m(question)\u001b[0m\n\u001b[1;32m      1\u001b[0m \u001b[38;5;28;01mdef\u001b[39;00m \u001b[38;5;21mcreate_image\u001b[39m(question):\n\u001b[0;32m----> 2\u001b[0m     shape  \u001b[38;5;241m=\u001b[39m \u001b[43mdetect_shape\u001b[49m\u001b[43m(\u001b[49m\u001b[43mquestion\u001b[49m\u001b[43m)\u001b[49m\n\u001b[1;32m      3\u001b[0m     \u001b[38;5;28mprint\u001b[39m(shape)\n\u001b[1;32m      4\u001b[0m     prompt \u001b[38;5;241m=\u001b[39m \u001b[38;5;124mf\u001b[39m\u001b[38;5;124m'''\u001b[39m\u001b[38;5;124mwrite advanced python code to draw \u001b[39m\u001b[38;5;132;01m{\u001b[39;00mshape\u001b[38;5;132;01m}\u001b[39;00m\u001b[38;5;124m using Seaborn visualisation\u001b[39m\n\u001b[1;32m      5\u001b[0m \u001b[38;5;124m        1. Save plot as \u001b[39m\u001b[38;5;132;01m{\u001b[39;00mshape\u001b[38;5;132;01m}\u001b[39;00m\u001b[38;5;124m.jpg, plot context/question at top.create small image\u001b[39m\n\u001b[1;32m      6\u001b[0m \u001b[38;5;124m        2. context into the image at top. \u001b[39m\n\u001b[0;32m   (...)\u001b[0m\n\u001b[1;32m     15\u001b[0m \n\u001b[1;32m     16\u001b[0m \u001b[38;5;124m        Assistant:\u001b[39m\u001b[38;5;124m'''\u001b[39m\n",
      "File \u001b[0;32m~/Documents/mathimage/claude3.py:127\u001b[0m, in \u001b[0;36mdetect_shape\u001b[0;34m(question)\u001b[0m\n\u001b[1;32m    109\u001b[0m \u001b[38;5;28;01mdef\u001b[39;00m \u001b[38;5;21mdetect_shape\u001b[39m(question):\n\u001b[1;32m    110\u001b[0m     prompt \u001b[38;5;241m=\u001b[39m \u001b[38;5;124mf\u001b[39m\u001b[38;5;124m'''\u001b[39m\u001b[38;5;124mHuman: find out the math image shape from question\u001b[39m\n\u001b[1;32m    111\u001b[0m \u001b[38;5;124m    some example of question and asnwer is given below\u001b[39m\n\u001b[1;32m    112\u001b[0m \u001b[38;5;124m    if there the two word in shape then add  underscore\u001b[39m\n\u001b[0;32m   (...)\u001b[0m\n\u001b[1;32m    124\u001b[0m \n\u001b[1;32m    125\u001b[0m \u001b[38;5;124m    Assistant:\u001b[39m\u001b[38;5;124m'''\u001b[39m\n\u001b[0;32m--> 127\u001b[0m     text \u001b[38;5;241m=\u001b[39m \u001b[43mclaude3\u001b[49m(prompt) \n\u001b[1;32m    128\u001b[0m     \u001b[38;5;28;01mreturn\u001b[39;00m text\n",
      "\u001b[0;31mNameError\u001b[0m: name 'claude3' is not defined"
     ]
    }
   ],
   "source": [
    "create_image(context)"
   ]
  },
  {
   "cell_type": "code",
   "execution_count": null,
   "id": "6bda54fe-4d21-4e2a-969a-6d47f0d5cd72",
   "metadata": {
    "tags": []
   },
   "outputs": [],
   "source": [
    "context1 = \"If the adjacent sides of a parallelogram are 3i+2j and -i+4j+2k, find the area of the parallelogram.\""
   ]
  },
  {
   "cell_type": "code",
   "execution_count": null,
   "id": "8fa4a286-9183-43c7-a408-88d5f49eefa5",
   "metadata": {
    "tags": []
   },
   "outputs": [
    {
     "name": "stdout",
     "output_type": "stream",
     "text": [
      "parallelogram\n",
      "succesfuly\n",
      "parallelogram\n"
     ]
    },
    {
     "data": {
      "image/png": "[encoded data removed]",
      "text/plain": [
       "<Figure size 640x480 with 1 Axes>"
      ]
     },
     "metadata": {},
     "output_type": "display_data"
    }
   ],
   "source": [
    "create_image(context1)"
   ]
  },
  {
   "cell_type": "code",
   "execution_count": null,
   "id": "e8849322-55cf-432a-8bbf-c654a7476d1e",
   "metadata": {
    "tags": []
   },
   "outputs": [],
   "source": [
    "context2 =  \"If the position vectors of the vertices A, B, and C of a triangle △ABC are αi+βj+γk, βi+γj+αk, and γi+αj+βk respectively, then △ABC is \""
   ]
  },
  {
   "cell_type": "code",
   "execution_count": null,
   "id": "45a585ca-99a1-4569-bee9-ac65d5591058",
   "metadata": {
    "tags": []
   },
   "outputs": [
    {
     "name": "stdout",
     "output_type": "stream",
     "text": [
      "isosceles_triangle\n",
      "succesfuly\n",
      "isosceles_triangle\n"
     ]
    },
    {
     "data": {
      "image/png": "[encoded data removed]",
      "text/plain": [
       "<Figure size 640x480 with 1 Axes>"
      ]
     },
     "metadata": {},
     "output_type": "display_data"
    }
   ],
   "source": [
    "create_image(context2)"
   ]
  },
  {
   "cell_type": "code",
   "execution_count": null,
   "id": "6c6dbd2a-0975-4e91-80dd-199dc95f9f70",
   "metadata": {
    "tags": []
   },
   "outputs": [],
   "source": [
    "context3 = \"calculate area of circle where raisus is r\""
   ]
  },
  {
   "cell_type": "code",
   "execution_count": null,
   "id": "576eb423-01e7-4d53-8a53-996ddd47ce08",
   "metadata": {
    "tags": []
   },
   "outputs": [
    {
     "name": "stdout",
     "output_type": "stream",
     "text": [
      "circle\n",
      "succesfuly\n",
      "Figure(400x400)\n",
      "circle\n"
     ]
    },
    {
     "data": {
      "image/png": "[encoded data removed]",
      "text/plain": [
       "<Figure size 640x480 with 1 Axes>"
      ]
     },
     "metadata": {},
     "output_type": "display_data"
    }
   ],
   "source": [
    "create_image(context3)"
   ]
  },
  {
   "cell_type": "code",
   "execution_count": null,
   "id": "c92f6b92-15de-4f7e-9eae-eb70ef1fc841",
   "metadata": {},
   "outputs": [],
   "source": [
    "context4 = \"what is area of rectangle whose length is l and width is w\""
   ]
  },
  {
   "cell_type": "code",
   "execution_count": null,
   "id": "8d2abc8a-eda2-4958-bb80-9ab93aa4630e",
   "metadata": {
    "tags": []
   },
   "outputs": [
    {
     "name": "stdout",
     "output_type": "stream",
     "text": [
      "rectangle\n",
      "succesfuly\n",
      "Figure(600x400)\n",
      "The area of the rectangle with length 10 and width 6 is: 60\n",
      "rectangle\n"
     ]
    },
    {
     "data": {
      "image/png": "[encoded data removed]",
      "text/plain": [
       "<Figure size 640x480 with 1 Axes>"
      ]
     },
     "metadata": {},
     "output_type": "display_data"
    }
   ],
   "source": [
    "create_image(context4)"
   ]
  },
  {
   "cell_type": "code",
   "execution_count": null,
   "id": "e35a7ccc-6ad6-4499-a8df-21b6597d9fcf",
   "metadata": {
    "tags": []
   },
   "outputs": [],
   "source": [
    "context4 = \"What does the triangle law state in the context of vectors? According to the diagram, the triangle law states that p + q + r = 0 for the three vectors p, q, and r forming a triangle.\""
   ]
  },
  {
   "cell_type": "code",
   "execution_count": null,
   "id": "87ff40a4-b917-409b-adbe-1e42deb02677",
   "metadata": {
    "tags": []
   },
   "outputs": [
    {
     "name": "stdout",
     "output_type": "stream",
     "text": [
      "triangle\n",
      "succesfuly\n",
      "Figure(600x400)\n",
      "triangle\n"
     ]
    },
    {
     "data": {
      "image/png": "[encoded data removed]",
      "text/plain": [
       "<Figure size 640x480 with 1 Axes>"
      ]
     },
     "metadata": {},
     "output_type": "display_data"
    }
   ],
   "source": [
    "create_image(context4)"
   ]
  },
  {
   "cell_type": "code",
   "execution_count": null,
   "id": "28921d9f-d422-49d9-885e-f7ec860f9bd7",
   "metadata": {},
   "outputs": [],
   "source": []
  }
 ],
 "metadata": {
  "availableInstances": [
   {
    "_defaultOrder": 0,
    "_isFastLaunch": true,
    "category": "General purpose",
    "gpuNum": 0,
    "hideHardwareSpecs": false,
    "memoryGiB": 4,
    "name": "ml.t3.medium",
    "vcpuNum": 2
   },
   {
    "_defaultOrder": 1,
    "_isFastLaunch": false,
    "category": "General purpose",
    "gpuNum": 0,
    "hideHardwareSpecs": false,
    "memoryGiB": 8,
    "name": "ml.t3.large",
    "vcpuNum": 2
   },
   {
    "_defaultOrder": 2,
    "_isFastLaunch": false,
    "category": "General purpose",
    "gpuNum": 0,
    "hideHardwareSpecs": false,
    "memoryGiB": 16,
    "name": "ml.t3.xlarge",
    "vcpuNum": 4
   },
   {
    "_defaultOrder": 3,
    "_isFastLaunch": false,
    "category": "General purpose",
    "gpuNum": 0,
    "hideHardwareSpecs": false,
    "memoryGiB": 32,
    "name": "ml.t3.2xlarge",
    "vcpuNum": 8
   },
   {
    "_defaultOrder": 4,
    "_isFastLaunch": true,
    "category": "General purpose",
    "gpuNum": 0,
    "hideHardwareSpecs": false,
    "memoryGiB": 8,
    "name": "ml.m5.large",
    "vcpuNum": 2
   },
   {
    "_defaultOrder": 5,
    "_isFastLaunch": false,
    "category": "General purpose",
    "gpuNum": 0,
    "hideHardwareSpecs": false,
    "memoryGiB": 16,
    "name": "ml.m5.xlarge",
    "vcpuNum": 4
   },
   {
    "_defaultOrder": 6,
    "_isFastLaunch": false,
    "category": "General purpose",
    "gpuNum": 0,
    "hideHardwareSpecs": false,
    "memoryGiB": 32,
    "name": "ml.m5.2xlarge",
    "vcpuNum": 8
   },
   {
    "_defaultOrder": 7,
    "_isFastLaunch": false,
    "category": "General purpose",
    "gpuNum": 0,
    "hideHardwareSpecs": false,
    "memoryGiB": 64,
    "name": "ml.m5.4xlarge",
    "vcpuNum": 16
   },
   {
    "_defaultOrder": 8,
    "_isFastLaunch": false,
    "category": "General purpose",
    "gpuNum": 0,
    "hideHardwareSpecs": false,
    "memoryGiB": 128,
    "name": "ml.m5.8xlarge",
    "vcpuNum": 32
   },
   {
    "_defaultOrder": 9,
    "_isFastLaunch": false,
    "category": "General purpose",
    "gpuNum": 0,
    "hideHardwareSpecs": false,
    "memoryGiB": 192,
    "name": "ml.m5.12xlarge",
    "vcpuNum": 48
   },
   {
    "_defaultOrder": 10,
    "_isFastLaunch": false,
    "category": "General purpose",
    "gpuNum": 0,
    "hideHardwareSpecs": false,
    "memoryGiB": 256,
    "name": "ml.m5.16xlarge",
    "vcpuNum": 64
   },
   {
    "_defaultOrder": 11,
    "_isFastLaunch": false,
    "category": "General purpose",
    "gpuNum": 0,
    "hideHardwareSpecs": false,
    "memoryGiB": 384,
    "name": "ml.m5.24xlarge",
    "vcpuNum": 96
   },
   {
    "_defaultOrder": 12,
    "_isFastLaunch": false,
    "category": "General purpose",
    "gpuNum": 0,
    "hideHardwareSpecs": false,
    "memoryGiB": 8,
    "name": "ml.m5d.large",
    "vcpuNum": 2
   },
   {
    "_defaultOrder": 13,
    "_isFastLaunch": false,
    "category": "General purpose",
    "gpuNum": 0,
    "hideHardwareSpecs": false,
    "memoryGiB": 16,
    "name": "ml.m5d.xlarge",
    "vcpuNum": 4
   },
   {
    "_defaultOrder": 14,
    "_isFastLaunch": false,
    "category": "General purpose",
    "gpuNum": 0,
    "hideHardwareSpecs": false,
    "memoryGiB": 32,
    "name": "ml.m5d.2xlarge",
    "vcpuNum": 8
   },
   {
    "_defaultOrder": 15,
    "_isFastLaunch": false,
    "category": "General purpose",
    "gpuNum": 0,
    "hideHardwareSpecs": false,
    "memoryGiB": 64,
    "name": "ml.m5d.4xlarge",
    "vcpuNum": 16
   },
   {
    "_defaultOrder": 16,
    "_isFastLaunch": false,
    "category": "General purpose",
    "gpuNum": 0,
    "hideHardwareSpecs": false,
    "memoryGiB": 128,
    "name": "ml.m5d.8xlarge",
    "vcpuNum": 32
   },
   {
    "_defaultOrder": 17,
    "_isFastLaunch": false,
    "category": "General purpose",
    "gpuNum": 0,
    "hideHardwareSpecs": false,
    "memoryGiB": 192,
    "name": "ml.m5d.12xlarge",
    "vcpuNum": 48
   },
   {
    "_defaultOrder": 18,
    "_isFastLaunch": false,
    "category": "General purpose",
    "gpuNum": 0,
    "hideHardwareSpecs": false,
    "memoryGiB": 256,
    "name": "ml.m5d.16xlarge",
    "vcpuNum": 64
   },
   {
    "_defaultOrder": 19,
    "_isFastLaunch": false,
    "category": "General purpose",
    "gpuNum": 0,
    "hideHardwareSpecs": false,
    "memoryGiB": 384,
    "name": "ml.m5d.24xlarge",
    "vcpuNum": 96
   },
   {
    "_defaultOrder": 20,
    "_isFastLaunch": false,
    "category": "General purpose",
    "gpuNum": 0,
    "hideHardwareSpecs": true,
    "memoryGiB": 0,
    "name": "ml.geospatial.interactive",
    "supportedImageNames": [
     "sagemaker-geospatial-v1-0"
    ],
    "vcpuNum": 0
   },
   {
    "_defaultOrder": 21,
    "_isFastLaunch": true,
    "category": "Compute optimized",
    "gpuNum": 0,
    "hideHardwareSpecs": false,
    "memoryGiB": 4,
    "name": "ml.c5.large",
    "vcpuNum": 2
   },
   {
    "_defaultOrder": 22,
    "_isFastLaunch": false,
    "category": "Compute optimized",
    "gpuNum": 0,
    "hideHardwareSpecs": false,
    "memoryGiB": 8,
    "name": "ml.c5.xlarge",
    "vcpuNum": 4
   },
   {
    "_defaultOrder": 23,
    "_isFastLaunch": false,
    "category": "Compute optimized",
    "gpuNum": 0,
    "hideHardwareSpecs": false,
    "memoryGiB": 16,
    "name": "ml.c5.2xlarge",
    "vcpuNum": 8
   },
   {
    "_defaultOrder": 24,
    "_isFastLaunch": false,
    "category": "Compute optimized",
    "gpuNum": 0,
    "hideHardwareSpecs": false,
    "memoryGiB": 32,
    "name": "ml.c5.4xlarge",
    "vcpuNum": 16
   },
   {
    "_defaultOrder": 25,
    "_isFastLaunch": false,
    "category": "Compute optimized",
    "gpuNum": 0,
    "hideHardwareSpecs": false,
    "memoryGiB": 72,
    "name": "ml.c5.9xlarge",
    "vcpuNum": 36
   },
   {
    "_defaultOrder": 26,
    "_isFastLaunch": false,
    "category": "Compute optimized",
    "gpuNum": 0,
    "hideHardwareSpecs": false,
    "memoryGiB": 96,
    "name": "ml.c5.12xlarge",
    "vcpuNum": 48
   },
   {
    "_defaultOrder": 27,
    "_isFastLaunch": false,
    "category": "Compute optimized",
    "gpuNum": 0,
    "hideHardwareSpecs": false,
    "memoryGiB": 144,
    "name": "ml.c5.18xlarge",
    "vcpuNum": 72
   },
   {
    "_defaultOrder": 28,
    "_isFastLaunch": false,
    "category": "Compute optimized",
    "gpuNum": 0,
    "hideHardwareSpecs": false,
    "memoryGiB": 192,
    "name": "ml.c5.24xlarge",
    "vcpuNum": 96
   },
   {
    "_defaultOrder": 29,
    "_isFastLaunch": true,
    "category": "Accelerated computing",
    "gpuNum": 1,
    "hideHardwareSpecs": false,
    "memoryGiB": 16,
    "name": "ml.g4dn.xlarge",
    "vcpuNum": 4
   },
   {
    "_defaultOrder": 30,
    "_isFastLaunch": false,
    "category": "Accelerated computing",
    "gpuNum": 1,
    "hideHardwareSpecs": false,
    "memoryGiB": 32,
    "name": "ml.g4dn.2xlarge",
    "vcpuNum": 8
   },
   {
    "_defaultOrder": 31,
    "_isFastLaunch": false,
    "category": "Accelerated computing",
    "gpuNum": 1,
    "hideHardwareSpecs": false,
    "memoryGiB": 64,
    "name": "ml.g4dn.4xlarge",
    "vcpuNum": 16
   },
   {
    "_defaultOrder": 32,
    "_isFastLaunch": false,
    "category": "Accelerated computing",
    "gpuNum": 1,
    "hideHardwareSpecs": false,
    "memoryGiB": 128,
    "name": "ml.g4dn.8xlarge",
    "vcpuNum": 32
   },
   {
    "_defaultOrder": 33,
    "_isFastLaunch": false,
    "category": "Accelerated computing",
    "gpuNum": 4,
    "hideHardwareSpecs": false,
    "memoryGiB": 192,
    "name": "ml.g4dn.12xlarge",
    "vcpuNum": 48
   },
   {
    "_defaultOrder": 34,
    "_isFastLaunch": false,
    "category": "Accelerated computing",
    "gpuNum": 1,
    "hideHardwareSpecs": false,
    "memoryGiB": 256,
    "name": "ml.g4dn.16xlarge",
    "vcpuNum": 64
   },
   {
    "_defaultOrder": 35,
    "_isFastLaunch": false,
    "category": "Accelerated computing",
    "gpuNum": 1,
    "hideHardwareSpecs": false,
    "memoryGiB": 61,
    "name": "ml.p3.2xlarge",
    "vcpuNum": 8
   },
   {
    "_defaultOrder": 36,
    "_isFastLaunch": false,
    "category": "Accelerated computing",
    "gpuNum": 4,
    "hideHardwareSpecs": false,
    "memoryGiB": 244,
    "name": "ml.p3.8xlarge",
    "vcpuNum": 32
   },
   {
    "_defaultOrder": 37,
    "_isFastLaunch": false,
    "category": "Accelerated computing",
    "gpuNum": 8,
    "hideHardwareSpecs": false,
    "memoryGiB": 488,
    "name": "ml.p3.16xlarge",
    "vcpuNum": 64
   },
   {
    "_defaultOrder": 38,
    "_isFastLaunch": false,
    "category": "Accelerated computing",
    "gpuNum": 8,
    "hideHardwareSpecs": false,
    "memoryGiB": 768,
    "name": "ml.p3dn.24xlarge",
    "vcpuNum": 96
   },
   {
    "_defaultOrder": 39,
    "_isFastLaunch": false,
    "category": "Memory Optimized",
    "gpuNum": 0,
    "hideHardwareSpecs": false,
    "memoryGiB": 16,
    "name": "ml.r5.large",
    "vcpuNum": 2
   },
   {
    "_defaultOrder": 40,
    "_isFastLaunch": false,
    "category": "Memory Optimized",
    "gpuNum": 0,
    "hideHardwareSpecs": false,
    "memoryGiB": 32,
    "name": "ml.r5.xlarge",
    "vcpuNum": 4
   },
   {
    "_defaultOrder": 41,
    "_isFastLaunch": false,
    "category": "Memory Optimized",
    "gpuNum": 0,
    "hideHardwareSpecs": false,
    "memoryGiB": 64,
    "name": "ml.r5.2xlarge",
    "vcpuNum": 8
   },
   {
    "_defaultOrder": 42,
    "_isFastLaunch": false,
    "category": "Memory Optimized",
    "gpuNum": 0,
    "hideHardwareSpecs": false,
    "memoryGiB": 128,
    "name": "ml.r5.4xlarge",
    "vcpuNum": 16
   },
   {
    "_defaultOrder": 43,
    "_isFastLaunch": false,
    "category": "Memory Optimized",
    "gpuNum": 0,
    "hideHardwareSpecs": false,
    "memoryGiB": 256,
    "name": "ml.r5.8xlarge",
    "vcpuNum": 32
   },
   {
    "_defaultOrder": 44,
    "_isFastLaunch": false,
    "category": "Memory Optimized",
    "gpuNum": 0,
    "hideHardwareSpecs": false,
    "memoryGiB": 384,
    "name": "ml.r5.12xlarge",
    "vcpuNum": 48
   },
   {
    "_defaultOrder": 45,
    "_isFastLaunch": false,
    "category": "Memory Optimized",
    "gpuNum": 0,
    "hideHardwareSpecs": false,
    "memoryGiB": 512,
    "name": "ml.r5.16xlarge",
    "vcpuNum": 64
   },
   {
    "_defaultOrder": 46,
    "_isFastLaunch": false,
    "category": "Memory Optimized",
    "gpuNum": 0,
    "hideHardwareSpecs": false,
    "memoryGiB": 768,
    "name": "ml.r5.24xlarge",
    "vcpuNum": 96
   },
   {
    "_defaultOrder": 47,
    "_isFastLaunch": false,
    "category": "Accelerated computing",
    "gpuNum": 1,
    "hideHardwareSpecs": false,
    "memoryGiB": 16,
    "name": "ml.g5.xlarge",
    "vcpuNum": 4
   },
   {
    "_defaultOrder": 48,
    "_isFastLaunch": false,
    "category": "Accelerated computing",
    "gpuNum": 1,
    "hideHardwareSpecs": false,
    "memoryGiB": 32,
    "name": "ml.g5.2xlarge",
    "vcpuNum": 8
   },
   {
    "_defaultOrder": 49,
    "_isFastLaunch": false,
    "category": "Accelerated computing",
    "gpuNum": 1,
    "hideHardwareSpecs": false,
    "memoryGiB": 64,
    "name": "ml.g5.4xlarge",
    "vcpuNum": 16
   },
   {
    "_defaultOrder": 50,
    "_isFastLaunch": false,
    "category": "Accelerated computing",
    "gpuNum": 1,
    "hideHardwareSpecs": false,
    "memoryGiB": 128,
    "name": "ml.g5.8xlarge",
    "vcpuNum": 32
   },
   {
    "_defaultOrder": 51,
    "_isFastLaunch": false,
    "category": "Accelerated computing",
    "gpuNum": 1,
    "hideHardwareSpecs": false,
    "memoryGiB": 256,
    "name": "ml.g5.16xlarge",
    "vcpuNum": 64
   },
   {
    "_defaultOrder": 52,
    "_isFastLaunch": false,
    "category": "Accelerated computing",
    "gpuNum": 4,
    "hideHardwareSpecs": false,
    "memoryGiB": 192,
    "name": "ml.g5.12xlarge",
    "vcpuNum": 48
   },
   {
    "_defaultOrder": 53,
    "_isFastLaunch": false,
    "category": "Accelerated computing",
    "gpuNum": 4,
    "hideHardwareSpecs": false,
    "memoryGiB": 384,
    "name": "ml.g5.24xlarge",
    "vcpuNum": 96
   },
   {
    "_defaultOrder": 54,
    "_isFastLaunch": false,
    "category": "Accelerated computing",
    "gpuNum": 8,
    "hideHardwareSpecs": false,
    "memoryGiB": 768,
    "name": "ml.g5.48xlarge",
    "vcpuNum": 192
   },
   {
    "_defaultOrder": 55,
    "_isFastLaunch": false,
    "category": "Accelerated computing",
    "gpuNum": 8,
    "hideHardwareSpecs": false,
    "memoryGiB": 1152,
    "name": "ml.p4d.24xlarge",
    "vcpuNum": 96
   },
   {
    "_defaultOrder": 56,
    "_isFastLaunch": false,
    "category": "Accelerated computing",
    "gpuNum": 8,
    "hideHardwareSpecs": false,
    "memoryGiB": 1152,
    "name": "ml.p4de.24xlarge",
    "vcpuNum": 96
   },
   {
    "_defaultOrder": 57,
    "_isFastLaunch": false,
    "category": "Accelerated computing",
    "gpuNum": 0,
    "hideHardwareSpecs": false,
    "memoryGiB": 32,
    "name": "ml.trn1.2xlarge",
    "vcpuNum": 8
   },
   {
    "_defaultOrder": 58,
    "_isFastLaunch": false,
    "category": "Accelerated computing",
    "gpuNum": 0,
    "hideHardwareSpecs": false,
    "memoryGiB": 512,
    "name": "ml.trn1.32xlarge",
    "vcpuNum": 128
   },
   {
    "_defaultOrder": 59,
    "_isFastLaunch": false,
    "category": "Accelerated computing",
    "gpuNum": 0,
    "hideHardwareSpecs": false,
    "memoryGiB": 512,
    "name": "ml.trn1n.32xlarge",
    "vcpuNum": 128
   }
  ],
  "instance_type": "ml.t3.medium",
  "kernelspec": {
   "display_name": "mathimage",
   "language": "python",
   "name": "python3"
  },
  "language_info": {
   "codemirror_mode": {
    "name": "ipython",
    "version": 3
   },
   "file_extension": ".py",
   "mimetype": "text/x-python",
   "name": "python",
   "nbconvert_exporter": "python",
   "pygments_lexer": "ipython3",
   "version": "3.12.2"
  }
 },
 "nbformat": 4,
 "nbformat_minor": 5
}
