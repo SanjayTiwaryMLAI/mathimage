{
 "cells": [
  {
   "cell_type": "code",
   "execution_count": 1,
   "id": "8be53876-7e52-4d85-920e-58e12aa4e5ca",
   "metadata": {
    "tags": []
   },
   "outputs": [],
   "source": [
    "import boto3\n",
    "import os\n",
    "import json\n",
    "import docx\n",
    "from IPython.display import Markdown, display\n",
    "import re\n",
    "\n",
    "region = os.environ.get(\"AWS_REGION\")\n",
    "boto3_bedrock = boto3.client(service_name='bedrock-runtime')\n",
    "from claude3 import Analyticsfunction, extract_python_code\n",
    "\n",
    "\n",
    "obj = Analyticsfunction()\n",
    "    \n",
    "claude3 = obj.call_claude_sonet_text"
   ]
  },
  {
   "cell_type": "code",
   "execution_count": 2,
   "id": "99c32074-9114-41dd-8c24-ca14aaddec14",
   "metadata": {
    "tags": []
   },
   "outputs": [],
   "source": [
    "def getText(filename):\n",
    "    doc = docx.Document(filename)\n",
    "    fullText = []\n",
    "    for para in doc.paragraphs:\n",
    "        fullText.append(para.text)\n",
    "    return '\\n'.join(fullText)"
   ]
  },
  {
   "cell_type": "code",
   "execution_count": 3,
   "id": "d403cb5d-bc66-4e76-9839-26341ab24911",
   "metadata": {
    "tags": []
   },
   "outputs": [],
   "source": [
    "note = getText(\"Vector-notes.docx\")"
   ]
  },
  {
   "cell_type": "code",
   "execution_count": 4,
   "id": "15fa86b9-d10a-4454-a582-2d4192aa807e",
   "metadata": {
    "tags": []
   },
   "outputs": [
    {
     "data": {
      "text/markdown": [
       "Okay, here are two multiple choice questions based on the given information about vectors:\n",
       "\n",
       "Question 1: What is the scalar triple product of three vectors a, b and c?\n",
       "(1) a . (b x c)\n",
       "(2) (a x b) . c  \n",
       "(3) a . b . c\n",
       "(4) Both (1) and (2)\n",
       "\n",
       "Question 2: If a, b and c are three coplanar vectors, then\n",
       "(1) a . (b x c) = 0\n",
       "(2) (a x b) . c = 0\n",
       "(3) a . b . c = 0  \n",
       "(4) Both (1) and (3)"
      ],
      "text/plain": [
       "<IPython.core.display.Markdown object>"
      ]
     },
     "metadata": {},
     "output_type": "display_data"
    }
   ],
   "source": [
    "prompt =f'''Human: create question 2 multiple choice question and answer\n",
    "\n",
    "<book>\n",
    "{note}\n",
    "</book>\n",
    "\n",
    "Assistant:'''\n",
    "\n",
    "body = json.dumps({\"prompt\": prompt, \"max_tokens_to_sample\": 1000, \"temperature\": 0.8})\n",
    "text = claude3(body)\n",
    "display(Markdown(text))"
   ]
  },
  {
   "cell_type": "code",
   "execution_count": 6,
   "id": "b1837e0a-aeee-4c4d-b8ce-f296f7733a5a",
   "metadata": {
    "tags": []
   },
   "outputs": [],
   "source": [
    "context = \"ABCDEF is a hexagon (six-sided polygon). Find the value of AB+BC+CD+DE+AF+FE+AE \""
   ]
  },
  {
   "cell_type": "code",
   "execution_count": 7,
   "id": "b6b5d747-baee-41ea-aa8d-3e3500a0958c",
   "metadata": {
    "tags": []
   },
   "outputs": [],
   "source": [
    "prompt =f'''Human: write python code to draw the nice diagram using matplotlib and save as jpg, add the question into the image itself. \n",
    "<context>\n",
    "{context}\n",
    "</context>\n",
    "\n",
    "\n",
    "Assistant:'''\n",
    "\n",
    "body = json.dumps({\"prompt\": prompt, \"max_tokens_to_sample\": 1000, \"temperature\": 0.8})"
   ]
  },
  {
   "cell_type": "code",
   "execution_count": 8,
   "id": "9a7291dc-6487-4cfa-b1e1-1f23f9273360",
   "metadata": {
    "tags": []
   },
   "outputs": [],
   "source": [
    "text = claude3(body)"
   ]
  },
  {
   "cell_type": "code",
   "execution_count": 9,
   "id": "4c82b4e4-5b6e-454e-aaf7-32560d9999e7",
   "metadata": {
    "tags": []
   },
   "outputs": [],
   "source": [
    "output_file = \"output_python_code.py\"  # Change this to your output file\n",
    "extract_python_code(text, output_file)"
   ]
  },
  {
   "cell_type": "code",
   "execution_count": 13,
   "id": "6954462b",
   "metadata": {},
   "outputs": [
    {
     "name": "stdout",
     "output_type": "stream",
     "text": [
      "Traceback (most recent call last):\n",
      "  File \"/Users/tiwarysa/Documents/Mathproblem/output_python_code.py\", line 1, in <module>\n",
      "    import matplotlib.pyplot as plt\n",
      "ModuleNotFoundError: No module named 'matplotlib'\n"
     ]
    }
   ],
   "source": [
    "!python3 output_python_code.py"
   ]
  },
  {
   "cell_type": "code",
   "execution_count": 11,
   "id": "826dcec2-4de3-4059-bf42-51c6706daf10",
   "metadata": {
    "tags": []
   },
   "outputs": [],
   "source": [
    "question = \"If the position vectors of the vertices A, B, and C of a triangle △ABC are αi+βj+γk, βi+γj+αk, and γi+αj+βk respectively, then △ABC is \""
   ]
  },
  {
   "cell_type": "code",
   "execution_count": 22,
   "id": "b002bf28-701c-47cf-bff0-c3f4bc9b2d37",
   "metadata": {
    "tags": []
   },
   "outputs": [],
   "source": [
    "prompt =f'''Human: Write Python code to draw the clear diagram in 2D for the given question using matplotlib and save it as a JPG file. Additionally, add the question text into the image itself.\n",
    "\n",
    "{question}\n",
    "\n",
    "Assistant:'''\n",
    "\n",
    "body = json.dumps({\"prompt\": prompt, \"max_tokens_to_sample\": 1000, \"temperature\": 0.8})"
   ]
  },
  {
   "cell_type": "code",
   "execution_count": 23,
   "id": "cc3db784-c309-4973-b1f9-25be141ef489",
   "metadata": {
    "tags": []
   },
   "outputs": [
    {
     "name": "stdout",
     "output_type": "stream",
     "text": [
      "succesfuly\n"
     ]
    }
   ],
   "source": [
    "text = claude3(body)\n",
    "output_file = \"output_python_code_2.py\"\n",
    "extract_python_code(text, output_file)"
   ]
  },
  {
   "cell_type": "code",
   "execution_count": 10,
   "id": "1553bdb8-9e9c-4a19-a3af-f5bccf2d10a1",
   "metadata": {
    "tags": []
   },
   "outputs": [
    {
     "data": {
      "text/markdown": [
       "Here's a Python code that uses matplotlib to draw the diagram for the given question and save it as a JPG file:\n",
       "\n",
       "```python\n",
       "import matplotlib.pyplot as plt\n",
       "import numpy as np\n",
       "\n",
       "# Define the coordinates of the hexagon vertices\n",
       "x = np.array([0, 2, 4, 4, 2, 0])\n",
       "y = np.array([0, 0, 2, 4, 4, 2])\n",
       "\n",
       "# Create a figure and axis\n",
       "fig, ax = plt.subplots(figsize=(8, 6))\n",
       "\n",
       "# Plot the hexagon\n",
       "ax.plot(x, y, 'r-', linewidth=2)\n",
       "\n",
       "# Add vertex labels\n",
       "labels = ['A', 'B', 'C', 'D', 'E', 'F']\n",
       "for i, (xi, yi) in enumerate(zip(x, y)):\n",
       "    ax.annotate(labels[i], (xi, yi), xytext=(xi + 0.2, yi + 0.2), fontsize=14)\n",
       "\n",
       "# Add the question text\n",
       "question = \"ABCDEF is a hexagon (six-sided polygon). Find the value of AB+BC+CD+DE+AF+FE+AE\"\n",
       "ax.text(0.5, -0.15, question, ha='center', va='center', transform=ax.transAxes, fontsize=12)\n",
       "\n",
       "# Set axis limits and remove ticks\n",
       "ax.set_xlim([-1, 5])\n",
       "ax.set_ylim([-1, 5])\n",
       "ax.set_xticks([])\n",
       "ax.set_yticks([])\n",
       "\n",
       "# Set aspect ratio to make the hexagon look regular\n",
       "ax.set_aspect('equal', adjustable='box')\n",
       "\n",
       "# Save the figure as a JPG file\n",
       "plt.savefig('hexagon_diagram.jpg', dpi=300, bbox_inches='tight')\n",
       "```\n",
       "\n",
       "This code will create a JPG file named `hexagon_diagram.jpg` in the same directory as the Python script. The image will contain a regular hexagon with vertex labels (A, B, C, D, E, F) and the question text at the bottom.\n",
       "\n",
       "Note that you need to have matplotlib installed to run this code. You can install it using `pip install matplotlib`."
      ],
      "text/plain": [
       "<IPython.core.display.Markdown object>"
      ]
     },
     "metadata": {},
     "output_type": "display_data"
    }
   ],
   "source": [
    "display(Markdown(text))"
   ]
  },
  {
   "cell_type": "code",
   "execution_count": 11,
   "id": "1e779e69-763b-40aa-be12-54f78d385672",
   "metadata": {
    "tags": []
   },
   "outputs": [
    {
     "ename": "FileNotFoundError",
     "evalue": "[Errno 2] No such file or directory: 'hexagon_diagram.jpg'",
     "output_type": "error",
     "traceback": [
      "\u001b[0;31m---------------------------------------------------------------------------\u001b[0m",
      "\u001b[0;31mFileNotFoundError\u001b[0m                         Traceback (most recent call last)",
      "Cell \u001b[0;32mIn[11], line 5\u001b[0m\n\u001b[1;32m      2\u001b[0m \u001b[38;5;28;01mimport\u001b[39;00m \u001b[38;5;21;01mmatplotlib\u001b[39;00m\u001b[38;5;21;01m.\u001b[39;00m\u001b[38;5;21;01mimage\u001b[39;00m \u001b[38;5;28;01mas\u001b[39;00m \u001b[38;5;21;01mmpimg\u001b[39;00m\n\u001b[1;32m      4\u001b[0m \u001b[38;5;66;03m# Load the image\u001b[39;00m\n\u001b[0;32m----> 5\u001b[0m img \u001b[38;5;241m=\u001b[39m \u001b[43mmpimg\u001b[49m\u001b[38;5;241;43m.\u001b[39;49m\u001b[43mimread\u001b[49m\u001b[43m(\u001b[49m\u001b[38;5;124;43m'\u001b[39;49m\u001b[38;5;124;43mhexagon_diagram.jpg\u001b[39;49m\u001b[38;5;124;43m'\u001b[39;49m\u001b[43m)\u001b[49m\n\u001b[1;32m      7\u001b[0m \u001b[38;5;66;03m# Display the image\u001b[39;00m\n\u001b[1;32m      8\u001b[0m plt\u001b[38;5;241m.\u001b[39mimshow(img)\n",
      "File \u001b[0;32m/opt/homebrew/lib/python3.11/site-packages/matplotlib/image.py:1525\u001b[0m, in \u001b[0;36mimread\u001b[0;34m(fname, format)\u001b[0m\n\u001b[1;32m   1518\u001b[0m \u001b[38;5;28;01mif\u001b[39;00m \u001b[38;5;28misinstance\u001b[39m(fname, \u001b[38;5;28mstr\u001b[39m) \u001b[38;5;129;01mand\u001b[39;00m \u001b[38;5;28mlen\u001b[39m(parse\u001b[38;5;241m.\u001b[39murlparse(fname)\u001b[38;5;241m.\u001b[39mscheme) \u001b[38;5;241m>\u001b[39m \u001b[38;5;241m1\u001b[39m:\n\u001b[1;32m   1519\u001b[0m     \u001b[38;5;66;03m# Pillow doesn't handle URLs directly.\u001b[39;00m\n\u001b[1;32m   1520\u001b[0m     \u001b[38;5;28;01mraise\u001b[39;00m \u001b[38;5;167;01mValueError\u001b[39;00m(\n\u001b[1;32m   1521\u001b[0m         \u001b[38;5;124m\"\u001b[39m\u001b[38;5;124mPlease open the URL for reading and pass the \u001b[39m\u001b[38;5;124m\"\u001b[39m\n\u001b[1;32m   1522\u001b[0m         \u001b[38;5;124m\"\u001b[39m\u001b[38;5;124mresult to Pillow, e.g. with \u001b[39m\u001b[38;5;124m\"\u001b[39m\n\u001b[1;32m   1523\u001b[0m         \u001b[38;5;124m\"\u001b[39m\u001b[38;5;124m``np.array(PIL.Image.open(urllib.request.urlopen(url)))``.\u001b[39m\u001b[38;5;124m\"\u001b[39m\n\u001b[1;32m   1524\u001b[0m         )\n\u001b[0;32m-> 1525\u001b[0m \u001b[38;5;28;01mwith\u001b[39;00m \u001b[43mimg_open\u001b[49m\u001b[43m(\u001b[49m\u001b[43mfname\u001b[49m\u001b[43m)\u001b[49m \u001b[38;5;28;01mas\u001b[39;00m image:\n\u001b[1;32m   1526\u001b[0m     \u001b[38;5;28;01mreturn\u001b[39;00m (_pil_png_to_float_array(image)\n\u001b[1;32m   1527\u001b[0m             \u001b[38;5;28;01mif\u001b[39;00m \u001b[38;5;28misinstance\u001b[39m(image, PIL\u001b[38;5;241m.\u001b[39mPngImagePlugin\u001b[38;5;241m.\u001b[39mPngImageFile) \u001b[38;5;28;01melse\u001b[39;00m\n\u001b[1;32m   1528\u001b[0m             pil_to_array(image))\n",
      "File \u001b[0;32m/opt/homebrew/lib/python3.11/site-packages/PIL/Image.py:3247\u001b[0m, in \u001b[0;36mopen\u001b[0;34m(fp, mode, formats)\u001b[0m\n\u001b[1;32m   3244\u001b[0m     filename \u001b[38;5;241m=\u001b[39m fp\n\u001b[1;32m   3246\u001b[0m \u001b[38;5;28;01mif\u001b[39;00m filename:\n\u001b[0;32m-> 3247\u001b[0m     fp \u001b[38;5;241m=\u001b[39m \u001b[43mbuiltins\u001b[49m\u001b[38;5;241;43m.\u001b[39;49m\u001b[43mopen\u001b[49m\u001b[43m(\u001b[49m\u001b[43mfilename\u001b[49m\u001b[43m,\u001b[49m\u001b[43m \u001b[49m\u001b[38;5;124;43m\"\u001b[39;49m\u001b[38;5;124;43mrb\u001b[39;49m\u001b[38;5;124;43m\"\u001b[39;49m\u001b[43m)\u001b[49m\n\u001b[1;32m   3248\u001b[0m     exclusive_fp \u001b[38;5;241m=\u001b[39m \u001b[38;5;28;01mTrue\u001b[39;00m\n\u001b[1;32m   3250\u001b[0m \u001b[38;5;28;01mtry\u001b[39;00m:\n",
      "\u001b[0;31mFileNotFoundError\u001b[0m: [Errno 2] No such file or directory: 'hexagon_diagram.jpg'"
     ]
    }
   ],
   "source": [
    "import matplotlib.pyplot as plt\n",
    "import matplotlib.image as mpimg\n",
    "\n",
    "# Load the image\n",
    "img = mpimg.imread('hexagon_diagram.jpg')\n",
    "\n",
    "# Display the image\n",
    "plt.imshow(img)\n",
    "plt.axis('off')  # Hide axis ticks and labels\n",
    "plt.show()"
   ]
  },
  {
   "cell_type": "code",
   "execution_count": 26,
   "id": "3caa105b-99c2-4381-850c-65ad3861acc0",
   "metadata": {
    "tags": []
   },
   "outputs": [
    {
     "name": "stdout",
     "output_type": "stream",
     "text": [
      "\u001b[34mimport\u001b[39;49;00m \u001b[04m\u001b[36mmatplotlib\u001b[39;49;00m\u001b[04m\u001b[36m.\u001b[39;49;00m\u001b[04m\u001b[36mpyplot\u001b[39;49;00m \u001b[34mas\u001b[39;49;00m \u001b[04m\u001b[36mplt\u001b[39;49;00m\u001b[37m\u001b[39;49;00m\n",
      "\u001b[34mimport\u001b[39;49;00m \u001b[04m\u001b[36mnumpy\u001b[39;49;00m \u001b[34mas\u001b[39;49;00m \u001b[04m\u001b[36mnp\u001b[39;49;00m\u001b[37m\u001b[39;49;00m\n",
      "\u001b[37m\u001b[39;49;00m\n",
      "\u001b[37m# Define the question text\u001b[39;49;00m\u001b[37m\u001b[39;49;00m\n",
      "question_text = \u001b[33m\"\u001b[39;49;00m\u001b[33mIf the position vectors of the vertices A, B, and C of a triangle \u001b[39;49;00m\u001b[33m\\u2206\u001b[39;49;00m\u001b[33mABC are \u001b[39;49;00m\u001b[33m\\u03b1\u001b[39;49;00m\u001b[33mi+\u001b[39;49;00m\u001b[33m\\u03b2\u001b[39;49;00m\u001b[33mj+\u001b[39;49;00m\u001b[33m\\u03b3\u001b[39;49;00m\u001b[33mk, \u001b[39;49;00m\u001b[33m\\u03b2\u001b[39;49;00m\u001b[33mi+\u001b[39;49;00m\u001b[33m\\u03b3\u001b[39;49;00m\u001b[33mj+\u001b[39;49;00m\u001b[33m\\u03b1\u001b[39;49;00m\u001b[33mk, and \u001b[39;49;00m\u001b[33m\\u03b3\u001b[39;49;00m\u001b[33mi+\u001b[39;49;00m\u001b[33m\\u03b1\u001b[39;49;00m\u001b[33mj+\u001b[39;49;00m\u001b[33m\\u03b2\u001b[39;49;00m\u001b[33mk respectively, then \u001b[39;49;00m\u001b[33m\\u2206\u001b[39;49;00m\u001b[33mABC is\u001b[39;49;00m\u001b[33m\"\u001b[39;49;00m\u001b[37m\u001b[39;49;00m\n",
      "\u001b[37m\u001b[39;49;00m\n",
      "\u001b[37m# Create a figure and axis\u001b[39;49;00m\u001b[37m\u001b[39;49;00m\n",
      "fig, ax = plt.subplots(figsize=(\u001b[34m8\u001b[39;49;00m, \u001b[34m6\u001b[39;49;00m))\u001b[37m\u001b[39;49;00m\n",
      "\u001b[37m\u001b[39;49;00m\n",
      "\u001b[37m# Define the position vectors\u001b[39;49;00m\u001b[37m\u001b[39;49;00m\n",
      "a = np.array([\u001b[34m1\u001b[39;49;00m, \u001b[34m2\u001b[39;49;00m, \u001b[34m3\u001b[39;49;00m])\u001b[37m\u001b[39;49;00m\n",
      "b = np.array([\u001b[34m2\u001b[39;49;00m, \u001b[34m3\u001b[39;49;00m, \u001b[34m1\u001b[39;49;00m])\u001b[37m\u001b[39;49;00m\n",
      "c = np.array([\u001b[34m3\u001b[39;49;00m, \u001b[34m1\u001b[39;49;00m, \u001b[34m2\u001b[39;49;00m])\u001b[37m\u001b[39;49;00m\n",
      "\u001b[37m\u001b[39;49;00m\n",
      "\u001b[37m# Plot the triangle\u001b[39;49;00m\u001b[37m\u001b[39;49;00m\n",
      "ax.plot([\u001b[34m0\u001b[39;49;00m, a[\u001b[34m0\u001b[39;49;00m]], [\u001b[34m0\u001b[39;49;00m, a[\u001b[34m1\u001b[39;49;00m]], color=\u001b[33m'\u001b[39;49;00m\u001b[33mk\u001b[39;49;00m\u001b[33m'\u001b[39;49;00m, linestyle=\u001b[33m'\u001b[39;49;00m\u001b[33m-\u001b[39;49;00m\u001b[33m'\u001b[39;49;00m, linewidth=\u001b[34m2\u001b[39;49;00m)\u001b[37m\u001b[39;49;00m\n",
      "ax.plot([\u001b[34m0\u001b[39;49;00m, b[\u001b[34m0\u001b[39;49;00m]], [\u001b[34m0\u001b[39;49;00m, b[\u001b[34m1\u001b[39;49;00m]], color=\u001b[33m'\u001b[39;49;00m\u001b[33mk\u001b[39;49;00m\u001b[33m'\u001b[39;49;00m, linestyle=\u001b[33m'\u001b[39;49;00m\u001b[33m-\u001b[39;49;00m\u001b[33m'\u001b[39;49;00m, linewidth=\u001b[34m2\u001b[39;49;00m)\u001b[37m\u001b[39;49;00m\n",
      "ax.plot([\u001b[34m0\u001b[39;49;00m, c[\u001b[34m0\u001b[39;49;00m]], [\u001b[34m0\u001b[39;49;00m, c[\u001b[34m1\u001b[39;49;00m]], color=\u001b[33m'\u001b[39;49;00m\u001b[33mk\u001b[39;49;00m\u001b[33m'\u001b[39;49;00m, linestyle=\u001b[33m'\u001b[39;49;00m\u001b[33m-\u001b[39;49;00m\u001b[33m'\u001b[39;49;00m, linewidth=\u001b[34m2\u001b[39;49;00m)\u001b[37m\u001b[39;49;00m\n",
      "ax.plot([a[\u001b[34m0\u001b[39;49;00m], b[\u001b[34m0\u001b[39;49;00m]], [a[\u001b[34m1\u001b[39;49;00m], b[\u001b[34m1\u001b[39;49;00m]], color=\u001b[33m'\u001b[39;49;00m\u001b[33mk\u001b[39;49;00m\u001b[33m'\u001b[39;49;00m, linestyle=\u001b[33m'\u001b[39;49;00m\u001b[33m-\u001b[39;49;00m\u001b[33m'\u001b[39;49;00m, linewidth=\u001b[34m2\u001b[39;49;00m)\u001b[37m\u001b[39;49;00m\n",
      "ax.plot([b[\u001b[34m0\u001b[39;49;00m], c[\u001b[34m0\u001b[39;49;00m]], [b[\u001b[34m1\u001b[39;49;00m], c[\u001b[34m1\u001b[39;49;00m]], color=\u001b[33m'\u001b[39;49;00m\u001b[33mk\u001b[39;49;00m\u001b[33m'\u001b[39;49;00m, linestyle=\u001b[33m'\u001b[39;49;00m\u001b[33m-\u001b[39;49;00m\u001b[33m'\u001b[39;49;00m, linewidth=\u001b[34m2\u001b[39;49;00m)\u001b[37m\u001b[39;49;00m\n",
      "ax.plot([c[\u001b[34m0\u001b[39;49;00m], a[\u001b[34m0\u001b[39;49;00m]], [c[\u001b[34m1\u001b[39;49;00m], a[\u001b[34m1\u001b[39;49;00m]], color=\u001b[33m'\u001b[39;49;00m\u001b[33mk\u001b[39;49;00m\u001b[33m'\u001b[39;49;00m, linestyle=\u001b[33m'\u001b[39;49;00m\u001b[33m-\u001b[39;49;00m\u001b[33m'\u001b[39;49;00m, linewidth=\u001b[34m2\u001b[39;49;00m)\u001b[37m\u001b[39;49;00m\n",
      "\u001b[37m\u001b[39;49;00m\n",
      "\u001b[37m# Label the vertices\u001b[39;49;00m\u001b[37m\u001b[39;49;00m\n",
      "ax.text(a[\u001b[34m0\u001b[39;49;00m], a[\u001b[34m1\u001b[39;49;00m], \u001b[33m'\u001b[39;49;00m\u001b[33mA\u001b[39;49;00m\u001b[33m'\u001b[39;49;00m, fontsize=\u001b[34m12\u001b[39;49;00m)\u001b[37m\u001b[39;49;00m\n",
      "ax.text(b[\u001b[34m0\u001b[39;49;00m], b[\u001b[34m1\u001b[39;49;00m], \u001b[33m'\u001b[39;49;00m\u001b[33mB\u001b[39;49;00m\u001b[33m'\u001b[39;49;00m, fontsize=\u001b[34m12\u001b[39;49;00m)\u001b[37m\u001b[39;49;00m\n",
      "ax.text(c[\u001b[34m0\u001b[39;49;00m], c[\u001b[34m1\u001b[39;49;00m], \u001b[33m'\u001b[39;49;00m\u001b[33mC\u001b[39;49;00m\u001b[33m'\u001b[39;49;00m, fontsize=\u001b[34m12\u001b[39;49;00m)\u001b[37m\u001b[39;49;00m\n",
      "\u001b[37m\u001b[39;49;00m\n",
      "\u001b[37m# Add the question text\u001b[39;49;00m\u001b[37m\u001b[39;49;00m\n",
      "ax.text(\u001b[34m0.05\u001b[39;49;00m, \u001b[34m0.95\u001b[39;49;00m, question_text, transform=ax.transAxes, fontsize=\u001b[34m12\u001b[39;49;00m, verticalalignment=\u001b[33m'\u001b[39;49;00m\u001b[33mtop\u001b[39;49;00m\u001b[33m'\u001b[39;49;00m, wrap=\u001b[34mTrue\u001b[39;49;00m, bbox=\u001b[36mdict\u001b[39;49;00m(boxstyle=\u001b[33m'\u001b[39;49;00m\u001b[33mround\u001b[39;49;00m\u001b[33m'\u001b[39;49;00m, facecolor=\u001b[33m'\u001b[39;49;00m\u001b[33mwheat\u001b[39;49;00m\u001b[33m'\u001b[39;49;00m, alpha=\u001b[34m0.5\u001b[39;49;00m))\u001b[37m\u001b[39;49;00m\n",
      "\u001b[37m\u001b[39;49;00m\n",
      "\u001b[37m# Set the aspect ratio and axis limits\u001b[39;49;00m\u001b[37m\u001b[39;49;00m\n",
      "ax.set_aspect(\u001b[33m'\u001b[39;49;00m\u001b[33mequal\u001b[39;49;00m\u001b[33m'\u001b[39;49;00m)\u001b[37m\u001b[39;49;00m\n",
      "ax.set_xlim(-\u001b[34m1\u001b[39;49;00m, \u001b[34m4\u001b[39;49;00m)\u001b[37m\u001b[39;49;00m\n",
      "ax.set_ylim(-\u001b[34m1\u001b[39;49;00m, \u001b[34m4\u001b[39;49;00m)\u001b[37m\u001b[39;49;00m\n",
      "\u001b[37m\u001b[39;49;00m\n",
      "\u001b[37m# Set axis labels and title\u001b[39;49;00m\u001b[37m\u001b[39;49;00m\n",
      "ax.set_xlabel(\u001b[33m'\u001b[39;49;00m\u001b[33mX\u001b[39;49;00m\u001b[33m'\u001b[39;49;00m)\u001b[37m\u001b[39;49;00m\n",
      "ax.set_ylabel(\u001b[33m'\u001b[39;49;00m\u001b[33mY\u001b[39;49;00m\u001b[33m'\u001b[39;49;00m)\u001b[37m\u001b[39;49;00m\n",
      "ax.set_title(\u001b[33m'\u001b[39;49;00m\u001b[33mTriangle \u001b[39;49;00m\u001b[33m\\u2206\u001b[39;49;00m\u001b[33mABC\u001b[39;49;00m\u001b[33m'\u001b[39;49;00m)\u001b[37m\u001b[39;49;00m\n",
      "\u001b[37m\u001b[39;49;00m\n",
      "\u001b[37m# Save the plot as a JPG file\u001b[39;49;00m\u001b[37m\u001b[39;49;00m\n",
      "plt.savefig(\u001b[33m'\u001b[39;49;00m\u001b[33mtriangle_diagram.jpg\u001b[39;49;00m\u001b[33m'\u001b[39;49;00m, dpi=\u001b[34m300\u001b[39;49;00m, bbox_inches=\u001b[33m'\u001b[39;49;00m\u001b[33mtight\u001b[39;49;00m\u001b[33m'\u001b[39;49;00m)\u001b[37m\u001b[39;49;00m\n"
     ]
    }
   ],
   "source": [
    "! pygmentize output_python_code_2.py"
   ]
  },
  {
   "cell_type": "code",
   "execution_count": 31,
   "id": "229cd599-ba3e-4daf-bed9-f4862dfa9924",
   "metadata": {
    "tags": []
   },
   "outputs": [],
   "source": [
    "question = \"If the adjacent sides of a parallelogram are 3i+2j and -i+4j+2k, find the area of the parallelogram.\""
   ]
  },
  {
   "cell_type": "code",
   "execution_count": 47,
   "id": "e1c214b8-99e0-4d5f-b48a-1702acb73dfa",
   "metadata": {
    "tags": []
   },
   "outputs": [],
   "source": [
    "prompt =f'''Human: Write Python code to draw the diagram for the given question using turtle and save it as a JPG file. Additionally, add the question text into the image itself.\n",
    "\n",
    "{question}\n",
    "\n",
    "Assistant:'''\n",
    "\n",
    "body = json.dumps({\"prompt\": prompt, \"max_tokens_to_sample\": 1000, \"temperature\": 0.8})"
   ]
  },
  {
   "cell_type": "code",
   "execution_count": 48,
   "id": "24986ff4-feb7-4c19-ac0c-1829f297c9b0",
   "metadata": {
    "tags": []
   },
   "outputs": [],
   "source": [
    "text = claude3(body)"
   ]
  },
  {
   "cell_type": "code",
   "execution_count": 49,
   "id": "8ac324ce-f482-4521-ad06-cde5f3340384",
   "metadata": {
    "tags": []
   },
   "outputs": [
    {
     "data": {
      "text/plain": [
       "'Here\\'s a Python code that uses the `turtle` library to draw the diagram for the given question and save it as a JPG file. The question text is also added to the image:\\n\\n```python\\nimport turtle\\nimport math\\n\\n# Set up the turtle screen\\nscreen = turtle.Screen()\\nscreen.bgcolor(\"white\")\\n\\n# Create a turtle object\\nt = turtle.Turtle()\\nt.speed(0)  # Set the turtle speed to maximum\\n\\n# Define the function to draw the parallelogram\\ndef draw_parallelogram(side1, side2):\\n    # Draw the first side\\n    t.pendown()\\n    t.forward(side1[0])\\n    t.left(90)\\n    t.forward(side1[1])\\n\\n    # Draw the second side\\n    t.left(90)\\n    t.forward(side2[0])\\n    t.left(90)\\n    t.forward(side2[1])\\n\\n    # Complete the parallelogram\\n    t.left(90)\\n    t.forward(side1[0])\\n    t.left(90)\\n    t.forward(side1[1])\\n\\n    t.penup()\\n\\n# Define the function to calculate the area of the parallelogram\\ndef calculate_area(side1, side2):\\n    area = abs(side1[0] * side2[1] - side1[1] * side2[0])\\n    return area\\n\\n# Define the function to add text to the image\\ndef add_text(text):\\n    t.penup()\\n    t.goto(-300, 200)\\n    t.pendown()\\n    t.write(text, font=(\"Arial\", 16, \"normal\"))\\n\\n# Define the sides of the parallelogram\\nside1 = (3, 2)  # 3i + 2j\\nside2 = (-1, 4, 2)  # -i + 4j + 2k\\n\\n# Draw the parallelogram\\ndraw_parallelogram(side1, side2[:2])  # Only consider the x and y components\\n\\n# Calculate the area of the parallelogram\\narea = calculate_area(side1, side2[:2])\\n\\n# Add the question text to the image\\nquestion = \"If the adjacent sides of a parallelogram are 3i+2j and -i+4j+2k, find the area of the parallelogram.\"\\nadd_text(question)\\n\\n# Add the area value to the image\\narea_text = f\"Area of the parallelogram = {area}\"\\nt.penup()\\nt.goto(-300, 170)\\nt.pendown()\\nt.write(area_text, font=(\"Arial\", 16, \"normal\"))\\n\\n# Save the image as a JPG file\\nturtle.getcanvas().postscript(file=\"parallelogram_diagram.jpg\")\\n\\n# Keep the turtle window open\\nturtle.done()\\n```\\n\\nThis code will create a window with the parallelogram drawn based on the given sides, and the question text and the calculated area will be added to the image. Finally, the image will be saved as `parallelogram_diagram.jpg` in the same directory as the Python script.\\n\\nNote: The `turtle` library is a part of the standard Python library, so no additional installation is required. However, if you encounter any issues with the `turtle` module, you may need to install it separately using `pip install PythonTurtle`.'"
      ]
     },
     "execution_count": 49,
     "metadata": {},
     "output_type": "execute_result"
    }
   ],
   "source": [
    "text"
   ]
  },
  {
   "cell_type": "code",
   "execution_count": 53,
   "id": "8bd240d6-366d-46b5-96d9-8ddab3b48e06",
   "metadata": {
    "tags": []
   },
   "outputs": [],
   "source": [
    "prompt1 =f'''Human: convert into python using matplotlib library\n",
    "{text}\n",
    "\n",
    "Assistant:'''\n",
    "\n",
    "body1 = json.dumps({\"prompt\": prompt1, \"max_tokens_to_sample\": 1000, \"temperature\": 0.8})"
   ]
  },
  {
   "cell_type": "code",
   "execution_count": 54,
   "id": "a32722ff-f76b-4f03-85bc-eb2060474cc2",
   "metadata": {
    "tags": []
   },
   "outputs": [],
   "source": [
    "text_p = claude3(body1)\n"
   ]
  },
  {
   "cell_type": "code",
   "execution_count": 55,
   "id": "04c23747-37a2-4b97-9612-8ff20bbd7743",
   "metadata": {
    "tags": []
   },
   "outputs": [
    {
     "data": {
      "text/plain": [
       "'To convert the given Python code to use the `matplotlib` library instead of `turtle`, we can use the `matplotlib.pyplot` module. Here\\'s the modified code:\\n\\n```python\\nimport matplotlib.pyplot as plt\\nimport numpy as np\\n\\n# Define the sides of the parallelogram\\nside1 = np.array([3, 2])  # 3i + 2j\\nside2 = np.array([-1, 4])  # -i + 4j\\n\\n# Define the function to draw the parallelogram\\ndef draw_parallelogram(side1, side2):\\n    # Create the vertices of the parallelogram\\n    vertex1 = np.array([0, 0])\\n    vertex2 = vertex1 + side1\\n    vertex3 = vertex2 + side2\\n    vertex4 = vertex1 + side2\\n\\n    # Create a list of vertices\\n    vertices = [vertex1, vertex2, vertex3, vertex4, vertex1]\\n\\n    # Convert the vertices to a NumPy array\\n    vertices = np.array(vertices)\\n\\n    # Plot the parallelogram\\n    plt.figure(figsize=(8, 6))\\n    plt.plot(vertices[:, 0], vertices[:, 1], \\'-\\')\\n    plt.axis(\\'equal\\')\\n    plt.title(\"Parallelogram\")\\n    plt.xlabel(\"X\")\\n    plt.ylabel(\"Y\")\\n    plt.grid(True)\\n\\n    # Add the question text\\n    question = \"If the adjacent sides of a parallelogram are 3i+2j and -i+4j+2k, find the area of the parallelogram.\"\\n    plt.text(-4, 5, question, fontsize=12)\\n\\n# Define the function to calculate the area of the parallelogram\\ndef calculate_area(side1, side2):\\n    area = abs(np.cross(side1, side2))\\n    return area\\n\\n# Draw the parallelogram\\ndraw_parallelogram(side1, side2)\\n\\n# Calculate the area of the parallelogram\\narea = calculate_area(side1, side2)\\n\\n# Add the area value to the plot\\narea_text = f\"Area of the parallelogram = {area:.2f}\"\\nplt.text(-4, 4.5, area_text, fontsize=12)\\n\\n# Save the plot as a JPG file\\nplt.savefig(\"parallelogram_diagram.jpg\", dpi=300, bbox_inches=\"tight\")\\n\\n# Display the plot\\nplt.show()\\n```\\n\\nIn this code, we use the `numpy` library to perform vector operations and create the vertices of the parallelogram. The `matplotlib.pyplot` module is used to create the plot and draw the parallelogram.\\n\\nHere\\'s a breakdown of the code:\\n\\n1. We define the sides of the parallelogram as NumPy arrays.\\n2. The `draw_parallelogram` function creates the vertices of the parallelogram based on the given sides, and then plots the parallelogram using `plt.plot`. It also adds the question text to the plot using `plt.text`.\\n3. The `calculate_area` function calculates the area of the parallelogram using the cross product of the two sides.\\n4. We call `draw_parallelogram` to plot the parallelogram and `calculate_area` to find the area.\\n5. The area value is added to the plot using `plt.text`.\\n6. The plot is saved as a JPG file using `plt.savefig`.\\n7. Finally, the plot is displayed using `plt.show`.\\n\\nNote that you need to have `matplotlib` and `numpy` installed to run this code. You can install them using `pip`:\\n\\n```\\npip install matplotlib numpy\\n```\\n\\nThe output of this code will be a JPG file named `parallelogram_diagram.jpg` in the same directory as the Python script, containing the parallelogram, the question text, and the calculated area value.'"
      ]
     },
     "execution_count": 55,
     "metadata": {},
     "output_type": "execute_result"
    }
   ],
   "source": [
    "text_p"
   ]
  },
  {
   "cell_type": "code",
   "execution_count": 56,
   "id": "d18797b0-58e0-41fd-b4be-32057d868111",
   "metadata": {
    "tags": []
   },
   "outputs": [
    {
     "name": "stdout",
     "output_type": "stream",
     "text": [
      "succesfuly\n"
     ]
    }
   ],
   "source": [
    "output_file = \"output_python_code_2.py\"\n",
    "extract_python_code(text, output_file)"
   ]
  },
  {
   "cell_type": "code",
   "execution_count": 57,
   "id": "0b712b09-de7b-46d8-a968-f3b3a1218992",
   "metadata": {
    "tags": []
   },
   "outputs": [
    {
     "data": {
      "text/markdown": [
       "To convert the given Python code to use the `matplotlib` library instead of `turtle`, we can use the `matplotlib.pyplot` module. Here's the modified code:\n",
       "\n",
       "```python\n",
       "import matplotlib.pyplot as plt\n",
       "import numpy as np\n",
       "\n",
       "# Define the sides of the parallelogram\n",
       "side1 = np.array([3, 2])  # 3i + 2j\n",
       "side2 = np.array([-1, 4])  # -i + 4j\n",
       "\n",
       "# Define the function to draw the parallelogram\n",
       "def draw_parallelogram(side1, side2):\n",
       "    # Create the vertices of the parallelogram\n",
       "    vertex1 = np.array([0, 0])\n",
       "    vertex2 = vertex1 + side1\n",
       "    vertex3 = vertex2 + side2\n",
       "    vertex4 = vertex1 + side2\n",
       "\n",
       "    # Create a list of vertices\n",
       "    vertices = [vertex1, vertex2, vertex3, vertex4, vertex1]\n",
       "\n",
       "    # Convert the vertices to a NumPy array\n",
       "    vertices = np.array(vertices)\n",
       "\n",
       "    # Plot the parallelogram\n",
       "    plt.figure(figsize=(8, 6))\n",
       "    plt.plot(vertices[:, 0], vertices[:, 1], '-')\n",
       "    plt.axis('equal')\n",
       "    plt.title(\"Parallelogram\")\n",
       "    plt.xlabel(\"X\")\n",
       "    plt.ylabel(\"Y\")\n",
       "    plt.grid(True)\n",
       "\n",
       "    # Add the question text\n",
       "    question = \"If the adjacent sides of a parallelogram are 3i+2j and -i+4j+2k, find the area of the parallelogram.\"\n",
       "    plt.text(-4, 5, question, fontsize=12)\n",
       "\n",
       "# Define the function to calculate the area of the parallelogram\n",
       "def calculate_area(side1, side2):\n",
       "    area = abs(np.cross(side1, side2))\n",
       "    return area\n",
       "\n",
       "# Draw the parallelogram\n",
       "draw_parallelogram(side1, side2)\n",
       "\n",
       "# Calculate the area of the parallelogram\n",
       "area = calculate_area(side1, side2)\n",
       "\n",
       "# Add the area value to the plot\n",
       "area_text = f\"Area of the parallelogram = {area:.2f}\"\n",
       "plt.text(-4, 4.5, area_text, fontsize=12)\n",
       "\n",
       "# Save the plot as a JPG file\n",
       "plt.savefig(\"parallelogram_diagram.jpg\", dpi=300, bbox_inches=\"tight\")\n",
       "\n",
       "# Display the plot\n",
       "plt.show()\n",
       "```\n",
       "\n",
       "In this code, we use the `numpy` library to perform vector operations and create the vertices of the parallelogram. The `matplotlib.pyplot` module is used to create the plot and draw the parallelogram.\n",
       "\n",
       "Here's a breakdown of the code:\n",
       "\n",
       "1. We define the sides of the parallelogram as NumPy arrays.\n",
       "2. The `draw_parallelogram` function creates the vertices of the parallelogram based on the given sides, and then plots the parallelogram using `plt.plot`. It also adds the question text to the plot using `plt.text`.\n",
       "3. The `calculate_area` function calculates the area of the parallelogram using the cross product of the two sides.\n",
       "4. We call `draw_parallelogram` to plot the parallelogram and `calculate_area` to find the area.\n",
       "5. The area value is added to the plot using `plt.text`.\n",
       "6. The plot is saved as a JPG file using `plt.savefig`.\n",
       "7. Finally, the plot is displayed using `plt.show`.\n",
       "\n",
       "Note that you need to have `matplotlib` and `numpy` installed to run this code. You can install them using `pip`:\n",
       "\n",
       "```\n",
       "pip install matplotlib numpy\n",
       "```\n",
       "\n",
       "The output of this code will be a JPG file named `parallelogram_diagram.jpg` in the same directory as the Python script, containing the parallelogram, the question text, and the calculated area value."
      ],
      "text/plain": [
       "<IPython.core.display.Markdown object>"
      ]
     },
     "metadata": {},
     "output_type": "display_data"
    }
   ],
   "source": [
    "display(Markdown(text_p))"
   ]
  },
  {
   "cell_type": "code",
   "execution_count": 58,
   "id": "032e452c-7031-45f6-b6fb-d6c35b41ffc8",
   "metadata": {
    "tags": []
   },
   "outputs": [
    {
     "data": {
      "image/png": "[encoded data removed]",
      "text/plain": [
       "<Figure size 640x480 with 1 Axes>"
      ]
     },
     "metadata": {},
     "output_type": "display_data"
    }
   ],
   "source": [
    "import matplotlib.pyplot as plt\n",
    "import matplotlib.image as mpimg\n",
    "\n",
    "# Load the image\n",
    "img = mpimg.imread('parallelogram_diagram.jpg')\n",
    "\n",
    "# Display the image\n",
    "plt.imshow(img)\n",
    "plt.axis('off')  # Hide axis ticks and labels\n",
    "plt.show()"
   ]
  },
  {
   "cell_type": "code",
   "execution_count": 42,
   "id": "ea4a5b41-f145-4a2e-9760-c5d703a3ad98",
   "metadata": {
    "tags": []
   },
   "outputs": [
    {
     "data": {
      "image/png": "[encoded data removed]",
      "text/plain": [
       "<Figure size 800x600 with 1 Axes>"
      ]
     },
     "metadata": {},
     "output_type": "display_data"
    }
   ],
   "source": [
    "import matplotlib.pyplot as plt\n",
    "import numpy as np\n",
    "\n",
    "# Parallelogram vectors\n",
    "v1 = np.array([3, 2, 0])  # 3i + 2j\n",
    "v2 = np.array([-1, 4, 2])  # -i + 4j + 2k\n",
    "\n",
    "# Calculate the area using the cross product\n",
    "area = np.linalg.norm(np.cross(v1, v2))\n",
    "\n",
    "# Set up the figure and axis\n",
    "fig, ax = plt.subplots(figsize=(8, 6))\n",
    "\n",
    "# Plot the parallelogram\n",
    "x = [0, v1[0], v1[0] + v2[0], v2[0]]\n",
    "y = [0, v1[1], v1[1] + v2[1], v2[1]]\n",
    "ax.plot(x, y, 'r-', linewidth=2)\n",
    "\n",
    "# Add question text\n",
    "question = \"If the adjacent sides of a parallelogram are 3i+2j and -i+4j+2k, find the area of the parallelogram.\"\n",
    "ax.text(0.05, 0.95, question, transform=ax.transAxes, fontsize=12, verticalalignment='top', wrap=True, bbox=dict(boxstyle='round', facecolor='wheat', alpha=0.5))\n",
    "\n",
    "# Add area text\n",
    "area_text = f\"Area = {area:.2f}\"\n",
    "ax.text(0.05, 0.05, area_text, transform=ax.transAxes, fontsize=12, verticalalignment='bottom', bbox=dict(boxstyle='round', facecolor='wheat', alpha=0.5))\n",
    "\n",
    "# Set axis limits and labels\n",
    "ax.set_xlim(-2, 6)\n",
    "ax.set_ylim(-2, 6)\n",
    "ax.set_xlabel('X')\n",
    "ax.set_ylabel('Y')\n",
    "ax.set_title('Parallelogram')\n",
    "ax.grid()\n",
    "\n",
    "# Save the figure as a JPG file\n",
    "plt.savefig('parallelogram_diagram.jpg', dpi=300, bbox_inches='tight')"
   ]
  },
  {
   "cell_type": "code",
   "execution_count": null,
   "id": "5097c99d-3835-4b8b-b16f-4bb0b7ae498e",
   "metadata": {},
   "outputs": [],
   "source": []
  }
 ],
 "metadata": {
  "availableInstances": [
   {
    "_defaultOrder": 0,
    "_isFastLaunch": true,
    "category": "General purpose",
    "gpuNum": 0,
    "hideHardwareSpecs": false,
    "memoryGiB": 4,
    "name": "ml.t3.medium",
    "vcpuNum": 2
   },
   {
    "_defaultOrder": 1,
    "_isFastLaunch": false,
    "category": "General purpose",
    "gpuNum": 0,
    "hideHardwareSpecs": false,
    "memoryGiB": 8,
    "name": "ml.t3.large",
    "vcpuNum": 2
   },
   {
    "_defaultOrder": 2,
    "_isFastLaunch": false,
    "category": "General purpose",
    "gpuNum": 0,
    "hideHardwareSpecs": false,
    "memoryGiB": 16,
    "name": "ml.t3.xlarge",
    "vcpuNum": 4
   },
   {
    "_defaultOrder": 3,
    "_isFastLaunch": false,
    "category": "General purpose",
    "gpuNum": 0,
    "hideHardwareSpecs": false,
    "memoryGiB": 32,
    "name": "ml.t3.2xlarge",
    "vcpuNum": 8
   },
   {
    "_defaultOrder": 4,
    "_isFastLaunch": true,
    "category": "General purpose",
    "gpuNum": 0,
    "hideHardwareSpecs": false,
    "memoryGiB": 8,
    "name": "ml.m5.large",
    "vcpuNum": 2
   },
   {
    "_defaultOrder": 5,
    "_isFastLaunch": false,
    "category": "General purpose",
    "gpuNum": 0,
    "hideHardwareSpecs": false,
    "memoryGiB": 16,
    "name": "ml.m5.xlarge",
    "vcpuNum": 4
   },
   {
    "_defaultOrder": 6,
    "_isFastLaunch": false,
    "category": "General purpose",
    "gpuNum": 0,
    "hideHardwareSpecs": false,
    "memoryGiB": 32,
    "name": "ml.m5.2xlarge",
    "vcpuNum": 8
   },
   {
    "_defaultOrder": 7,
    "_isFastLaunch": false,
    "category": "General purpose",
    "gpuNum": 0,
    "hideHardwareSpecs": false,
    "memoryGiB": 64,
    "name": "ml.m5.4xlarge",
    "vcpuNum": 16
   },
   {
    "_defaultOrder": 8,
    "_isFastLaunch": false,
    "category": "General purpose",
    "gpuNum": 0,
    "hideHardwareSpecs": false,
    "memoryGiB": 128,
    "name": "ml.m5.8xlarge",
    "vcpuNum": 32
   },
   {
    "_defaultOrder": 9,
    "_isFastLaunch": false,
    "category": "General purpose",
    "gpuNum": 0,
    "hideHardwareSpecs": false,
    "memoryGiB": 192,
    "name": "ml.m5.12xlarge",
    "vcpuNum": 48
   },
   {
    "_defaultOrder": 10,
    "_isFastLaunch": false,
    "category": "General purpose",
    "gpuNum": 0,
    "hideHardwareSpecs": false,
    "memoryGiB": 256,
    "name": "ml.m5.16xlarge",
    "vcpuNum": 64
   },
   {
    "_defaultOrder": 11,
    "_isFastLaunch": false,
    "category": "General purpose",
    "gpuNum": 0,
    "hideHardwareSpecs": false,
    "memoryGiB": 384,
    "name": "ml.m5.24xlarge",
    "vcpuNum": 96
   },
   {
    "_defaultOrder": 12,
    "_isFastLaunch": false,
    "category": "General purpose",
    "gpuNum": 0,
    "hideHardwareSpecs": false,
    "memoryGiB": 8,
    "name": "ml.m5d.large",
    "vcpuNum": 2
   },
   {
    "_defaultOrder": 13,
    "_isFastLaunch": false,
    "category": "General purpose",
    "gpuNum": 0,
    "hideHardwareSpecs": false,
    "memoryGiB": 16,
    "name": "ml.m5d.xlarge",
    "vcpuNum": 4
   },
   {
    "_defaultOrder": 14,
    "_isFastLaunch": false,
    "category": "General purpose",
    "gpuNum": 0,
    "hideHardwareSpecs": false,
    "memoryGiB": 32,
    "name": "ml.m5d.2xlarge",
    "vcpuNum": 8
   },
   {
    "_defaultOrder": 15,
    "_isFastLaunch": false,
    "category": "General purpose",
    "gpuNum": 0,
    "hideHardwareSpecs": false,
    "memoryGiB": 64,
    "name": "ml.m5d.4xlarge",
    "vcpuNum": 16
   },
   {
    "_defaultOrder": 16,
    "_isFastLaunch": false,
    "category": "General purpose",
    "gpuNum": 0,
    "hideHardwareSpecs": false,
    "memoryGiB": 128,
    "name": "ml.m5d.8xlarge",
    "vcpuNum": 32
   },
   {
    "_defaultOrder": 17,
    "_isFastLaunch": false,
    "category": "General purpose",
    "gpuNum": 0,
    "hideHardwareSpecs": false,
    "memoryGiB": 192,
    "name": "ml.m5d.12xlarge",
    "vcpuNum": 48
   },
   {
    "_defaultOrder": 18,
    "_isFastLaunch": false,
    "category": "General purpose",
    "gpuNum": 0,
    "hideHardwareSpecs": false,
    "memoryGiB": 256,
    "name": "ml.m5d.16xlarge",
    "vcpuNum": 64
   },
   {
    "_defaultOrder": 19,
    "_isFastLaunch": false,
    "category": "General purpose",
    "gpuNum": 0,
    "hideHardwareSpecs": false,
    "memoryGiB": 384,
    "name": "ml.m5d.24xlarge",
    "vcpuNum": 96
   },
   {
    "_defaultOrder": 20,
    "_isFastLaunch": false,
    "category": "General purpose",
    "gpuNum": 0,
    "hideHardwareSpecs": true,
    "memoryGiB": 0,
    "name": "ml.geospatial.interactive",
    "supportedImageNames": [
     "sagemaker-geospatial-v1-0"
    ],
    "vcpuNum": 0
   },
   {
    "_defaultOrder": 21,
    "_isFastLaunch": true,
    "category": "Compute optimized",
    "gpuNum": 0,
    "hideHardwareSpecs": false,
    "memoryGiB": 4,
    "name": "ml.c5.large",
    "vcpuNum": 2
   },
   {
    "_defaultOrder": 22,
    "_isFastLaunch": false,
    "category": "Compute optimized",
    "gpuNum": 0,
    "hideHardwareSpecs": false,
    "memoryGiB": 8,
    "name": "ml.c5.xlarge",
    "vcpuNum": 4
   },
   {
    "_defaultOrder": 23,
    "_isFastLaunch": false,
    "category": "Compute optimized",
    "gpuNum": 0,
    "hideHardwareSpecs": false,
    "memoryGiB": 16,
    "name": "ml.c5.2xlarge",
    "vcpuNum": 8
   },
   {
    "_defaultOrder": 24,
    "_isFastLaunch": false,
    "category": "Compute optimized",
    "gpuNum": 0,
    "hideHardwareSpecs": false,
    "memoryGiB": 32,
    "name": "ml.c5.4xlarge",
    "vcpuNum": 16
   },
   {
    "_defaultOrder": 25,
    "_isFastLaunch": false,
    "category": "Compute optimized",
    "gpuNum": 0,
    "hideHardwareSpecs": false,
    "memoryGiB": 72,
    "name": "ml.c5.9xlarge",
    "vcpuNum": 36
   },
   {
    "_defaultOrder": 26,
    "_isFastLaunch": false,
    "category": "Compute optimized",
    "gpuNum": 0,
    "hideHardwareSpecs": false,
    "memoryGiB": 96,
    "name": "ml.c5.12xlarge",
    "vcpuNum": 48
   },
   {
    "_defaultOrder": 27,
    "_isFastLaunch": false,
    "category": "Compute optimized",
    "gpuNum": 0,
    "hideHardwareSpecs": false,
    "memoryGiB": 144,
    "name": "ml.c5.18xlarge",
    "vcpuNum": 72
   },
   {
    "_defaultOrder": 28,
    "_isFastLaunch": false,
    "category": "Compute optimized",
    "gpuNum": 0,
    "hideHardwareSpecs": false,
    "memoryGiB": 192,
    "name": "ml.c5.24xlarge",
    "vcpuNum": 96
   },
   {
    "_defaultOrder": 29,
    "_isFastLaunch": true,
    "category": "Accelerated computing",
    "gpuNum": 1,
    "hideHardwareSpecs": false,
    "memoryGiB": 16,
    "name": "ml.g4dn.xlarge",
    "vcpuNum": 4
   },
   {
    "_defaultOrder": 30,
    "_isFastLaunch": false,
    "category": "Accelerated computing",
    "gpuNum": 1,
    "hideHardwareSpecs": false,
    "memoryGiB": 32,
    "name": "ml.g4dn.2xlarge",
    "vcpuNum": 8
   },
   {
    "_defaultOrder": 31,
    "_isFastLaunch": false,
    "category": "Accelerated computing",
    "gpuNum": 1,
    "hideHardwareSpecs": false,
    "memoryGiB": 64,
    "name": "ml.g4dn.4xlarge",
    "vcpuNum": 16
   },
   {
    "_defaultOrder": 32,
    "_isFastLaunch": false,
    "category": "Accelerated computing",
    "gpuNum": 1,
    "hideHardwareSpecs": false,
    "memoryGiB": 128,
    "name": "ml.g4dn.8xlarge",
    "vcpuNum": 32
   },
   {
    "_defaultOrder": 33,
    "_isFastLaunch": false,
    "category": "Accelerated computing",
    "gpuNum": 4,
    "hideHardwareSpecs": false,
    "memoryGiB": 192,
    "name": "ml.g4dn.12xlarge",
    "vcpuNum": 48
   },
   {
    "_defaultOrder": 34,
    "_isFastLaunch": false,
    "category": "Accelerated computing",
    "gpuNum": 1,
    "hideHardwareSpecs": false,
    "memoryGiB": 256,
    "name": "ml.g4dn.16xlarge",
    "vcpuNum": 64
   },
   {
    "_defaultOrder": 35,
    "_isFastLaunch": false,
    "category": "Accelerated computing",
    "gpuNum": 1,
    "hideHardwareSpecs": false,
    "memoryGiB": 61,
    "name": "ml.p3.2xlarge",
    "vcpuNum": 8
   },
   {
    "_defaultOrder": 36,
    "_isFastLaunch": false,
    "category": "Accelerated computing",
    "gpuNum": 4,
    "hideHardwareSpecs": false,
    "memoryGiB": 244,
    "name": "ml.p3.8xlarge",
    "vcpuNum": 32
   },
   {
    "_defaultOrder": 37,
    "_isFastLaunch": false,
    "category": "Accelerated computing",
    "gpuNum": 8,
    "hideHardwareSpecs": false,
    "memoryGiB": 488,
    "name": "ml.p3.16xlarge",
    "vcpuNum": 64
   },
   {
    "_defaultOrder": 38,
    "_isFastLaunch": false,
    "category": "Accelerated computing",
    "gpuNum": 8,
    "hideHardwareSpecs": false,
    "memoryGiB": 768,
    "name": "ml.p3dn.24xlarge",
    "vcpuNum": 96
   },
   {
    "_defaultOrder": 39,
    "_isFastLaunch": false,
    "category": "Memory Optimized",
    "gpuNum": 0,
    "hideHardwareSpecs": false,
    "memoryGiB": 16,
    "name": "ml.r5.large",
    "vcpuNum": 2
   },
   {
    "_defaultOrder": 40,
    "_isFastLaunch": false,
    "category": "Memory Optimized",
    "gpuNum": 0,
    "hideHardwareSpecs": false,
    "memoryGiB": 32,
    "name": "ml.r5.xlarge",
    "vcpuNum": 4
   },
   {
    "_defaultOrder": 41,
    "_isFastLaunch": false,
    "category": "Memory Optimized",
    "gpuNum": 0,
    "hideHardwareSpecs": false,
    "memoryGiB": 64,
    "name": "ml.r5.2xlarge",
    "vcpuNum": 8
   },
   {
    "_defaultOrder": 42,
    "_isFastLaunch": false,
    "category": "Memory Optimized",
    "gpuNum": 0,
    "hideHardwareSpecs": false,
    "memoryGiB": 128,
    "name": "ml.r5.4xlarge",
    "vcpuNum": 16
   },
   {
    "_defaultOrder": 43,
    "_isFastLaunch": false,
    "category": "Memory Optimized",
    "gpuNum": 0,
    "hideHardwareSpecs": false,
    "memoryGiB": 256,
    "name": "ml.r5.8xlarge",
    "vcpuNum": 32
   },
   {
    "_defaultOrder": 44,
    "_isFastLaunch": false,
    "category": "Memory Optimized",
    "gpuNum": 0,
    "hideHardwareSpecs": false,
    "memoryGiB": 384,
    "name": "ml.r5.12xlarge",
    "vcpuNum": 48
   },
   {
    "_defaultOrder": 45,
    "_isFastLaunch": false,
    "category": "Memory Optimized",
    "gpuNum": 0,
    "hideHardwareSpecs": false,
    "memoryGiB": 512,
    "name": "ml.r5.16xlarge",
    "vcpuNum": 64
   },
   {
    "_defaultOrder": 46,
    "_isFastLaunch": false,
    "category": "Memory Optimized",
    "gpuNum": 0,
    "hideHardwareSpecs": false,
    "memoryGiB": 768,
    "name": "ml.r5.24xlarge",
    "vcpuNum": 96
   },
   {
    "_defaultOrder": 47,
    "_isFastLaunch": false,
    "category": "Accelerated computing",
    "gpuNum": 1,
    "hideHardwareSpecs": false,
    "memoryGiB": 16,
    "name": "ml.g5.xlarge",
    "vcpuNum": 4
   },
   {
    "_defaultOrder": 48,
    "_isFastLaunch": false,
    "category": "Accelerated computing",
    "gpuNum": 1,
    "hideHardwareSpecs": false,
    "memoryGiB": 32,
    "name": "ml.g5.2xlarge",
    "vcpuNum": 8
   },
   {
    "_defaultOrder": 49,
    "_isFastLaunch": false,
    "category": "Accelerated computing",
    "gpuNum": 1,
    "hideHardwareSpecs": false,
    "memoryGiB": 64,
    "name": "ml.g5.4xlarge",
    "vcpuNum": 16
   },
   {
    "_defaultOrder": 50,
    "_isFastLaunch": false,
    "category": "Accelerated computing",
    "gpuNum": 1,
    "hideHardwareSpecs": false,
    "memoryGiB": 128,
    "name": "ml.g5.8xlarge",
    "vcpuNum": 32
   },
   {
    "_defaultOrder": 51,
    "_isFastLaunch": false,
    "category": "Accelerated computing",
    "gpuNum": 1,
    "hideHardwareSpecs": false,
    "memoryGiB": 256,
    "name": "ml.g5.16xlarge",
    "vcpuNum": 64
   },
   {
    "_defaultOrder": 52,
    "_isFastLaunch": false,
    "category": "Accelerated computing",
    "gpuNum": 4,
    "hideHardwareSpecs": false,
    "memoryGiB": 192,
    "name": "ml.g5.12xlarge",
    "vcpuNum": 48
   },
   {
    "_defaultOrder": 53,
    "_isFastLaunch": false,
    "category": "Accelerated computing",
    "gpuNum": 4,
    "hideHardwareSpecs": false,
    "memoryGiB": 384,
    "name": "ml.g5.24xlarge",
    "vcpuNum": 96
   },
   {
    "_defaultOrder": 54,
    "_isFastLaunch": false,
    "category": "Accelerated computing",
    "gpuNum": 8,
    "hideHardwareSpecs": false,
    "memoryGiB": 768,
    "name": "ml.g5.48xlarge",
    "vcpuNum": 192
   },
   {
    "_defaultOrder": 55,
    "_isFastLaunch": false,
    "category": "Accelerated computing",
    "gpuNum": 8,
    "hideHardwareSpecs": false,
    "memoryGiB": 1152,
    "name": "ml.p4d.24xlarge",
    "vcpuNum": 96
   },
   {
    "_defaultOrder": 56,
    "_isFastLaunch": false,
    "category": "Accelerated computing",
    "gpuNum": 8,
    "hideHardwareSpecs": false,
    "memoryGiB": 1152,
    "name": "ml.p4de.24xlarge",
    "vcpuNum": 96
   },
   {
    "_defaultOrder": 57,
    "_isFastLaunch": false,
    "category": "Accelerated computing",
    "gpuNum": 0,
    "hideHardwareSpecs": false,
    "memoryGiB": 32,
    "name": "ml.trn1.2xlarge",
    "vcpuNum": 8
   },
   {
    "_defaultOrder": 58,
    "_isFastLaunch": false,
    "category": "Accelerated computing",
    "gpuNum": 0,
    "hideHardwareSpecs": false,
    "memoryGiB": 512,
    "name": "ml.trn1.32xlarge",
    "vcpuNum": 128
   },
   {
    "_defaultOrder": 59,
    "_isFastLaunch": false,
    "category": "Accelerated computing",
    "gpuNum": 0,
    "hideHardwareSpecs": false,
    "memoryGiB": 512,
    "name": "ml.trn1n.32xlarge",
    "vcpuNum": 128
   }
  ],
  "instance_type": "ml.t3.medium",
  "kernelspec": {
   "display_name": "Python 3",
   "language": "python",
   "name": "python3"
  },
  "language_info": {
   "codemirror_mode": {
    "name": "ipython",
    "version": 3
   },
   "file_extension": ".py",
   "mimetype": "text/x-python",
   "name": "python",
   "nbconvert_exporter": "python",
   "pygments_lexer": "ipython3",
   "version": "3.11.9"
  }
 },
 "nbformat": 4,
 "nbformat_minor": 5
}
