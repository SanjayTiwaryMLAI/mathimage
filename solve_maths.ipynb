{
 "cells": [
  {
   "cell_type": "code",
   "execution_count": 29,
   "id": "9072fc73-7dd8-433d-92ac-8f614c43d976",
   "metadata": {
    "collapsed": true,
    "jupyter": {
     "outputs_hidden": true
    },
    "tags": []
   },
   "outputs": [],
   "source": [
    "#!pip install opencv-python"
   ]
  },
  {
   "cell_type": "code",
   "execution_count": 30,
   "id": "d8ad0b5d-deab-42ff-ae2c-a8ff07c02fe9",
   "metadata": {
    "tags": []
   },
   "outputs": [],
   "source": [
    "import pandas as pd\n",
    "import boto3\n",
    "import json\n",
    "import base64\n",
    "from botocore.config import Config\n",
    "import requests\n",
    "import numpy as np\n",
    "import io\n",
    "from PIL import Image\n",
    "import cv2\n",
    "import pathlib\n",
    "import boto3\n",
    "\n",
    "agent_client = boto3.client('bedrock-agent-runtime',  region_name=\"ap-south-1\")"
   ]
  },
  {
   "cell_type": "code",
   "execution_count": 31,
   "id": "b6ddee75-5a94-4d67-ab07-5fd04d43498c",
   "metadata": {
    "tags": []
   },
   "outputs": [],
   "source": [
    "p = pathlib.Path(\"data/tmp/maths/\")\n",
    "p.mkdir(parents=True, exist_ok=True)"
   ]
  },
  {
   "cell_type": "code",
   "execution_count": 32,
   "id": "5b5f4134-7a68-4b21-bbfd-8096605d58f0",
   "metadata": {
    "tags": []
   },
   "outputs": [],
   "source": [
    "config = Config(\n",
    "    retries = dict(\n",
    "        max_attempts = 20\n",
    "    )\n",
    ")"
   ]
  },
  {
   "cell_type": "code",
   "execution_count": 33,
   "id": "f124917d-084e-4d8e-8488-3c211002ed0f",
   "metadata": {
    "tags": []
   },
   "outputs": [
    {
     "data": {
      "text/html": [
       "<div>\n",
       "<style scoped>\n",
       "    .dataframe tbody tr th:only-of-type {\n",
       "        vertical-align: middle;\n",
       "    }\n",
       "\n",
       "    .dataframe tbody tr th {\n",
       "        vertical-align: top;\n",
       "    }\n",
       "\n",
       "    .dataframe thead th {\n",
       "        text-align: right;\n",
       "    }\n",
       "</style>\n",
       "<table border=\"1\" class=\"dataframe\">\n",
       "  <thead>\n",
       "    <tr style=\"text-align: right;\">\n",
       "      <th></th>\n",
       "      <th>mediaurl</th>\n",
       "      <th>subject</th>\n",
       "      <th>Correct Answer</th>\n",
       "      <th>Unnamed: 3</th>\n",
       "    </tr>\n",
       "  </thead>\n",
       "  <tbody>\n",
       "    <tr>\n",
       "      <th>0</th>\n",
       "      <td>https://d2bps9p1kiy4ka.cloudfront.net/5eb393ee...</td>\n",
       "      <td>Mathematics</td>\n",
       "      <td>7</td>\n",
       "      <td>correct</td>\n",
       "    </tr>\n",
       "    <tr>\n",
       "      <th>1</th>\n",
       "      <td>https://d2bps9p1kiy4ka.cloudfront.net/5eb393ee...</td>\n",
       "      <td>Mathematics</td>\n",
       "      <td>2</td>\n",
       "      <td>correct</td>\n",
       "    </tr>\n",
       "  </tbody>\n",
       "</table>\n",
       "</div>"
      ],
      "text/plain": [
       "                                            mediaurl      subject  \\\n",
       "0  https://d2bps9p1kiy4ka.cloudfront.net/5eb393ee...  Mathematics   \n",
       "1  https://d2bps9p1kiy4ka.cloudfront.net/5eb393ee...  Mathematics   \n",
       "\n",
       "  Correct Answer Unnamed: 3  \n",
       "0              7    correct  \n",
       "1              2    correct  "
      ]
     },
     "execution_count": 33,
     "metadata": {},
     "output_type": "execute_result"
    }
   ],
   "source": [
    "subject = 'maths'\n",
    "\n",
    "data = pd.read_excel('Data-QnA-Academic.xlsx', sheet_name=subject)\n",
    "#data = data.dropna()\n",
    "data = data.rename(columns={'CORRECT ANSWER': 'Correct Answer'})\n",
    "data['Correct Answer'] = data['Correct Answer'].apply(str)\n",
    "data = data[~data['Correct Answer'].str.contains('?usp=', regex=False)]\n",
    "data.head(2)"
   ]
  },
  {
   "cell_type": "code",
   "execution_count": 34,
   "id": "ef637508",
   "metadata": {},
   "outputs": [
    {
     "data": {
      "text/plain": [
       "(158, 4)"
      ]
     },
     "execution_count": 34,
     "metadata": {},
     "output_type": "execute_result"
    }
   ],
   "source": [
    "data.shape"
   ]
  },
  {
   "cell_type": "code",
   "execution_count": 35,
   "id": "32f19515-6609-45be-8368-87369a4a1754",
   "metadata": {
    "tags": []
   },
   "outputs": [],
   "source": [
    "SYSTEM_PROMPT = \"\"\n",
    "\n",
    "text_prompt = f\"\"\"You are an expert in solving difficult graduate level math problem {subject} question.\n",
    "You will be given the question in form of an image, first extract and understand the images, \n",
    "some of images are hand written for math complex equation and be very precise in understanding the images and questions.\n",
    "the result totatlly depand on the capabilitie of undertanding images\n",
    "differentiation,log etc and you have to solve the question step by step and provide the correct answer.\n",
    "you also have to return the original question and answer as it for referenace.\n",
    "example - \n",
    "question - On selling a tea-set at 5% loss and a lemon-set at 15% gain, a crockery seller gains rupees 7.\n",
    "If he sells the tea-set at 5% gain and the lemon-set at 10% gain, he gains rupees 13. \n",
    "Find the actual price of the tea-set and the lemon-set?.\n",
    "Let's denote the cost price of the tea-set as \\( T \\) and the cost price of the lemon-set as \\( L \\).\n",
    "Answer- \n",
    "### Formulate the equations\n",
    "1. First Scenario:\n",
    "   - Selling the tea-set at a 5% loss: Selling price of tea-set = \\( T - 0.05T = 0.95T \\)\n",
    "   - Selling the lemon-set at a 15% gain: Selling price of lemon-set = \\( L + 0.15L = 1.15L \\)\n",
    "   - Total gain = Rs 7:( (0.95T + 1.15L) - (T + L) = 7\n",
    "   \n",
    "   Simplifying the equation:\n",
    "   0.95T + 1.15L - T - L = 7\n",
    "   -0.05T + 0.15L = 7\n",
    "\n",
    "\n",
    "2. Second Scenario:\n",
    "   - Selling the tea-set at a 5% gain: Selling price of tea-set = \\( T + 0.05T = 1.05T \\)\n",
    "   - Selling the lemon-set at a 10% gain: Selling price of lemon-set = \\( L + 0.10L = 1.10L \\)\n",
    "   - Total gain = Rs 13:( (1.05T + 1.10L) - (T + L) = 13\n",
    "   \n",
    "   Simplifying the equation:\n",
    "   1.05T + 1.10L - T - L = 13\n",
    " \n",
    "   0.05T + 0.10L = 13 \\quad \\text\n",
    "\n",
    "### Solve the system of equations\n",
    "We have the system:\n",
    "-0.05T + 0.15L = 7 \\quad \\text\n",
    "\n",
    "0.05T + 0.10L = 13 \\quad \\text\n",
    "\n",
    "First, add Equation 1 and Equation 2 to eliminate \\( T \\):\n",
    "(-0.05T + 0.15L) + (0.05T + 0.10L) = 7 + 13\n",
    "\n",
    "0.25L = 20\n",
    "\n",
    "L = 80\n",
    "Now substitute \\( L = 80 \\) back into Equation 2:\n",
    "0.05T + 0.10 \\times 80 = 13\n",
    "\n",
    "0.05T + 8 = 13\n",
    "\n",
    "0.05T = 5\n",
    "T = 100\n",
    "\n",
    "Conclusion\n",
    "The cost price of the tea-set is Rs 100 and the cost price of the lemon-set is RS 80.\n",
    "\n",
    "\"\"\"\n",
    "\n",
    "question_prompt = \"\"\"You will be given a question in form of an image, and you have to perform the following tasks - \n",
    "1. convert it into text form without missing any detail\n",
    "2. assess whether complex mathematical calculation is required to solve the question, answer either \"yes\" or \"no\"\n",
    "3. difficulty level of the question for a university student studying that subject as \"low\", \"medium\" or \"high\"\n",
    "\n",
    "The output should be a python dictionary with following as the keys - \"text\", \"calculation\", and \"difficulty\".\n",
    "Do not provide anything else in the output apart from the resulting python dictionary.\"\"\""
   ]
  },
  {
   "cell_type": "code",
   "execution_count": 36,
   "id": "a97db638-eade-46d3-bd23-2320486c6cab",
   "metadata": {
    "tags": []
   },
   "outputs": [],
   "source": [
    "# Initialize the Amazon Bedrock runtime client\n",
    "client = boto3.client(service_name=\"bedrock-runtime\", region_name=\"us-east-1\")\n",
    "\n",
    "# Invoke the model with the prompt and the encoded image\n",
    "model_id = \"anthropic.claude-3-sonnet-20240229-v1:0\"\n",
    "# model_id = \"anthropic.claude-3-haiku-20240307-v1:0\""
   ]
  },
  {
   "cell_type": "code",
   "execution_count": 37,
   "id": "9557ce78",
   "metadata": {},
   "outputs": [],
   "source": [
    "x  = f\"write {question_prompt}\""
   ]
  },
  {
   "cell_type": "code",
   "execution_count": 38,
   "id": "2faeb23c",
   "metadata": {},
   "outputs": [
    {
     "data": {
      "text/plain": [
       "'write You will be given a question in form of an image, and you have to perform the following tasks - \\n1. convert it into text form without missing any detail\\n2. assess whether complex mathematical calculation is required to solve the question, answer either \"yes\" or \"no\"\\n3. difficulty level of the question for a university student studying that subject as \"low\", \"medium\" or \"high\"\\n\\nThe output should be a python dictionary with following as the keys - \"text\", \"calculation\", and \"difficulty\".\\nDo not provide anything else in the output apart from the resulting python dictionary.'"
      ]
     },
     "execution_count": 38,
     "metadata": {},
     "output_type": "execute_result"
    }
   ],
   "source": [
    "x"
   ]
  },
  {
   "cell_type": "code",
   "execution_count": 39,
   "id": "9465b663",
   "metadata": {},
   "outputs": [],
   "source": [
    "\n",
    "from core_lib.math_question_generation import mathquestion"
   ]
  },
  {
   "cell_type": "code",
   "execution_count": 40,
   "id": "46e2b7ae",
   "metadata": {},
   "outputs": [],
   "source": [
    "math = mathquestion()"
   ]
  },
  {
   "cell_type": "markdown",
   "id": "f8d18312-de78-4767-bcf2-5886add56677",
   "metadata": {},
   "source": [
    "### Inference"
   ]
  },
  {
   "cell_type": "code",
   "execution_count": 41,
   "id": "cf4c9171-c35a-4826-b84f-f92be2364560",
   "metadata": {
    "collapsed": true,
    "jupyter": {
     "outputs_hidden": true
    },
    "tags": []
   },
   "outputs": [
    {
     "name": "stdout",
     "output_type": "stream",
     "text": [
      "****************************************************************************************************\n",
      "****************************************************************************************************\n",
      "****************************************************************************************************\n",
      "****************************************************************************************************\n",
      "****************************************************************************************************\n",
      "****************************************************************************************************\n",
      "****************************************************************************************************\n",
      "****************************************************************************************************\n",
      "****************************************************************************************************\n",
      "****************************************************************************************************\n"
     ]
    }
   ],
   "source": [
    "gt_list = []\n",
    "ans_list = []\n",
    "index_list = []\n",
    "calc_list = []\n",
    "diff_list = []\n",
    "ques_list = []\n",
    "cotanswer = []\n",
    "#text_prompt = text_prompt.format(**{'subject': subject})\n",
    "for i, r in data[0:10].iterrows():\n",
    "    img_path = f'data/tmp/{subject}/{subject}_{i}.jpg'\n",
    "    img_data = requests.get(r['mediaurl']).content\n",
    "    image = np.array(Image.open(io.BytesIO(img_data)))\n",
    "    if image.shape[0] > 1.3 * image.shape[1]:\n",
    "        image = cv2.rotate(image, cv2.ROTATE_90_COUNTERCLOCKWISE)\n",
    "        cv2.imwrite(img_path, image)\n",
    "        with open(img_path, \"rb\") as image_file:\n",
    "            image = base64.b64encode(image_file.read()).decode(\"utf8\")\n",
    "    else:\n",
    "        with open(img_path, 'wb') as handler:\n",
    "            handler.write(img_data)\n",
    "        image = base64.b64encode(img_data).decode(\"utf8\")\n",
    "    res = math.call_claude_sonet(image, text_prompt)\n",
    "    review_prompt = f\"here is {res} question and answer of the image attached, your task is to evaluate the result as expert in mathematics like a graduate level expert, if the answer is not correct please change and modify as per image attached\"\n",
    "    res1 = math.call_claude_sonet(image, review_prompt)\n",
    "    \n",
    "    # ques = json.loads(invoke_claude_3_multimodal(question_prompt, image))\n",
    "    # print(f\"GT - {r['Correct Answer']}\\n\\n\")\n",
    "    # print(f\"Answer - {res}\")\n",
    "    # print(\"Answeragent\", agentres)\n",
    "    gt_list.append(r['Correct Answer'])\n",
    "    ans_list.append(res)\n",
    "    cotanswer.append(res1)\n",
    "    # ques_list.append(ques['text'])\n",
    "    index_list.append(i)\n",
    "    # calc_list.append(ques['calculation'])\n",
    "    # diff_list.append(ques['difficulty'])\n",
    "    print('*'*100)"
   ]
  },
  {
   "cell_type": "code",
   "execution_count": 42,
   "id": "384b0427",
   "metadata": {},
   "outputs": [],
   "source": [
    "df = pd.DataFrame({'Ind': index_list, 'GT': gt_list,\n",
    "                   'Answer': ans_list, \"Answer1\":cotanswer})\n",
    "df.to_csv(f'data/{subject}_answers_v3.csv', index=False)\n"
   ]
  },
  {
   "cell_type": "code",
   "execution_count": null,
   "id": "f4d04351",
   "metadata": {},
   "outputs": [],
   "source": []
  }
 ],
 "metadata": {
  "kernelspec": {
   "display_name": "Python 3",
   "language": "python",
   "name": "python3"
  },
  "language_info": {
   "codemirror_mode": {
    "name": "ipython",
    "version": 3
   },
   "file_extension": ".py",
   "mimetype": "text/x-python",
   "name": "python",
   "nbconvert_exporter": "python",
   "pygments_lexer": "ipython3",
   "version": "3.11.9"
  }
 },
 "nbformat": 4,
 "nbformat_minor": 5
}
