{
 "cells": [
  {
   "cell_type": "code",
   "execution_count": 1,
   "id": "8be53876-7e52-4d85-920e-58e12aa4e5ca",
   "metadata": {
    "tags": []
   },
   "outputs": [],
   "source": [
    "import boto3\n",
    "import os\n",
    "import json\n",
    "import docx\n",
    "from IPython.display import Markdown, display\n",
    "import re\n",
    "import matplotlib.pyplot as plt\n",
    "import matplotlib.image as mpimg\n",
    "\n",
    "\n",
    "region = os.environ.get(\"AWS_REGION\")\n",
    "boto3_bedrock = boto3.client(service_name='bedrock-runtime')\n",
    "from claude3 import Analyticsfunction, extract_python_code\n",
    "\n",
    "\n",
    "obj = Analyticsfunction()\n",
    "    \n",
    "claude3 = obj.call_claude_sonet_text"
   ]
  },
  {
   "cell_type": "code",
   "execution_count": 2,
   "id": "19faa1ee",
   "metadata": {},
   "outputs": [],
   "source": [
    "# !python3 -m pip install boto3\n",
    "# !python3 -m pip install python-docx\n"
   ]
  },
  {
   "cell_type": "code",
   "execution_count": 3,
   "id": "99c32074-9114-41dd-8c24-ca14aaddec14",
   "metadata": {
    "tags": []
   },
   "outputs": [],
   "source": [
    "def getText(filename):\n",
    "    doc = docx.Document(filename)\n",
    "    fullText = []\n",
    "    for para in doc.paragraphs:\n",
    "        fullText.append(para.text)\n",
    "        \n",
    "    return '\\n'.join(fullText)"
   ]
  },
  {
   "cell_type": "code",
   "execution_count": 4,
   "id": "d403cb5d-bc66-4e76-9839-26341ab24911",
   "metadata": {
    "tags": []
   },
   "outputs": [],
   "source": [
    "note = getText(\"Vector-notes.docx\")"
   ]
  },
  {
   "cell_type": "code",
   "execution_count": 5,
   "id": "15fa86b9-d10a-4454-a582-2d4192aa807e",
   "metadata": {
    "tags": []
   },
   "outputs": [
    {
     "data": {
      "text/markdown": [
       "Here are two multiple choice questions based on the given text:\n",
       "\n",
       "1. What is the scalar triple product of three vectors a, b, and c?\n",
       "(a) a.(b x c)\n",
       "(b) a x (b x c)\n",
       "(c) (a.b)c - (a.c)b\n",
       "(d) (a x b).c \n",
       "\n",
       "2. For three vectors a, b, and c to be coplanar, the condition is:\n",
       "(a) a.(b x c) = 0\n",
       "(b) a x (b x c) = 0  \n",
       "(c) (a x b).c = 0\n",
       "(d) (a.b)c = a x b x c"
      ],
      "text/plain": [
       "<IPython.core.display.Markdown object>"
      ]
     },
     "metadata": {},
     "output_type": "display_data"
    }
   ],
   "source": [
    "prompt =f'''Human: create question 2 multiple choice question and answer\n",
    "\n",
    "<book>\n",
    "{note}\n",
    "</book>\n",
    "\n",
    "Assistant:'''\n",
    "\n",
    "body = json.dumps({\"prompt\": prompt, \"max_tokens_to_sample\": 1000, \"temperature\": 0.8})\n",
    "text = claude3(body)\n",
    "display(Markdown(text))"
   ]
  },
  {
   "cell_type": "code",
   "execution_count": 6,
   "id": "b1837e0a-aeee-4c4d-b8ce-f296f7733a5a",
   "metadata": {
    "tags": []
   },
   "outputs": [],
   "source": [
    "context = \"ABCDEF is a hexagon (six-sided polygon). Find the value of AB+BC+CD+DE+AF+FE+AE \""
   ]
  },
  {
   "cell_type": "code",
   "execution_count": 46,
   "id": "b6b5d747-baee-41ea-aa8d-3e3500a0958c",
   "metadata": {
    "tags": []
   },
   "outputs": [],
   "source": [
    "prompt =f'''Human: write python code to draw equal side hexagon(six-sided polygon) using matplotlib\n",
    "1. save as jpg\n",
    "2. context into the image at top. \n",
    "3. draw correct shape\n",
    "4. always complete all edges in drawing\n",
    "5. keep diagram properly aligned for mathematics\n",
    "6. if required give the name for each edges like (A,B...)\n",
    "<context>\n",
    "{context}\n",
    "</context>\n",
    "\n",
    "Assistant:'''\n",
    "\n",
    "body = json.dumps({\"prompt\": prompt, \"max_tokens_to_sample\": 1000, \"temperature\": 0.8})"
   ]
  },
  {
   "cell_type": "code",
   "execution_count": 55,
   "id": "9a7291dc-6487-4cfa-b1e1-1f23f9273360",
   "metadata": {
    "tags": []
   },
   "outputs": [],
   "source": [
    "text = claude3(body)"
   ]
  },
  {
   "cell_type": "code",
   "execution_count": 56,
   "id": "4c82b4e4-5b6e-454e-aaf7-32560d9999e7",
   "metadata": {
    "tags": []
   },
   "outputs": [],
   "source": [
    "output_file = \"output_python_code.py\"  # Change this to your output file\n",
    "extract_python_code(text, output_file)"
   ]
  },
  {
   "cell_type": "code",
   "execution_count": 57,
   "id": "d8a31dc5-8b27-41c5-b757-7866bb67c323",
   "metadata": {
    "tags": []
   },
   "outputs": [
    {
     "data": {
      "text/markdown": [
       "Here's a Python code to draw an equal-sided hexagon using Matplotlib, following the given requirements:\n",
       "\n",
       "```python\n",
       "import matplotlib.pyplot as plt\n",
       "import numpy as np\n",
       "\n",
       "# Define the vertices of the hexagon\n",
       "side_length = 4  # Change this value to adjust the size of the hexagon\n",
       "angles = np.linspace(0, 2*np.pi, 7)[:-1]  # Angles for each vertex\n",
       "x = side_length * np.cos(angles)\n",
       "y = side_length * np.sin(angles)\n",
       "\n",
       "# Create a figure and axis\n",
       "fig, ax = plt.subplots(figsize=(8, 8))\n",
       "\n",
       "# Draw the hexagon\n",
       "ax.plot(x, y, 'k-')\n",
       "ax.plot([x[0], x[-1]], [y[0], y[-1]], 'k-')  # Connect the first and last points\n",
       "\n",
       "# Label the vertices\n",
       "labels = ['A', 'B', 'C', 'D', 'E', 'F']\n",
       "for i, (x_val, y_val) in enumerate(zip(x, y)):\n",
       "    ax.annotate(labels[i], (x_val, y_val), xytext=(5, 5), textcoords='offset points')\n",
       "\n",
       "# Add context to the image\n",
       "context = \"If the adjacent sides of a parallelogram are 3i+2j and -i+4j+2k, find the area of the parallelogram.\"\n",
       "ax.set_title(context, fontsize=12, pad=20)\n",
       "\n",
       "# Set aspect ratio and remove ticks\n",
       "ax.set_aspect('equal')\n",
       "ax.set_xticks([])\n",
       "ax.set_yticks([])\n",
       "\n",
       "# Save the figure as a JPG file\n",
       "plt.savefig('hexagon.jpg', dpi=300, bbox_inches='tight')\n",
       "plt.show()\n",
       "```\n",
       "\n",
       "This code will generate an equal-sided hexagon with labeled vertices (A, B, C, D, E, F) and the given context at the top of the image. The image will be saved as `hexagon.jpg` in the current working directory.\n",
       "\n",
       "Note: Make sure you have `matplotlib` and `numpy` installed before running this code."
      ],
      "text/plain": [
       "<IPython.core.display.Markdown object>"
      ]
     },
     "metadata": {},
     "output_type": "display_data"
    }
   ],
   "source": [
    "display(Markdown(text))"
   ]
  },
  {
   "cell_type": "code",
   "execution_count": 58,
   "id": "0314dfe4-1d21-4dff-bbaf-d690170da1fa",
   "metadata": {
    "tags": []
   },
   "outputs": [
    {
     "name": "stdout",
     "output_type": "stream",
     "text": [
      "Figure(800x800)\n"
     ]
    }
   ],
   "source": [
    "!python3 output_python_code.py"
   ]
  },
  {
   "cell_type": "code",
   "execution_count": 59,
   "id": "df7c6908-1744-4f88-ab48-a9db82f0fe6d",
   "metadata": {
    "tags": []
   },
   "outputs": [
    {
     "data": {
      "image/png": "[encoded data removed]",
      "text/plain": [
       "<Figure size 640x480 with 1 Axes>"
      ]
     },
     "metadata": {},
     "output_type": "display_data"
    }
   ],
   "source": [
    "# Load the image\n",
    "img = mpimg.imread('hexagon.jpg')\n",
    "\n",
    "# Display the image\n",
    "plt.imshow(img)\n",
    "plt.axis('off')  # Hide axis ticks and labels\n",
    "plt.show()"
   ]
  },
  {
   "cell_type": "code",
   "execution_count": 62,
   "id": "826dcec2-4de3-4059-bf42-51c6706daf10",
   "metadata": {
    "tags": []
   },
   "outputs": [],
   "source": [
    "context = \"If the position vectors of the vertices A, B, and C of a triangle △ABC are αi+βj+γk, βi+γj+αk, and γi+αj+βk respectively, then △ABC is \""
   ]
  },
  {
   "cell_type": "code",
   "execution_count": 63,
   "id": "b002bf28-701c-47cf-bff0-c3f4bc9b2d37",
   "metadata": {
    "tags": []
   },
   "outputs": [],
   "source": [
    "prompt =f'''Human: write python code to draw triangle using matplotlib\n",
    "1. save as jpg\n",
    "2. context into the image at top. \n",
    "3. draw correct shape\n",
    "4. always complete all edges in drawing\n",
    "5. keep diagram properly aligned for mathematics\n",
    "6. if required give the name for each edges like (A,B...)\n",
    "<context>\n",
    "{context}\n",
    "</context>\n",
    "\n",
    "Assistant:'''\n",
    "\n",
    "\n",
    "#body = json.dumps({\"prompt\": prompt, \"max_tokens_to_sample\": 1000, \"temperature\": 0.8})"
   ]
  },
  {
   "cell_type": "code",
   "execution_count": 64,
   "id": "cc3db784-c309-4973-b1f9-25be141ef489",
   "metadata": {
    "tags": []
   },
   "outputs": [],
   "source": [
    "text = claude3(prompt)\n",
    "output_file = \"output_python_code_2.py\"\n",
    "extract_python_code(text, output_file)"
   ]
  },
  {
   "cell_type": "code",
   "execution_count": 65,
   "id": "1553bdb8-9e9c-4a19-a3af-f5bccf2d10a1",
   "metadata": {
    "tags": []
   },
   "outputs": [
    {
     "name": "stdout",
     "output_type": "stream",
     "text": [
      "Figure(800x600)\n"
     ]
    }
   ],
   "source": [
    "!python3 output_python_code_2.py"
   ]
  },
  {
   "cell_type": "code",
   "execution_count": 66,
   "id": "7ad6050c-48e5-4425-96ef-2aeaa6a04be4",
   "metadata": {
    "tags": []
   },
   "outputs": [
    {
     "data": {
      "text/markdown": [
       "Here's the Python code to draw a triangle using Matplotlib, save it as a JPG file, add context to the image, and label the edges if required:\n",
       "\n",
       "```python\n",
       "import matplotlib.pyplot as plt\n",
       "import numpy as np\n",
       "\n",
       "# Define the position vectors of the vertices\n",
       "A = np.array([1, 2, 3])  # αi+βj+γk\n",
       "B = np.array([2, 3, 1])  # βi+γj+αk\n",
       "C = np.array([3, 1, 2])  # γi+αj+βk\n",
       "\n",
       "# Calculate the edge vectors\n",
       "AB = B - A\n",
       "BC = C - B\n",
       "CA = A - C\n",
       "\n",
       "# Create a figure and axis\n",
       "fig, ax = plt.subplots(figsize=(8, 6))\n",
       "\n",
       "# Plot the triangle\n",
       "ax.quiver(0, 0, A[0], A[1], angles='xy', scale_units='xy', scale=1, color='r', label='A')\n",
       "ax.quiver(A[0], A[1], AB[0], AB[1], angles='xy', scale_units='xy', scale=1, color='r')\n",
       "ax.quiver(B[0], B[1], BC[0], BC[1], angles='xy', scale_units='xy', scale=1, color='r')\n",
       "ax.quiver(C[0], C[1], CA[0], CA[1], angles='xy', scale_units='xy', scale=1, color='r')\n",
       "\n",
       "# Set aspect ratio to equal\n",
       "ax.set_aspect('equal')\n",
       "\n",
       "# Add labels for vertices and edges\n",
       "ax.text(A[0], A[1], 'A', fontsize=12)\n",
       "ax.text(B[0], B[1], 'B', fontsize=12)\n",
       "ax.text(C[0], C[1], 'C', fontsize=12)\n",
       "ax.text((A[0] + B[0]) / 2, (A[1] + B[1]) / 2, 'AB', fontsize=12)\n",
       "ax.text((B[0] + C[0]) / 2, (B[1] + C[1]) / 2, 'BC', fontsize=12)\n",
       "ax.text((C[0] + A[0]) / 2, (C[1] + A[1]) / 2, 'CA', fontsize=12)\n",
       "\n",
       "# Add context to the top of the image\n",
       "context = \"If the position vectors of the vertices A, B, and C of a triangle △ABC are αi+βj+γk, βi+γj+αk, and γi+αj+βk respectively, then △ABC is\"\n",
       "ax.text(0.5, 1.05, context, transform=ax.transAxes, fontsize=12, ha='center', va='bottom')\n",
       "\n",
       "# Save the figure as a JPG file\n",
       "plt.savefig('triangle.jpg', dpi=300, bbox_inches='tight')\n",
       "\n",
       "# Display the plot\n",
       "plt.show()\n",
       "```\n",
       "\n",
       "This code does the following:\n",
       "\n",
       "1. Defines the position vectors of the vertices A, B, and C.\n",
       "2. Calculates the edge vectors AB, BC, and CA.\n",
       "3. Creates a figure and axis using Matplotlib.\n",
       "4. Plots the triangle using the `quiver` function, which draws arrows representing the position and edge vectors.\n",
       "5. Sets the aspect ratio of the plot to equal, ensuring the triangle is drawn correctly.\n",
       "6. Adds labels for the vertices (A, B, C) and edges (AB, BC, CA) using the `text` function.\n",
       "7. Adds the context to the top of the image using the `text` function with the `transform` parameter set to `ax.transAxes`.\n",
       "8. Saves the figure as a JPG file named 'triangle.jpg' with a resolution of 300 dpi and tight bounding box.\n",
       "9. Displays the plot using `plt.show()`.\n",
       "\n",
       "The resulting image will show a triangle with labeled vertices and edges, along with the provided context at the top of the image."
      ],
      "text/plain": [
       "<IPython.core.display.Markdown object>"
      ]
     },
     "metadata": {},
     "output_type": "display_data"
    }
   ],
   "source": [
    "display(Markdown(text))"
   ]
  },
  {
   "cell_type": "code",
   "execution_count": 67,
   "id": "1e779e69-763b-40aa-be12-54f78d385672",
   "metadata": {
    "tags": []
   },
   "outputs": [
    {
     "data": {
      "image/png": "[encoded data removed]",
      "text/plain": [
       "<Figure size 640x480 with 1 Axes>"
      ]
     },
     "metadata": {},
     "output_type": "display_data"
    }
   ],
   "source": [
    "import matplotlib.pyplot as plt\n",
    "import matplotlib.image as mpimg\n",
    "\n",
    "# Load the image\n",
    "img = mpimg.imread('triangle.jpg')\n",
    "\n",
    "# Display the image\n",
    "plt.imshow(img)\n",
    "plt.axis('off')  # Hide axis ticks and labels\n",
    "plt.show()"
   ]
  },
  {
   "cell_type": "code",
   "execution_count": 68,
   "id": "229cd599-ba3e-4daf-bed9-f4862dfa9924",
   "metadata": {
    "tags": []
   },
   "outputs": [],
   "source": [
    "context = \"If the adjacent sides of a parallelogram are 3i+2j and -i+4j+2k, find the area of the parallelogram.\""
   ]
  },
  {
   "cell_type": "code",
   "execution_count": 69,
   "id": "e1c214b8-99e0-4d5f-b48a-1702acb73dfa",
   "metadata": {
    "tags": []
   },
   "outputs": [],
   "source": [
    "prompt =f'''Human: write python code to draw parallelogram using matplotlib\n",
    "1. save as jpg\n",
    "2. context into the image at top. \n",
    "3. draw correct shape\n",
    "4. always complete all edges in drawing\n",
    "5. keep diagram properly aligned for mathematics\n",
    "6. if required give the name for each edges like (A,B...)\n",
    "<context>\n",
    "{context}\n",
    "</context>\n",
    "\n",
    "Assistant:'''\n",
    "\n",
    "#body = json.dumps({\"prompt\": prompt, \"max_tokens_to_sample\": 1000, \"temperature\": 0.8})"
   ]
  },
  {
   "cell_type": "code",
   "execution_count": 70,
   "id": "24986ff4-feb7-4c19-ac0c-1829f297c9b0",
   "metadata": {
    "tags": []
   },
   "outputs": [],
   "source": [
    "text = claude3(prompt)"
   ]
  },
  {
   "cell_type": "code",
   "execution_count": 72,
   "id": "d18797b0-58e0-41fd-b4be-32057d868111",
   "metadata": {},
   "outputs": [],
   "source": [
    "output_file = \"output_python_code_3.py\"\n",
    "extract_python_code(text, output_file)"
   ]
  },
  {
   "cell_type": "code",
   "execution_count": 73,
   "id": "2d694a42-c6e4-4b0e-87e3-05a546f5463f",
   "metadata": {
    "tags": []
   },
   "outputs": [
    {
     "name": "stdout",
     "output_type": "stream",
     "text": [
      "Figure(800x600)\n"
     ]
    }
   ],
   "source": [
    "!python3 output_python_code_3.py"
   ]
  },
  {
   "cell_type": "code",
   "execution_count": 74,
   "id": "0b712b09-de7b-46d8-a968-f3b3a1218992",
   "metadata": {
    "tags": []
   },
   "outputs": [
    {
     "data": {
      "text/markdown": [
       "Here's a Python code to draw a parallelogram using Matplotlib, save it as a JPG file, add the given context as a title, and label the edges if required:\n",
       "\n",
       "```python\n",
       "import matplotlib.pyplot as plt\n",
       "import numpy as np\n",
       "\n",
       "# Define the adjacent sides of the parallelogram\n",
       "side1 = np.array([3, 2, 0])  # 3i + 2j\n",
       "side2 = np.array([-1, 4, 2])  # -i + 4j + 2k\n",
       "\n",
       "# Calculate the vertices of the parallelogram\n",
       "vertex1 = np.array([0, 0, 0])\n",
       "vertex2 = vertex1 + side1\n",
       "vertex3 = vertex2 + side2\n",
       "vertex4 = vertex1 + side2\n",
       "\n",
       "# Create a figure and axis\n",
       "fig, ax = plt.subplots(figsize=(8, 6), subplot_kw={'projection': '3d'})\n",
       "\n",
       "# Plot the parallelogram\n",
       "ax.plot([vertex1[0], vertex2[0]], [vertex1[1], vertex2[1]], [vertex1[2], vertex2[2]], 'r-')\n",
       "ax.plot([vertex2[0], vertex3[0]], [vertex2[1], vertex3[1]], [vertex2[2], vertex3[2]], 'r-')\n",
       "ax.plot([vertex3[0], vertex4[0]], [vertex3[1], vertex4[1]], [vertex3[2], vertex4[2]], 'r-')\n",
       "ax.plot([vertex4[0], vertex1[0]], [vertex4[1], vertex1[1]], [vertex4[2], vertex1[2]], 'r-')\n",
       "\n",
       "# Label the edges if required\n",
       "ax.text(vertex1[0], vertex1[1], vertex1[2], 'A', fontsize=12)\n",
       "ax.text(vertex2[0], vertex2[1], vertex2[2], 'B', fontsize=12)\n",
       "ax.text(vertex3[0], vertex3[1], vertex3[2], 'C', fontsize=12)\n",
       "ax.text(vertex4[0], vertex4[1], vertex4[2], 'D', fontsize=12)\n",
       "\n",
       "# Set axis labels and title\n",
       "ax.set_xlabel('X')\n",
       "ax.set_ylabel('Y')\n",
       "ax.set_zlabel('Z')\n",
       "ax.set_title('If the adjacent sides of a parallelogram are 3i+2j and -i+4j+2k, find the area of the parallelogram.')\n",
       "\n",
       "# Set axis limits\n",
       "ax.set_xlim(-5, 5)\n",
       "ax.set_ylim(-5, 5)\n",
       "ax.set_zlim(-5, 5)\n",
       "\n",
       "# Save the figure as a JPG file\n",
       "plt.savefig('parallelogram.jpg', dpi=300, bbox_inches='tight')\n",
       "\n",
       "# Show the plot\n",
       "plt.show()\n",
       "```\n",
       "\n",
       "This code will generate a 3D plot of the parallelogram with the given adjacent sides (3i+2j and -i+4j+2k). The vertices of the parallelogram are labeled as A, B, C, and D if required. The context is added as the title of the plot. Finally, the plot is saved as a JPG file named 'parallelogram.jpg' with a resolution of 300 DPI.\n",
       "\n",
       "Note: Make sure you have Matplotlib installed before running this code."
      ],
      "text/plain": [
       "<IPython.core.display.Markdown object>"
      ]
     },
     "metadata": {},
     "output_type": "display_data"
    }
   ],
   "source": [
    "display(Markdown(text))"
   ]
  },
  {
   "cell_type": "code",
   "execution_count": 75,
   "id": "032e452c-7031-45f6-b6fb-d6c35b41ffc8",
   "metadata": {
    "tags": []
   },
   "outputs": [
    {
     "data": {
      "image/png": "[encoded data removed]",
      "text/plain": [
       "<Figure size 640x480 with 1 Axes>"
      ]
     },
     "metadata": {},
     "output_type": "display_data"
    }
   ],
   "source": [
    "img = mpimg.imread('parallelogram.jpg')\n",
    "\n",
    "# Display the image\n",
    "plt.imshow(img)\n",
    "plt.axis('off')  # Hide axis ticks and labels\n",
    "plt.show()"
   ]
  },
  {
   "cell_type": "code",
   "execution_count": null,
   "id": "816779de",
   "metadata": {},
   "outputs": [],
   "source": []
  }
 ],
 "metadata": {
  "availableInstances": [
   {
    "_defaultOrder": 0,
    "_isFastLaunch": true,
    "category": "General purpose",
    "gpuNum": 0,
    "hideHardwareSpecs": false,
    "memoryGiB": 4,
    "name": "ml.t3.medium",
    "vcpuNum": 2
   },
   {
    "_defaultOrder": 1,
    "_isFastLaunch": false,
    "category": "General purpose",
    "gpuNum": 0,
    "hideHardwareSpecs": false,
    "memoryGiB": 8,
    "name": "ml.t3.large",
    "vcpuNum": 2
   },
   {
    "_defaultOrder": 2,
    "_isFastLaunch": false,
    "category": "General purpose",
    "gpuNum": 0,
    "hideHardwareSpecs": false,
    "memoryGiB": 16,
    "name": "ml.t3.xlarge",
    "vcpuNum": 4
   },
   {
    "_defaultOrder": 3,
    "_isFastLaunch": false,
    "category": "General purpose",
    "gpuNum": 0,
    "hideHardwareSpecs": false,
    "memoryGiB": 32,
    "name": "ml.t3.2xlarge",
    "vcpuNum": 8
   },
   {
    "_defaultOrder": 4,
    "_isFastLaunch": true,
    "category": "General purpose",
    "gpuNum": 0,
    "hideHardwareSpecs": false,
    "memoryGiB": 8,
    "name": "ml.m5.large",
    "vcpuNum": 2
   },
   {
    "_defaultOrder": 5,
    "_isFastLaunch": false,
    "category": "General purpose",
    "gpuNum": 0,
    "hideHardwareSpecs": false,
    "memoryGiB": 16,
    "name": "ml.m5.xlarge",
    "vcpuNum": 4
   },
   {
    "_defaultOrder": 6,
    "_isFastLaunch": false,
    "category": "General purpose",
    "gpuNum": 0,
    "hideHardwareSpecs": false,
    "memoryGiB": 32,
    "name": "ml.m5.2xlarge",
    "vcpuNum": 8
   },
   {
    "_defaultOrder": 7,
    "_isFastLaunch": false,
    "category": "General purpose",
    "gpuNum": 0,
    "hideHardwareSpecs": false,
    "memoryGiB": 64,
    "name": "ml.m5.4xlarge",
    "vcpuNum": 16
   },
   {
    "_defaultOrder": 8,
    "_isFastLaunch": false,
    "category": "General purpose",
    "gpuNum": 0,
    "hideHardwareSpecs": false,
    "memoryGiB": 128,
    "name": "ml.m5.8xlarge",
    "vcpuNum": 32
   },
   {
    "_defaultOrder": 9,
    "_isFastLaunch": false,
    "category": "General purpose",
    "gpuNum": 0,
    "hideHardwareSpecs": false,
    "memoryGiB": 192,
    "name": "ml.m5.12xlarge",
    "vcpuNum": 48
   },
   {
    "_defaultOrder": 10,
    "_isFastLaunch": false,
    "category": "General purpose",
    "gpuNum": 0,
    "hideHardwareSpecs": false,
    "memoryGiB": 256,
    "name": "ml.m5.16xlarge",
    "vcpuNum": 64
   },
   {
    "_defaultOrder": 11,
    "_isFastLaunch": false,
    "category": "General purpose",
    "gpuNum": 0,
    "hideHardwareSpecs": false,
    "memoryGiB": 384,
    "name": "ml.m5.24xlarge",
    "vcpuNum": 96
   },
   {
    "_defaultOrder": 12,
    "_isFastLaunch": false,
    "category": "General purpose",
    "gpuNum": 0,
    "hideHardwareSpecs": false,
    "memoryGiB": 8,
    "name": "ml.m5d.large",
    "vcpuNum": 2
   },
   {
    "_defaultOrder": 13,
    "_isFastLaunch": false,
    "category": "General purpose",
    "gpuNum": 0,
    "hideHardwareSpecs": false,
    "memoryGiB": 16,
    "name": "ml.m5d.xlarge",
    "vcpuNum": 4
   },
   {
    "_defaultOrder": 14,
    "_isFastLaunch": false,
    "category": "General purpose",
    "gpuNum": 0,
    "hideHardwareSpecs": false,
    "memoryGiB": 32,
    "name": "ml.m5d.2xlarge",
    "vcpuNum": 8
   },
   {
    "_defaultOrder": 15,
    "_isFastLaunch": false,
    "category": "General purpose",
    "gpuNum": 0,
    "hideHardwareSpecs": false,
    "memoryGiB": 64,
    "name": "ml.m5d.4xlarge",
    "vcpuNum": 16
   },
   {
    "_defaultOrder": 16,
    "_isFastLaunch": false,
    "category": "General purpose",
    "gpuNum": 0,
    "hideHardwareSpecs": false,
    "memoryGiB": 128,
    "name": "ml.m5d.8xlarge",
    "vcpuNum": 32
   },
   {
    "_defaultOrder": 17,
    "_isFastLaunch": false,
    "category": "General purpose",
    "gpuNum": 0,
    "hideHardwareSpecs": false,
    "memoryGiB": 192,
    "name": "ml.m5d.12xlarge",
    "vcpuNum": 48
   },
   {
    "_defaultOrder": 18,
    "_isFastLaunch": false,
    "category": "General purpose",
    "gpuNum": 0,
    "hideHardwareSpecs": false,
    "memoryGiB": 256,
    "name": "ml.m5d.16xlarge",
    "vcpuNum": 64
   },
   {
    "_defaultOrder": 19,
    "_isFastLaunch": false,
    "category": "General purpose",
    "gpuNum": 0,
    "hideHardwareSpecs": false,
    "memoryGiB": 384,
    "name": "ml.m5d.24xlarge",
    "vcpuNum": 96
   },
   {
    "_defaultOrder": 20,
    "_isFastLaunch": false,
    "category": "General purpose",
    "gpuNum": 0,
    "hideHardwareSpecs": true,
    "memoryGiB": 0,
    "name": "ml.geospatial.interactive",
    "supportedImageNames": [
     "sagemaker-geospatial-v1-0"
    ],
    "vcpuNum": 0
   },
   {
    "_defaultOrder": 21,
    "_isFastLaunch": true,
    "category": "Compute optimized",
    "gpuNum": 0,
    "hideHardwareSpecs": false,
    "memoryGiB": 4,
    "name": "ml.c5.large",
    "vcpuNum": 2
   },
   {
    "_defaultOrder": 22,
    "_isFastLaunch": false,
    "category": "Compute optimized",
    "gpuNum": 0,
    "hideHardwareSpecs": false,
    "memoryGiB": 8,
    "name": "ml.c5.xlarge",
    "vcpuNum": 4
   },
   {
    "_defaultOrder": 23,
    "_isFastLaunch": false,
    "category": "Compute optimized",
    "gpuNum": 0,
    "hideHardwareSpecs": false,
    "memoryGiB": 16,
    "name": "ml.c5.2xlarge",
    "vcpuNum": 8
   },
   {
    "_defaultOrder": 24,
    "_isFastLaunch": false,
    "category": "Compute optimized",
    "gpuNum": 0,
    "hideHardwareSpecs": false,
    "memoryGiB": 32,
    "name": "ml.c5.4xlarge",
    "vcpuNum": 16
   },
   {
    "_defaultOrder": 25,
    "_isFastLaunch": false,
    "category": "Compute optimized",
    "gpuNum": 0,
    "hideHardwareSpecs": false,
    "memoryGiB": 72,
    "name": "ml.c5.9xlarge",
    "vcpuNum": 36
   },
   {
    "_defaultOrder": 26,
    "_isFastLaunch": false,
    "category": "Compute optimized",
    "gpuNum": 0,
    "hideHardwareSpecs": false,
    "memoryGiB": 96,
    "name": "ml.c5.12xlarge",
    "vcpuNum": 48
   },
   {
    "_defaultOrder": 27,
    "_isFastLaunch": false,
    "category": "Compute optimized",
    "gpuNum": 0,
    "hideHardwareSpecs": false,
    "memoryGiB": 144,
    "name": "ml.c5.18xlarge",
    "vcpuNum": 72
   },
   {
    "_defaultOrder": 28,
    "_isFastLaunch": false,
    "category": "Compute optimized",
    "gpuNum": 0,
    "hideHardwareSpecs": false,
    "memoryGiB": 192,
    "name": "ml.c5.24xlarge",
    "vcpuNum": 96
   },
   {
    "_defaultOrder": 29,
    "_isFastLaunch": true,
    "category": "Accelerated computing",
    "gpuNum": 1,
    "hideHardwareSpecs": false,
    "memoryGiB": 16,
    "name": "ml.g4dn.xlarge",
    "vcpuNum": 4
   },
   {
    "_defaultOrder": 30,
    "_isFastLaunch": false,
    "category": "Accelerated computing",
    "gpuNum": 1,
    "hideHardwareSpecs": false,
    "memoryGiB": 32,
    "name": "ml.g4dn.2xlarge",
    "vcpuNum": 8
   },
   {
    "_defaultOrder": 31,
    "_isFastLaunch": false,
    "category": "Accelerated computing",
    "gpuNum": 1,
    "hideHardwareSpecs": false,
    "memoryGiB": 64,
    "name": "ml.g4dn.4xlarge",
    "vcpuNum": 16
   },
   {
    "_defaultOrder": 32,
    "_isFastLaunch": false,
    "category": "Accelerated computing",
    "gpuNum": 1,
    "hideHardwareSpecs": false,
    "memoryGiB": 128,
    "name": "ml.g4dn.8xlarge",
    "vcpuNum": 32
   },
   {
    "_defaultOrder": 33,
    "_isFastLaunch": false,
    "category": "Accelerated computing",
    "gpuNum": 4,
    "hideHardwareSpecs": false,
    "memoryGiB": 192,
    "name": "ml.g4dn.12xlarge",
    "vcpuNum": 48
   },
   {
    "_defaultOrder": 34,
    "_isFastLaunch": false,
    "category": "Accelerated computing",
    "gpuNum": 1,
    "hideHardwareSpecs": false,
    "memoryGiB": 256,
    "name": "ml.g4dn.16xlarge",
    "vcpuNum": 64
   },
   {
    "_defaultOrder": 35,
    "_isFastLaunch": false,
    "category": "Accelerated computing",
    "gpuNum": 1,
    "hideHardwareSpecs": false,
    "memoryGiB": 61,
    "name": "ml.p3.2xlarge",
    "vcpuNum": 8
   },
   {
    "_defaultOrder": 36,
    "_isFastLaunch": false,
    "category": "Accelerated computing",
    "gpuNum": 4,
    "hideHardwareSpecs": false,
    "memoryGiB": 244,
    "name": "ml.p3.8xlarge",
    "vcpuNum": 32
   },
   {
    "_defaultOrder": 37,
    "_isFastLaunch": false,
    "category": "Accelerated computing",
    "gpuNum": 8,
    "hideHardwareSpecs": false,
    "memoryGiB": 488,
    "name": "ml.p3.16xlarge",
    "vcpuNum": 64
   },
   {
    "_defaultOrder": 38,
    "_isFastLaunch": false,
    "category": "Accelerated computing",
    "gpuNum": 8,
    "hideHardwareSpecs": false,
    "memoryGiB": 768,
    "name": "ml.p3dn.24xlarge",
    "vcpuNum": 96
   },
   {
    "_defaultOrder": 39,
    "_isFastLaunch": false,
    "category": "Memory Optimized",
    "gpuNum": 0,
    "hideHardwareSpecs": false,
    "memoryGiB": 16,
    "name": "ml.r5.large",
    "vcpuNum": 2
   },
   {
    "_defaultOrder": 40,
    "_isFastLaunch": false,
    "category": "Memory Optimized",
    "gpuNum": 0,
    "hideHardwareSpecs": false,
    "memoryGiB": 32,
    "name": "ml.r5.xlarge",
    "vcpuNum": 4
   },
   {
    "_defaultOrder": 41,
    "_isFastLaunch": false,
    "category": "Memory Optimized",
    "gpuNum": 0,
    "hideHardwareSpecs": false,
    "memoryGiB": 64,
    "name": "ml.r5.2xlarge",
    "vcpuNum": 8
   },
   {
    "_defaultOrder": 42,
    "_isFastLaunch": false,
    "category": "Memory Optimized",
    "gpuNum": 0,
    "hideHardwareSpecs": false,
    "memoryGiB": 128,
    "name": "ml.r5.4xlarge",
    "vcpuNum": 16
   },
   {
    "_defaultOrder": 43,
    "_isFastLaunch": false,
    "category": "Memory Optimized",
    "gpuNum": 0,
    "hideHardwareSpecs": false,
    "memoryGiB": 256,
    "name": "ml.r5.8xlarge",
    "vcpuNum": 32
   },
   {
    "_defaultOrder": 44,
    "_isFastLaunch": false,
    "category": "Memory Optimized",
    "gpuNum": 0,
    "hideHardwareSpecs": false,
    "memoryGiB": 384,
    "name": "ml.r5.12xlarge",
    "vcpuNum": 48
   },
   {
    "_defaultOrder": 45,
    "_isFastLaunch": false,
    "category": "Memory Optimized",
    "gpuNum": 0,
    "hideHardwareSpecs": false,
    "memoryGiB": 512,
    "name": "ml.r5.16xlarge",
    "vcpuNum": 64
   },
   {
    "_defaultOrder": 46,
    "_isFastLaunch": false,
    "category": "Memory Optimized",
    "gpuNum": 0,
    "hideHardwareSpecs": false,
    "memoryGiB": 768,
    "name": "ml.r5.24xlarge",
    "vcpuNum": 96
   },
   {
    "_defaultOrder": 47,
    "_isFastLaunch": false,
    "category": "Accelerated computing",
    "gpuNum": 1,
    "hideHardwareSpecs": false,
    "memoryGiB": 16,
    "name": "ml.g5.xlarge",
    "vcpuNum": 4
   },
   {
    "_defaultOrder": 48,
    "_isFastLaunch": false,
    "category": "Accelerated computing",
    "gpuNum": 1,
    "hideHardwareSpecs": false,
    "memoryGiB": 32,
    "name": "ml.g5.2xlarge",
    "vcpuNum": 8
   },
   {
    "_defaultOrder": 49,
    "_isFastLaunch": false,
    "category": "Accelerated computing",
    "gpuNum": 1,
    "hideHardwareSpecs": false,
    "memoryGiB": 64,
    "name": "ml.g5.4xlarge",
    "vcpuNum": 16
   },
   {
    "_defaultOrder": 50,
    "_isFastLaunch": false,
    "category": "Accelerated computing",
    "gpuNum": 1,
    "hideHardwareSpecs": false,
    "memoryGiB": 128,
    "name": "ml.g5.8xlarge",
    "vcpuNum": 32
   },
   {
    "_defaultOrder": 51,
    "_isFastLaunch": false,
    "category": "Accelerated computing",
    "gpuNum": 1,
    "hideHardwareSpecs": false,
    "memoryGiB": 256,
    "name": "ml.g5.16xlarge",
    "vcpuNum": 64
   },
   {
    "_defaultOrder": 52,
    "_isFastLaunch": false,
    "category": "Accelerated computing",
    "gpuNum": 4,
    "hideHardwareSpecs": false,
    "memoryGiB": 192,
    "name": "ml.g5.12xlarge",
    "vcpuNum": 48
   },
   {
    "_defaultOrder": 53,
    "_isFastLaunch": false,
    "category": "Accelerated computing",
    "gpuNum": 4,
    "hideHardwareSpecs": false,
    "memoryGiB": 384,
    "name": "ml.g5.24xlarge",
    "vcpuNum": 96
   },
   {
    "_defaultOrder": 54,
    "_isFastLaunch": false,
    "category": "Accelerated computing",
    "gpuNum": 8,
    "hideHardwareSpecs": false,
    "memoryGiB": 768,
    "name": "ml.g5.48xlarge",
    "vcpuNum": 192
   },
   {
    "_defaultOrder": 55,
    "_isFastLaunch": false,
    "category": "Accelerated computing",
    "gpuNum": 8,
    "hideHardwareSpecs": false,
    "memoryGiB": 1152,
    "name": "ml.p4d.24xlarge",
    "vcpuNum": 96
   },
   {
    "_defaultOrder": 56,
    "_isFastLaunch": false,
    "category": "Accelerated computing",
    "gpuNum": 8,
    "hideHardwareSpecs": false,
    "memoryGiB": 1152,
    "name": "ml.p4de.24xlarge",
    "vcpuNum": 96
   },
   {
    "_defaultOrder": 57,
    "_isFastLaunch": false,
    "category": "Accelerated computing",
    "gpuNum": 0,
    "hideHardwareSpecs": false,
    "memoryGiB": 32,
    "name": "ml.trn1.2xlarge",
    "vcpuNum": 8
   },
   {
    "_defaultOrder": 58,
    "_isFastLaunch": false,
    "category": "Accelerated computing",
    "gpuNum": 0,
    "hideHardwareSpecs": false,
    "memoryGiB": 512,
    "name": "ml.trn1.32xlarge",
    "vcpuNum": 128
   },
   {
    "_defaultOrder": 59,
    "_isFastLaunch": false,
    "category": "Accelerated computing",
    "gpuNum": 0,
    "hideHardwareSpecs": false,
    "memoryGiB": 512,
    "name": "ml.trn1n.32xlarge",
    "vcpuNum": 128
   }
  ],
  "instance_type": "ml.t3.medium",
  "kernelspec": {
   "display_name": "Python 3",
   "language": "python",
   "name": "python3"
  },
  "language_info": {
   "codemirror_mode": {
    "name": "ipython",
    "version": 3
   },
   "file_extension": ".py",
   "mimetype": "text/x-python",
   "name": "python",
   "nbconvert_exporter": "python",
   "pygments_lexer": "ipython3",
   "version": "3.12.2"
  }
 },
 "nbformat": 4,
 "nbformat_minor": 5
}
