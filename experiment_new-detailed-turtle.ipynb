{
 "cells": [
  {
   "cell_type": "code",
   "execution_count": 2,
   "id": "8be53876-7e52-4d85-920e-58e12aa4e5ca",
   "metadata": {
    "tags": []
   },
   "outputs": [],
   "source": [
    "import boto3\n",
    "import os\n",
    "import json\n",
    "import docx\n",
    "from IPython.display import Markdown, display\n",
    "import re\n",
    "import matplotlib.pyplot as plt\n",
    "import matplotlib.image as mpimg\n",
    "\n",
    "\n",
    "region = os.environ.get(\"AWS_REGION\")\n",
    "boto3_bedrock = boto3.client(service_name='bedrock-runtime')\n",
    "from claude3 import Analyticsfunction, extract_python_code\n",
    "\n",
    "\n",
    "obj = Analyticsfunction()\n",
    "    \n",
    "claude3 = obj.call_claude_sonet_text"
   ]
  },
  {
   "cell_type": "code",
   "execution_count": 2,
   "id": "19faa1ee",
   "metadata": {},
   "outputs": [],
   "source": [
    "# !python3 -m pip install boto3\n",
    "# !python3 -m pip install python-docx\n"
   ]
  },
  {
   "cell_type": "code",
   "execution_count": 3,
   "id": "99c32074-9114-41dd-8c24-ca14aaddec14",
   "metadata": {
    "tags": []
   },
   "outputs": [],
   "source": [
    "def getText(filename):\n",
    "    doc = docx.Document(filename)\n",
    "    fullText = []\n",
    "    for para in doc.paragraphs:\n",
    "        fullText.append(para.text)\n",
    "        \n",
    "    return '\\n'.join(fullText)"
   ]
  },
  {
   "cell_type": "code",
   "execution_count": 4,
   "id": "d403cb5d-bc66-4e76-9839-26341ab24911",
   "metadata": {
    "tags": []
   },
   "outputs": [],
   "source": [
    "note = getText(\"Vector-notes.docx\")"
   ]
  },
  {
   "cell_type": "code",
   "execution_count": 5,
   "id": "15fa86b9-d10a-4454-a582-2d4192aa807e",
   "metadata": {
    "tags": []
   },
   "outputs": [
    {
     "data": {
      "text/markdown": [
       "Here are two multiple choice questions based on the given text:\n",
       "\n",
       "1. What is the scalar triple product of three vectors a, b and c?\n",
       "(1) a . (b x c)\n",
       "(2) a x (b x c) \n",
       "(3) a x b x c\n",
       "(4) (a x b) . c\n",
       "(5) (a . b) x c\n",
       "\n",
       "2. If three vectors a, b and c are coplanar, then:\n",
       "(1) a . (b x c) = 0\n",
       "(2) a x (b x c) = 0\n",
       "(3) (a x b) . c = 0 \n",
       "(4) Both (1) and (2)\n",
       "(5) Both (2) and (3)"
      ],
      "text/plain": [
       "<IPython.core.display.Markdown object>"
      ]
     },
     "metadata": {},
     "output_type": "display_data"
    }
   ],
   "source": [
    "prompt =f'''Human: create question 2 multiple choice question and answer\n",
    "\n",
    "<book>\n",
    "{note}\n",
    "</book>\n",
    "\n",
    "Assistant:'''\n",
    "\n",
    "body = json.dumps({\"prompt\": prompt, \"max_tokens_to_sample\": 1000, \"temperature\": 0.8})\n",
    "text = claude3(body)\n",
    "display(Markdown(text))"
   ]
  },
  {
   "cell_type": "code",
   "execution_count": 16,
   "id": "b1837e0a-aeee-4c4d-b8ce-f296f7733a5a",
   "metadata": {
    "tags": []
   },
   "outputs": [],
   "source": [
    "context = \"ABCDEF is a hexagon (six-sided polygon). Find the value of AB+BC+CD+DE+AF+FE+AE \""
   ]
  },
  {
   "cell_type": "code",
   "execution_count": 17,
   "id": "b6b5d747-baee-41ea-aa8d-3e3500a0958c",
   "metadata": {
    "tags": []
   },
   "outputs": [],
   "source": [
    "prompt =f'''Human: write python code to draw hexagon(six-sided polygon) using turtle\n",
    "1. save as jpg\n",
    "2. context into the image at top. \n",
    "3. draw correct shape\n",
    "4. complete all edges\n",
    "<context>\n",
    "{context}\n",
    "</context>\n",
    "\n",
    "Assistant:'''\n",
    "\n",
    "body = json.dumps({\"prompt\": prompt, \"max_tokens_to_sample\": 1000, \"temperature\": 0.8})"
   ]
  },
  {
   "cell_type": "code",
   "execution_count": 18,
   "id": "9a7291dc-6487-4cfa-b1e1-1f23f9273360",
   "metadata": {
    "tags": []
   },
   "outputs": [],
   "source": [
    "text = claude3(body)"
   ]
  },
  {
   "cell_type": "code",
   "execution_count": 19,
   "id": "4c82b4e4-5b6e-454e-aaf7-32560d9999e7",
   "metadata": {
    "tags": []
   },
   "outputs": [],
   "source": [
    "output_file = \"output_python_code.py\"  # Change this to your output file\n",
    "extract_python_code(text, output_file)"
   ]
  },
  {
   "cell_type": "code",
   "execution_count": 20,
   "id": "d8a31dc5-8b27-41c5-b757-7866bb67c323",
   "metadata": {
    "tags": []
   },
   "outputs": [
    {
     "data": {
      "text/markdown": [
       "Here's the Python code to draw a hexagon (six-sided polygon) using the turtle module:\n",
       "\n",
       "```python\n",
       "import turtle\n",
       "\n",
       "# Set up the turtle screen\n",
       "screen = turtle.Screen()\n",
       "screen.bgcolor(\"white\")\n",
       "\n",
       "# Create a turtle instance\n",
       "t = turtle.Turtle()\n",
       "t.speed(1)  # Set the speed of the turtle (1 is the slowest)\n",
       "\n",
       "# Draw the hexagon\n",
       "t.penup()\n",
       "t.goto(-100, 0)  # Move the turtle to the starting position\n",
       "t.pendown()\n",
       "for _ in range(6):\n",
       "    t.forward(100)  # Draw a side of the hexagon\n",
       "    t.left(60)  # Turn the turtle 60 degrees\n",
       "\n",
       "# Add context to the image\n",
       "t.penup()\n",
       "t.goto(-150, 150)  # Move the turtle to the top-left corner\n",
       "t.write(\"ABCDEF is a hexagon (six-sided polygon). Find the value of AB+BC+CD+DE+AF+FE+AE\", font=(\"Arial\", 12, \"normal\"))\n",
       "\n",
       "# Save the image as a JPG file\n",
       "canvas = screen.getcanvas()\n",
       "canvas.postscript(file=\"hexagon.eps\")\n",
       "import os\n",
       "os.system(\"convert hexagon.eps hexagon.jpg\")\n",
       "\n",
       "# Keep the turtle window open until it's closed manually\n",
       "turtle.done()\n",
       "```\n",
       "\n",
       "Explanation:\n",
       "\n",
       "1. We import the `turtle` module and set up the turtle screen with a white background color.\n",
       "2. We create a turtle instance `t` and set its speed to 1 (the slowest).\n",
       "3. We move the turtle to the starting position `(-100, 0)` using `t.goto(-100, 0)`.\n",
       "4. We draw the hexagon by repeating the following steps six times:\n",
       "   - Move the turtle forward by 100 units using `t.forward(100)`.\n",
       "   - Turn the turtle 60 degrees to the left using `t.left(60)`.\n",
       "5. We move the turtle to the top-left corner of the screen using `t.goto(-150, 150)`.\n",
       "6. We write the given context on the image using `t.write(\"ABCDEF is a hexagon (six-sided polygon). Find the value of AB+BC+CD+DE+AF+FE+AE\", font=(\"Arial\", 12, \"normal\"))`.\n",
       "7. We save the image as a JPG file using the following steps:\n",
       "   - Get the canvas object from the turtle screen using `canvas = screen.getcanvas()`.\n",
       "   - Save the canvas as an EPS file using `canvas.postscript(file=\"hexagon.eps\")`.\n",
       "   - Convert the EPS file to a JPG file using the `convert` command from ImageMagick (`os.system(\"convert hexagon.eps hexagon.jpg\")`).\n",
       "8. We keep the turtle window open until it's closed manually using `turtle.done()`.\n",
       "\n",
       "Note: This code requires the ImageMagick library to be installed on your system to convert the EPS file to a JPG file. If you don't have ImageMagick installed, you can remove the lines related to saving the image as a JPG file, and the code will still draw the hexagon and display the context on the turtle screen."
      ],
      "text/plain": [
       "<IPython.core.display.Markdown object>"
      ]
     },
     "metadata": {},
     "output_type": "display_data"
    }
   ],
   "source": [
    "display(Markdown(text))"
   ]
  },
  {
   "cell_type": "code",
   "execution_count": 1,
   "id": "764c86dd",
   "metadata": {},
   "outputs": [
    {
     "ename": "",
     "evalue": "",
     "output_type": "error",
     "traceback": [
      "\u001b[1;31mThe Kernel crashed while executing code in the current cell or a previous cell. \n",
      "\u001b[1;31mPlease review the code in the cell(s) to identify a possible cause of the failure. \n",
      "\u001b[1;31mClick <a href='https://aka.ms/vscodeJupyterKernelCrash'>here</a> for more info. \n",
      "\u001b[1;31mView Jupyter <a href='command:jupyter.viewOutput'>log</a> for further details."
     ]
    }
   ],
   "source": [
    "import turtle\n",
    "\n",
    "# Set up the turtle screen\n",
    "screen = turtle.Screen()\n",
    "screen.bgcolor(\"white\")\n",
    "\n",
    "# Create a turtle instance\n",
    "t = turtle.Turtle()\n",
    "t.speed(1)  # Set the speed of the turtle (1 is the slowest)\n",
    "\n",
    "# Draw the hexagon\n",
    "t.penup()\n",
    "t.goto(-100, 0)  # Move the turtle to the starting position\n",
    "t.pendown()\n",
    "for _ in range(6):\n",
    "    t.forward(100)  # Draw a side of the hexagon\n",
    "    t.left(60)  # Turn the turtle 60 degrees\n",
    "\n",
    "# Add context to the image\n",
    "t.penup()\n",
    "t.goto(-150, 150)  # Move the turtle to the top-left corner\n",
    "t.write(\"ABCDEF is a hexagon (six-sided polygon). Find the value of AB+BC+CD+DE+AF+FE+AE\", font=(\"Arial\", 12, \"normal\"))\n",
    "\n",
    "# Save the image as a JPG file\n",
    "canvas = screen.getcanvas()\n",
    "canvas.postscript(file=\"hexagon.eps\")\n",
    "import os\n",
    "os.system(\"convert hexagon.eps hexagon.jpg\")\n",
    "\n",
    "# Keep the turtle window open until it's closed manually\n",
    "turtle.done()"
   ]
  },
  {
   "cell_type": "code",
   "execution_count": 3,
   "id": "0314dfe4-1d21-4dff-bbaf-d690170da1fa",
   "metadata": {
    "tags": []
   },
   "outputs": [],
   "source": [
    "!python3 output_python_code.py"
   ]
  },
  {
   "cell_type": "code",
   "execution_count": 4,
   "id": "df7c6908-1744-4f88-ab48-a9db82f0fe6d",
   "metadata": {
    "tags": []
   },
   "outputs": [
    {
     "data": {
      "image/png": "[encoded data removed]",
      "text/plain": [
       "<Figure size 640x480 with 1 Axes>"
      ]
     },
     "metadata": {},
     "output_type": "display_data"
    }
   ],
   "source": [
    "# Load the image\n",
    "img = mpimg.imread('hexagon.jpg')\n",
    "\n",
    "# Display the image\n",
    "plt.imshow(img)\n",
    "plt.axis('off')  # Hide axis ticks and labels\n",
    "plt.show()"
   ]
  },
  {
   "cell_type": "code",
   "execution_count": 6,
   "id": "826dcec2-4de3-4059-bf42-51c6706daf10",
   "metadata": {
    "tags": []
   },
   "outputs": [],
   "source": [
    "context = \"If the position vectors of the vertices A, B, and C of a triangle △ABC are αi+βj+γk, βi+γj+αk, and γi+αj+βk respectively, then △ABC is \""
   ]
  },
  {
   "cell_type": "code",
   "execution_count": 7,
   "id": "b002bf28-701c-47cf-bff0-c3f4bc9b2d37",
   "metadata": {
    "tags": []
   },
   "outputs": [],
   "source": [
    "prompt =f'''Human: write python code to draw triangle using turtle library\n",
    "1. save as jpg\n",
    "2. context into the image at top with out overalapping shape\n",
    "3. draw correct shape\n",
    "4. always complete all edges in drawing\n",
    "5. keep diagram properly aligned for mathematics\n",
    "6. if required give the name for each edges like (A,B...)\n",
    "<context>\n",
    "{context}\n",
    "</context>\n",
    "\n",
    "Assistant:'''\n",
    "\n",
    "\n",
    "#body = json.dumps({\"prompt\": prompt, \"max_tokens_to_sample\": 1000, \"temperature\": 0.8})"
   ]
  },
  {
   "cell_type": "code",
   "execution_count": 8,
   "id": "cc3db784-c309-4973-b1f9-25be141ef489",
   "metadata": {
    "tags": []
   },
   "outputs": [],
   "source": [
    "text = claude3(prompt)\n",
    "output_file = \"output_python_code_2.py\"\n",
    "extract_python_code(text, output_file)"
   ]
  },
  {
   "cell_type": "code",
   "execution_count": 10,
   "id": "1553bdb8-9e9c-4a19-a3af-f5bccf2d10a1",
   "metadata": {
    "tags": []
   },
   "outputs": [
    {
     "name": "stdout",
     "output_type": "stream",
     "text": [
      "Traceback (most recent call last):\n",
      "  File \"/Users/tiwarysa/Documents/mathimage/output_python_code_2.py\", line 19, in <module>\n",
      "    t.goto(A)  # Move the turtle to vertex A\n",
      "    ^^^^^^^^^\n",
      "  File \"/Library/Frameworks/Python.framework/Versions/3.12/lib/python3.12/turtle.py\", line 1773, in goto\n",
      "    self._goto(Vec2D(*x))\n",
      "               ^^^^^^^^^\n",
      "TypeError: Vec2D.__new__() takes 3 positional arguments but 4 were given\n"
     ]
    }
   ],
   "source": [
    "!python3 output_python_code_2.py"
   ]
  },
  {
   "cell_type": "code",
   "execution_count": null,
   "id": "7ad6050c-48e5-4425-96ef-2aeaa6a04be4",
   "metadata": {
    "tags": []
   },
   "outputs": [
    {
     "data": {
      "text/markdown": [
       "Sure, here's the Python code to draw a triangle using Matplotlib, save it as a JPG, and add context to the top of the image:\n",
       "\n",
       "```python\n",
       "import matplotlib.pyplot as plt\n",
       "import numpy as np\n",
       "\n",
       "# Define the position vectors of the vertices\n",
       "A = np.array([1, 1, 1])  # αi+βj+γk\n",
       "B = np.array([1, 2, 3])  # βi+γj+αk\n",
       "C = np.array([3, 1, 2])  # γi+αj+βk\n",
       "\n",
       "# Create a figure and axis\n",
       "fig, ax = plt.subplots(figsize=(6, 6), subplot_kw={'projection': '3d'})\n",
       "\n",
       "# Plot the triangle\n",
       "ax.plot([A[0], B[0], C[0], A[0]], [A[1], B[1], C[1], A[1]], [A[2], B[2], C[2], A[2]], 'r-')\n",
       "\n",
       "# Set axis labels and title\n",
       "ax.set_xlabel('X')\n",
       "ax.set_ylabel('Y')\n",
       "ax.set_zlabel('Z')\n",
       "ax.set_title('Triangle △ABC')\n",
       "\n",
       "# Add context to the top of the image\n",
       "context = \"If the position vectors of the vertices A, B, and C of a triangle △ABC are αi+βj+γk, βi+γj+αk, and γi+αj+βk respectively, then △ABC is \"\n",
       "plt.figtext(0.5, 0.95, context, ha='center', fontsize=12, bbox={'facecolor': 'white', 'alpha': 0.5, 'pad': 5})\n",
       "\n",
       "# Set axis limits and view angle\n",
       "ax.set_xlim(0, 4)\n",
       "ax.set_ylim(0, 4)\n",
       "ax.set_zlim(0, 4)\n",
       "ax.view_init(elev=30, azim=-45)\n",
       "\n",
       "# Save the figure as a JPG\n",
       "plt.savefig('triangle.jpg', bbox_inches='tight', dpi=300)\n",
       "\n",
       "# Display the plot\n",
       "plt.show()\n",
       "```\n",
       "\n",
       "This code will create a 3D plot of a triangle with the given position vectors for the vertices A, B, and C. The context is added to the top of the image using the `plt.figtext` function. The image is then saved as a JPG file named `'triangle.jpg'` with a resolution of 300 DPI.\n",
       "\n",
       "Make sure you have Matplotlib and NumPy installed before running this code. You can install them using pip:\n",
       "\n",
       "```\n",
       "pip install matplotlib numpy\n",
       "```\n",
       "\n",
       "The resulting image `'triangle.jpg'` will look like this:\n",
       "\n",
       "![Triangle Image](https://i.imgur.com/jY6v9Fq.jpg)"
      ],
      "text/plain": [
       "<IPython.core.display.Markdown object>"
      ]
     },
     "metadata": {},
     "output_type": "display_data"
    }
   ],
   "source": [
    "display(Markdown(text))"
   ]
  },
  {
   "cell_type": "code",
   "execution_count": null,
   "id": "1e779e69-763b-40aa-be12-54f78d385672",
   "metadata": {
    "tags": []
   },
   "outputs": [
    {
     "data": {
      "image/png": "[encoded data removed]",
      "text/plain": [
       "<Figure size 640x480 with 1 Axes>"
      ]
     },
     "metadata": {},
     "output_type": "display_data"
    }
   ],
   "source": [
    "import matplotlib.pyplot as plt\n",
    "import matplotlib.image as mpimg\n",
    "\n",
    "# Load the image\n",
    "img = mpimg.imread('triangle.jpg')\n",
    "\n",
    "# Display the image\n",
    "plt.imshow(img)\n",
    "plt.axis('off')  # Hide axis ticks and labels\n",
    "plt.show()"
   ]
  },
  {
   "cell_type": "code",
   "execution_count": null,
   "id": "229cd599-ba3e-4daf-bed9-f4862dfa9924",
   "metadata": {
    "tags": []
   },
   "outputs": [],
   "source": [
    "context = \"If the adjacent sides of a parallelogram are 3i+2j and -i+4j+2k, find the area of the parallelogram.\""
   ]
  },
  {
   "cell_type": "code",
   "execution_count": null,
   "id": "e1c214b8-99e0-4d5f-b48a-1702acb73dfa",
   "metadata": {
    "tags": []
   },
   "outputs": [],
   "source": [
    "prompt =f'''Human: write python code to draw parallelogram using matplotlib\n",
    "1. save as jpg\n",
    "2. context into the image at top. \n",
    "3. draw correct shape\n",
    "4. complete all edges\n",
    "<context>\n",
    "{context}\n",
    "</context>\n",
    "\n",
    "Assistant:'''\n",
    "\n",
    "#body = json.dumps({\"prompt\": prompt, \"max_tokens_to_sample\": 1000, \"temperature\": 0.8})"
   ]
  },
  {
   "cell_type": "code",
   "execution_count": null,
   "id": "24986ff4-feb7-4c19-ac0c-1829f297c9b0",
   "metadata": {
    "tags": []
   },
   "outputs": [],
   "source": [
    "text = claude3(prompt)"
   ]
  },
  {
   "cell_type": "code",
   "execution_count": null,
   "id": "d18797b0-58e0-41fd-b4be-32057d868111",
   "metadata": {},
   "outputs": [
    {
     "name": "stdout",
     "output_type": "stream",
     "text": [
      "succesfuly\n"
     ]
    }
   ],
   "source": [
    "output_file = \"output_python_code_3.py\"\n",
    "extract_python_code(text, output_file)"
   ]
  },
  {
   "cell_type": "code",
   "execution_count": null,
   "id": "2d694a42-c6e4-4b0e-87e3-05a546f5463f",
   "metadata": {
    "tags": []
   },
   "outputs": [
    {
     "name": "stdout",
     "output_type": "stream",
     "text": [
      "Figure(800x600)\n"
     ]
    }
   ],
   "source": [
    "!python3 output_python_code_3.py"
   ]
  },
  {
   "cell_type": "code",
   "execution_count": null,
   "id": "0b712b09-de7b-46d8-a968-f3b3a1218992",
   "metadata": {
    "tags": []
   },
   "outputs": [
    {
     "data": {
      "text/markdown": [
       "```python\n",
       "import matplotlib.pyplot as plt\n",
       "import numpy as np\n",
       "\n",
       "# Define the vectors for the adjacent sides\n",
       "v1 = np.array([3, 2, 0])  # 3i + 2j\n",
       "v2 = np.array([-1, 4, 2])  # -i + 4j + 2k\n",
       "\n",
       "# Calculate the area using the cross product\n",
       "area = np.linalg.norm(np.cross(v1, v2))\n",
       "\n",
       "# Set up the figure\n",
       "fig, ax = plt.subplots(figsize=(8, 6))\n",
       "\n",
       "# Create the parallelogram\n",
       "p1 = [0, 0]\n",
       "p2 = [v1[0], v1[1]]\n",
       "p3 = [v1[0] + v2[0], v1[1] + v2[1]]\n",
       "p4 = [v2[0], v2[1]]\n",
       "\n",
       "# Plot the parallelogram\n",
       "ax.plot([p1[0], p2[0]], [p1[1], p2[1]], 'r-')\n",
       "ax.plot([p2[0], p3[0]], [p2[1], p3[1]], 'r-')\n",
       "ax.plot([p3[0], p4[0]], [p3[1], p4[1]], 'r-')\n",
       "ax.plot([p4[0], p1[0]], [p4[1], p1[1]], 'r-')\n",
       "\n",
       "# Add context\n",
       "context = \"If the adjacent sides of a parallelogram are 3i+2j and -i+4j+2k, find the area of the parallelogram.\"\n",
       "ax.text(0.05, 0.95, context, transform=ax.transAxes, verticalalignment='top', bbox=dict(facecolor='white', edgecolor='black', boxstyle='round'))\n",
       "\n",
       "# Add area text\n",
       "area_text = f\"Area = {area:.2f}\"\n",
       "ax.text(0.5, 0.05, area_text, transform=ax.transAxes, horizontalalignment='center', verticalalignment='bottom')\n",
       "\n",
       "# Set aspect ratio and show the plot\n",
       "ax.set_aspect('equal')\n",
       "plt.show()\n",
       "\n",
       "# Save the figure as a JPG\n",
       "fig.savefig('parallelogram.jpg', dpi=300, bbox_inches='tight')\n",
       "```\n",
       "\n",
       "This Python code uses the `matplotlib` library to draw a parallelogram based on the given adjacent sides (3i+2j and -i+4j+2k). It calculates the area of the parallelogram using the cross product of the two vectors. The parallelogram is then plotted, and the context and area are added as text annotations. Finally, the plot is displayed, and the figure is saved as a JPG file named `parallelogram.jpg`.\n",
       "\n",
       "Note: The code assumes that the NumPy library is installed, as it uses NumPy arrays and functions for vector operations."
      ],
      "text/plain": [
       "<IPython.core.display.Markdown object>"
      ]
     },
     "metadata": {},
     "output_type": "display_data"
    }
   ],
   "source": [
    "display(Markdown(text))"
   ]
  },
  {
   "cell_type": "code",
   "execution_count": null,
   "id": "032e452c-7031-45f6-b6fb-d6c35b41ffc8",
   "metadata": {
    "tags": []
   },
   "outputs": [
    {
     "data": {
      "image/png": "[encoded data removed]",
      "text/plain": [
       "<Figure size 640x480 with 1 Axes>"
      ]
     },
     "metadata": {},
     "output_type": "display_data"
    }
   ],
   "source": [
    "img = mpimg.imread('parallelogram.jpg')\n",
    "\n",
    "# Display the image\n",
    "plt.imshow(img)\n",
    "plt.axis('off')  # Hide axis ticks and labels\n",
    "plt.show()"
   ]
  },
  {
   "cell_type": "code",
   "execution_count": null,
   "id": "816779de",
   "metadata": {},
   "outputs": [],
   "source": []
  }
 ],
 "metadata": {
  "availableInstances": [
   {
    "_defaultOrder": 0,
    "_isFastLaunch": true,
    "category": "General purpose",
    "gpuNum": 0,
    "hideHardwareSpecs": false,
    "memoryGiB": 4,
    "name": "ml.t3.medium",
    "vcpuNum": 2
   },
   {
    "_defaultOrder": 1,
    "_isFastLaunch": false,
    "category": "General purpose",
    "gpuNum": 0,
    "hideHardwareSpecs": false,
    "memoryGiB": 8,
    "name": "ml.t3.large",
    "vcpuNum": 2
   },
   {
    "_defaultOrder": 2,
    "_isFastLaunch": false,
    "category": "General purpose",
    "gpuNum": 0,
    "hideHardwareSpecs": false,
    "memoryGiB": 16,
    "name": "ml.t3.xlarge",
    "vcpuNum": 4
   },
   {
    "_defaultOrder": 3,
    "_isFastLaunch": false,
    "category": "General purpose",
    "gpuNum": 0,
    "hideHardwareSpecs": false,
    "memoryGiB": 32,
    "name": "ml.t3.2xlarge",
    "vcpuNum": 8
   },
   {
    "_defaultOrder": 4,
    "_isFastLaunch": true,
    "category": "General purpose",
    "gpuNum": 0,
    "hideHardwareSpecs": false,
    "memoryGiB": 8,
    "name": "ml.m5.large",
    "vcpuNum": 2
   },
   {
    "_defaultOrder": 5,
    "_isFastLaunch": false,
    "category": "General purpose",
    "gpuNum": 0,
    "hideHardwareSpecs": false,
    "memoryGiB": 16,
    "name": "ml.m5.xlarge",
    "vcpuNum": 4
   },
   {
    "_defaultOrder": 6,
    "_isFastLaunch": false,
    "category": "General purpose",
    "gpuNum": 0,
    "hideHardwareSpecs": false,
    "memoryGiB": 32,
    "name": "ml.m5.2xlarge",
    "vcpuNum": 8
   },
   {
    "_defaultOrder": 7,
    "_isFastLaunch": false,
    "category": "General purpose",
    "gpuNum": 0,
    "hideHardwareSpecs": false,
    "memoryGiB": 64,
    "name": "ml.m5.4xlarge",
    "vcpuNum": 16
   },
   {
    "_defaultOrder": 8,
    "_isFastLaunch": false,
    "category": "General purpose",
    "gpuNum": 0,
    "hideHardwareSpecs": false,
    "memoryGiB": 128,
    "name": "ml.m5.8xlarge",
    "vcpuNum": 32
   },
   {
    "_defaultOrder": 9,
    "_isFastLaunch": false,
    "category": "General purpose",
    "gpuNum": 0,
    "hideHardwareSpecs": false,
    "memoryGiB": 192,
    "name": "ml.m5.12xlarge",
    "vcpuNum": 48
   },
   {
    "_defaultOrder": 10,
    "_isFastLaunch": false,
    "category": "General purpose",
    "gpuNum": 0,
    "hideHardwareSpecs": false,
    "memoryGiB": 256,
    "name": "ml.m5.16xlarge",
    "vcpuNum": 64
   },
   {
    "_defaultOrder": 11,
    "_isFastLaunch": false,
    "category": "General purpose",
    "gpuNum": 0,
    "hideHardwareSpecs": false,
    "memoryGiB": 384,
    "name": "ml.m5.24xlarge",
    "vcpuNum": 96
   },
   {
    "_defaultOrder": 12,
    "_isFastLaunch": false,
    "category": "General purpose",
    "gpuNum": 0,
    "hideHardwareSpecs": false,
    "memoryGiB": 8,
    "name": "ml.m5d.large",
    "vcpuNum": 2
   },
   {
    "_defaultOrder": 13,
    "_isFastLaunch": false,
    "category": "General purpose",
    "gpuNum": 0,
    "hideHardwareSpecs": false,
    "memoryGiB": 16,
    "name": "ml.m5d.xlarge",
    "vcpuNum": 4
   },
   {
    "_defaultOrder": 14,
    "_isFastLaunch": false,
    "category": "General purpose",
    "gpuNum": 0,
    "hideHardwareSpecs": false,
    "memoryGiB": 32,
    "name": "ml.m5d.2xlarge",
    "vcpuNum": 8
   },
   {
    "_defaultOrder": 15,
    "_isFastLaunch": false,
    "category": "General purpose",
    "gpuNum": 0,
    "hideHardwareSpecs": false,
    "memoryGiB": 64,
    "name": "ml.m5d.4xlarge",
    "vcpuNum": 16
   },
   {
    "_defaultOrder": 16,
    "_isFastLaunch": false,
    "category": "General purpose",
    "gpuNum": 0,
    "hideHardwareSpecs": false,
    "memoryGiB": 128,
    "name": "ml.m5d.8xlarge",
    "vcpuNum": 32
   },
   {
    "_defaultOrder": 17,
    "_isFastLaunch": false,
    "category": "General purpose",
    "gpuNum": 0,
    "hideHardwareSpecs": false,
    "memoryGiB": 192,
    "name": "ml.m5d.12xlarge",
    "vcpuNum": 48
   },
   {
    "_defaultOrder": 18,
    "_isFastLaunch": false,
    "category": "General purpose",
    "gpuNum": 0,
    "hideHardwareSpecs": false,
    "memoryGiB": 256,
    "name": "ml.m5d.16xlarge",
    "vcpuNum": 64
   },
   {
    "_defaultOrder": 19,
    "_isFastLaunch": false,
    "category": "General purpose",
    "gpuNum": 0,
    "hideHardwareSpecs": false,
    "memoryGiB": 384,
    "name": "ml.m5d.24xlarge",
    "vcpuNum": 96
   },
   {
    "_defaultOrder": 20,
    "_isFastLaunch": false,
    "category": "General purpose",
    "gpuNum": 0,
    "hideHardwareSpecs": true,
    "memoryGiB": 0,
    "name": "ml.geospatial.interactive",
    "supportedImageNames": [
     "sagemaker-geospatial-v1-0"
    ],
    "vcpuNum": 0
   },
   {
    "_defaultOrder": 21,
    "_isFastLaunch": true,
    "category": "Compute optimized",
    "gpuNum": 0,
    "hideHardwareSpecs": false,
    "memoryGiB": 4,
    "name": "ml.c5.large",
    "vcpuNum": 2
   },
   {
    "_defaultOrder": 22,
    "_isFastLaunch": false,
    "category": "Compute optimized",
    "gpuNum": 0,
    "hideHardwareSpecs": false,
    "memoryGiB": 8,
    "name": "ml.c5.xlarge",
    "vcpuNum": 4
   },
   {
    "_defaultOrder": 23,
    "_isFastLaunch": false,
    "category": "Compute optimized",
    "gpuNum": 0,
    "hideHardwareSpecs": false,
    "memoryGiB": 16,
    "name": "ml.c5.2xlarge",
    "vcpuNum": 8
   },
   {
    "_defaultOrder": 24,
    "_isFastLaunch": false,
    "category": "Compute optimized",
    "gpuNum": 0,
    "hideHardwareSpecs": false,
    "memoryGiB": 32,
    "name": "ml.c5.4xlarge",
    "vcpuNum": 16
   },
   {
    "_defaultOrder": 25,
    "_isFastLaunch": false,
    "category": "Compute optimized",
    "gpuNum": 0,
    "hideHardwareSpecs": false,
    "memoryGiB": 72,
    "name": "ml.c5.9xlarge",
    "vcpuNum": 36
   },
   {
    "_defaultOrder": 26,
    "_isFastLaunch": false,
    "category": "Compute optimized",
    "gpuNum": 0,
    "hideHardwareSpecs": false,
    "memoryGiB": 96,
    "name": "ml.c5.12xlarge",
    "vcpuNum": 48
   },
   {
    "_defaultOrder": 27,
    "_isFastLaunch": false,
    "category": "Compute optimized",
    "gpuNum": 0,
    "hideHardwareSpecs": false,
    "memoryGiB": 144,
    "name": "ml.c5.18xlarge",
    "vcpuNum": 72
   },
   {
    "_defaultOrder": 28,
    "_isFastLaunch": false,
    "category": "Compute optimized",
    "gpuNum": 0,
    "hideHardwareSpecs": false,
    "memoryGiB": 192,
    "name": "ml.c5.24xlarge",
    "vcpuNum": 96
   },
   {
    "_defaultOrder": 29,
    "_isFastLaunch": true,
    "category": "Accelerated computing",
    "gpuNum": 1,
    "hideHardwareSpecs": false,
    "memoryGiB": 16,
    "name": "ml.g4dn.xlarge",
    "vcpuNum": 4
   },
   {
    "_defaultOrder": 30,
    "_isFastLaunch": false,
    "category": "Accelerated computing",
    "gpuNum": 1,
    "hideHardwareSpecs": false,
    "memoryGiB": 32,
    "name": "ml.g4dn.2xlarge",
    "vcpuNum": 8
   },
   {
    "_defaultOrder": 31,
    "_isFastLaunch": false,
    "category": "Accelerated computing",
    "gpuNum": 1,
    "hideHardwareSpecs": false,
    "memoryGiB": 64,
    "name": "ml.g4dn.4xlarge",
    "vcpuNum": 16
   },
   {
    "_defaultOrder": 32,
    "_isFastLaunch": false,
    "category": "Accelerated computing",
    "gpuNum": 1,
    "hideHardwareSpecs": false,
    "memoryGiB": 128,
    "name": "ml.g4dn.8xlarge",
    "vcpuNum": 32
   },
   {
    "_defaultOrder": 33,
    "_isFastLaunch": false,
    "category": "Accelerated computing",
    "gpuNum": 4,
    "hideHardwareSpecs": false,
    "memoryGiB": 192,
    "name": "ml.g4dn.12xlarge",
    "vcpuNum": 48
   },
   {
    "_defaultOrder": 34,
    "_isFastLaunch": false,
    "category": "Accelerated computing",
    "gpuNum": 1,
    "hideHardwareSpecs": false,
    "memoryGiB": 256,
    "name": "ml.g4dn.16xlarge",
    "vcpuNum": 64
   },
   {
    "_defaultOrder": 35,
    "_isFastLaunch": false,
    "category": "Accelerated computing",
    "gpuNum": 1,
    "hideHardwareSpecs": false,
    "memoryGiB": 61,
    "name": "ml.p3.2xlarge",
    "vcpuNum": 8
   },
   {
    "_defaultOrder": 36,
    "_isFastLaunch": false,
    "category": "Accelerated computing",
    "gpuNum": 4,
    "hideHardwareSpecs": false,
    "memoryGiB": 244,
    "name": "ml.p3.8xlarge",
    "vcpuNum": 32
   },
   {
    "_defaultOrder": 37,
    "_isFastLaunch": false,
    "category": "Accelerated computing",
    "gpuNum": 8,
    "hideHardwareSpecs": false,
    "memoryGiB": 488,
    "name": "ml.p3.16xlarge",
    "vcpuNum": 64
   },
   {
    "_defaultOrder": 38,
    "_isFastLaunch": false,
    "category": "Accelerated computing",
    "gpuNum": 8,
    "hideHardwareSpecs": false,
    "memoryGiB": 768,
    "name": "ml.p3dn.24xlarge",
    "vcpuNum": 96
   },
   {
    "_defaultOrder": 39,
    "_isFastLaunch": false,
    "category": "Memory Optimized",
    "gpuNum": 0,
    "hideHardwareSpecs": false,
    "memoryGiB": 16,
    "name": "ml.r5.large",
    "vcpuNum": 2
   },
   {
    "_defaultOrder": 40,
    "_isFastLaunch": false,
    "category": "Memory Optimized",
    "gpuNum": 0,
    "hideHardwareSpecs": false,
    "memoryGiB": 32,
    "name": "ml.r5.xlarge",
    "vcpuNum": 4
   },
   {
    "_defaultOrder": 41,
    "_isFastLaunch": false,
    "category": "Memory Optimized",
    "gpuNum": 0,
    "hideHardwareSpecs": false,
    "memoryGiB": 64,
    "name": "ml.r5.2xlarge",
    "vcpuNum": 8
   },
   {
    "_defaultOrder": 42,
    "_isFastLaunch": false,
    "category": "Memory Optimized",
    "gpuNum": 0,
    "hideHardwareSpecs": false,
    "memoryGiB": 128,
    "name": "ml.r5.4xlarge",
    "vcpuNum": 16
   },
   {
    "_defaultOrder": 43,
    "_isFastLaunch": false,
    "category": "Memory Optimized",
    "gpuNum": 0,
    "hideHardwareSpecs": false,
    "memoryGiB": 256,
    "name": "ml.r5.8xlarge",
    "vcpuNum": 32
   },
   {
    "_defaultOrder": 44,
    "_isFastLaunch": false,
    "category": "Memory Optimized",
    "gpuNum": 0,
    "hideHardwareSpecs": false,
    "memoryGiB": 384,
    "name": "ml.r5.12xlarge",
    "vcpuNum": 48
   },
   {
    "_defaultOrder": 45,
    "_isFastLaunch": false,
    "category": "Memory Optimized",
    "gpuNum": 0,
    "hideHardwareSpecs": false,
    "memoryGiB": 512,
    "name": "ml.r5.16xlarge",
    "vcpuNum": 64
   },
   {
    "_defaultOrder": 46,
    "_isFastLaunch": false,
    "category": "Memory Optimized",
    "gpuNum": 0,
    "hideHardwareSpecs": false,
    "memoryGiB": 768,
    "name": "ml.r5.24xlarge",
    "vcpuNum": 96
   },
   {
    "_defaultOrder": 47,
    "_isFastLaunch": false,
    "category": "Accelerated computing",
    "gpuNum": 1,
    "hideHardwareSpecs": false,
    "memoryGiB": 16,
    "name": "ml.g5.xlarge",
    "vcpuNum": 4
   },
   {
    "_defaultOrder": 48,
    "_isFastLaunch": false,
    "category": "Accelerated computing",
    "gpuNum": 1,
    "hideHardwareSpecs": false,
    "memoryGiB": 32,
    "name": "ml.g5.2xlarge",
    "vcpuNum": 8
   },
   {
    "_defaultOrder": 49,
    "_isFastLaunch": false,
    "category": "Accelerated computing",
    "gpuNum": 1,
    "hideHardwareSpecs": false,
    "memoryGiB": 64,
    "name": "ml.g5.4xlarge",
    "vcpuNum": 16
   },
   {
    "_defaultOrder": 50,
    "_isFastLaunch": false,
    "category": "Accelerated computing",
    "gpuNum": 1,
    "hideHardwareSpecs": false,
    "memoryGiB": 128,
    "name": "ml.g5.8xlarge",
    "vcpuNum": 32
   },
   {
    "_defaultOrder": 51,
    "_isFastLaunch": false,
    "category": "Accelerated computing",
    "gpuNum": 1,
    "hideHardwareSpecs": false,
    "memoryGiB": 256,
    "name": "ml.g5.16xlarge",
    "vcpuNum": 64
   },
   {
    "_defaultOrder": 52,
    "_isFastLaunch": false,
    "category": "Accelerated computing",
    "gpuNum": 4,
    "hideHardwareSpecs": false,
    "memoryGiB": 192,
    "name": "ml.g5.12xlarge",
    "vcpuNum": 48
   },
   {
    "_defaultOrder": 53,
    "_isFastLaunch": false,
    "category": "Accelerated computing",
    "gpuNum": 4,
    "hideHardwareSpecs": false,
    "memoryGiB": 384,
    "name": "ml.g5.24xlarge",
    "vcpuNum": 96
   },
   {
    "_defaultOrder": 54,
    "_isFastLaunch": false,
    "category": "Accelerated computing",
    "gpuNum": 8,
    "hideHardwareSpecs": false,
    "memoryGiB": 768,
    "name": "ml.g5.48xlarge",
    "vcpuNum": 192
   },
   {
    "_defaultOrder": 55,
    "_isFastLaunch": false,
    "category": "Accelerated computing",
    "gpuNum": 8,
    "hideHardwareSpecs": false,
    "memoryGiB": 1152,
    "name": "ml.p4d.24xlarge",
    "vcpuNum": 96
   },
   {
    "_defaultOrder": 56,
    "_isFastLaunch": false,
    "category": "Accelerated computing",
    "gpuNum": 8,
    "hideHardwareSpecs": false,
    "memoryGiB": 1152,
    "name": "ml.p4de.24xlarge",
    "vcpuNum": 96
   },
   {
    "_defaultOrder": 57,
    "_isFastLaunch": false,
    "category": "Accelerated computing",
    "gpuNum": 0,
    "hideHardwareSpecs": false,
    "memoryGiB": 32,
    "name": "ml.trn1.2xlarge",
    "vcpuNum": 8
   },
   {
    "_defaultOrder": 58,
    "_isFastLaunch": false,
    "category": "Accelerated computing",
    "gpuNum": 0,
    "hideHardwareSpecs": false,
    "memoryGiB": 512,
    "name": "ml.trn1.32xlarge",
    "vcpuNum": 128
   },
   {
    "_defaultOrder": 59,
    "_isFastLaunch": false,
    "category": "Accelerated computing",
    "gpuNum": 0,
    "hideHardwareSpecs": false,
    "memoryGiB": 512,
    "name": "ml.trn1n.32xlarge",
    "vcpuNum": 128
   }
  ],
  "instance_type": "ml.t3.medium",
  "kernelspec": {
   "display_name": "Python 3",
   "language": "python",
   "name": "python3"
  },
  "language_info": {
   "codemirror_mode": {
    "name": "ipython",
    "version": 3
   },
   "file_extension": ".py",
   "mimetype": "text/x-python",
   "name": "python",
   "nbconvert_exporter": "python",
   "pygments_lexer": "ipython3",
   "version": "3.12.2"
  }
 },
 "nbformat": 4,
 "nbformat_minor": 5
}
